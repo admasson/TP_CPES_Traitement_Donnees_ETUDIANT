{
 "cells": [
  {
   "cell_type": "markdown",
   "id": "9dabc504-53fc-4a64-bfa7-722edf0789f7",
   "metadata": {
    "tags": []
   },
   "source": [
    "# **CPES 2 : Traitement de données spectroscopiques**\n",
    "\n",
    "Année 2024-2025\n",
    "\n",
    "> **Noms:**\n",
    "\n",
    "> **Prénoms:**"
   ]
  },
  {
   "cell_type": "markdown",
   "id": "371f37a2-d53a-44ca-a486-f931ffc4ff15",
   "metadata": {},
   "source": [
    "Le but de ce TP est d'aborder les différentes notions et étapes du traitement de données dans le cadre d'observations spectroscopiques. La méthodologie peut ensuite être appliquée à un vaste champ d'observations spectroscopiques en astronomie (étude d'étoiles, de planètes...) dont quelques exemples seront explorés au cours de cette séance.\n",
    "\n",
    "<font color='red'> **Ce notebook fait office de compte-rendu. Vous compléterez le code et rédigerez vos réponses directement dessus, afin de rendre un notebook par groupe à la fin de la séance.**\n",
    "    \n",
    "<font color='red'> **Pensez à renommer le nom de ce notebook avec vos noms et prénoms sous la forme : NOM_PRENOM_TP_CPES2.ipynb**\n"
   ]
  },
  {
   "cell_type": "markdown",
   "id": "97429a63-e460-45cf-9a6d-2a791ffb6c59",
   "metadata": {},
   "source": [
    "***"
   ]
  },
  {
   "cell_type": "markdown",
   "id": "9ac3a85e",
   "metadata": {},
   "source": [
    "## **1 - Introduction <font color='red'> (à lire à la maison: préparez les questions 1 à 10!)**\n"
   ]
  },
  {
   "cell_type": "markdown",
   "id": "8abd288d-27ea-4dc3-a84e-fd22390da00e",
   "metadata": {
    "tags": []
   },
   "source": [
    "### **1.1 - Première utilisation du notebook : guide d'installation**"
   ]
  },
  {
   "cell_type": "markdown",
   "id": "c614ac3b-61fb-4041-b209-6d6a40944ee7",
   "metadata": {},
   "source": [
    "Le notebook est accessible sur le dépôt Github suivant: https://github.com/admasson/TP_CPES_Traitement_Donnees_ETUDIANT. \n",
    "\n",
    "Il peut être téléchargé en cliquant sur \"code\" puis \"Download ZIP\", ou bien avec une commande github en ouvrant un terminal dans le dossier de votre choix et en tapant:\n",
    "\n",
    "$ git clone https://github.com/admasson/TP_CPES_Traitement_Donnees_ETUDIANT.git\n",
    "\n",
    "Commencer par récuperer le TP et placez les fichiers dans *Documents* puis ouvrir un terminal et taper la commande suivante :\n",
    "\n",
    "```\n",
    "$ cd Documents/NOM_DU_DOSSIER/\n",
    "```\n",
    "\n",
    "Pour que le notebook fonctionne correctement, celui-ci doit être lancé via **Jupyter Lab** (et pas Jupyter Notebook !) et requiert l'installation de quelques extensions pour l'utilisation de widgets matplotlib. Pour cela, lancer depuis le terminal les commandes suivantes :"
   ]
  },
  {
   "cell_type": "markdown",
   "id": "9b0d264b-3832-4d88-bbc4-f63b8e8900dc",
   "metadata": {},
   "source": [
    "```\n",
    "$ pip install -r requirements.txt\n",
    "$ jupyter labextension install @jupyter-widgets/jupyterlab-manager jupyter-matplotlib\n",
    "```"
   ]
  },
  {
   "cell_type": "markdown",
   "id": "ff04f72e-d3e0-4d52-a1f3-b340f9760669",
   "metadata": {},
   "source": [
    "Une version HTML est aussi disponible afin de pouvoir consulter le notebook sans jupyter lab. Il suffit d'ouvrir la version html avec un navigateur.\n",
    "\n",
    "**<font color='red'> Ne pas oublier de redemarrer entierement le notebook après avoir executé ces commandes. Le notebook ne sera pas exploitable dans sa globalité sans ces commandes !<font color='black'>**"
   ]
  },
  {
   "cell_type": "markdown",
   "id": "83bb7985-b2c4-406c-9da2-4ffee48bf9d0",
   "metadata": {},
   "source": [
    "\n",
    "Jupyter Lab peut ensuite être directement lancé via le terminal avec la commande :"
   ]
  },
  {
   "cell_type": "markdown",
   "id": "9ca40406-a48f-4468-af2b-ae5271af6317",
   "metadata": {},
   "source": [
    "```\n",
    "$ jupyter lab\n",
    "```"
   ]
  },
  {
   "cell_type": "markdown",
   "id": "4df354e1",
   "metadata": {},
   "source": [
    "### **1.2 - Les bases de Python et de Jupyter Lab**"
   ]
  },
  {
   "cell_type": "markdown",
   "id": "d61bca1c",
   "metadata": {},
   "source": [
    "Dans ce TP, nous utiliserons Python dans un Jupyter Notebook. Voici un rappel rapide des bases de Python et quelques raccourcis utiles dans Jupyter.\n",
    "\n",
    "Python est un langage interprété qui permet de définir des variables sans spécifier leur type. Voici les types de base."
   ]
  },
  {
   "cell_type": "code",
   "execution_count": 1,
   "id": "dc058abf",
   "metadata": {},
   "outputs": [
    {
     "name": "stdout",
     "output_type": "stream",
     "text": [
      "10 3.14 Bonjour True\n"
     ]
    }
   ],
   "source": [
    "# Déclaration de variables\n",
    "entier = 10          # Integer (entier)\n",
    "flottant = 3.14      # Float (nombre décimal)\n",
    "chaine = \"Bonjour\"   # String (chaîne de caractères)\n",
    "booleen = True       # Boolean (booléen)\n",
    "\n",
    "# Affichage des variables\n",
    "print(entier, flottant, chaine, booleen)\n"
   ]
  },
  {
   "cell_type": "markdown",
   "id": "4d17e5f9",
   "metadata": {},
   "source": [
    "Les opérations mathématiques de base incluent : `+`, `-`, `*`, `/`, et `**` (puissance)."
   ]
  },
  {
   "cell_type": "code",
   "execution_count": 2,
   "id": "bd7adfaa",
   "metadata": {},
   "outputs": [
    {
     "name": "stdout",
     "output_type": "stream",
     "text": [
      "Addition: 8\n",
      "Puissance: 8\n",
      "Division: 5.0\n"
     ]
    }
   ],
   "source": [
    "# Exemple d'opérations\n",
    "addition = 5 + 3\n",
    "puissance = 2 ** 3\n",
    "division = 10 / 2\n",
    "\n",
    "print(\"Addition:\", addition)\n",
    "print(\"Puissance:\", puissance)\n",
    "print(\"Division:\", division)\n"
   ]
  },
  {
   "cell_type": "markdown",
   "id": "95f423a4",
   "metadata": {},
   "source": [
    "Python utilise des conditions pour exécuter du code en fonction de certaines conditions."
   ]
  },
  {
   "cell_type": "code",
   "execution_count": 3,
   "id": "0f7c72d8",
   "metadata": {},
   "outputs": [
    {
     "name": "stdout",
     "output_type": "stream",
     "text": [
      "x est supérieur à 5\n"
     ]
    }
   ],
   "source": [
    "x = 10\n",
    "if x > 5:\n",
    "    print(\"x est supérieur à 5\")\n",
    "elif x == 5:\n",
    "    print(\"x est égal à 5\")\n",
    "else:\n",
    "    print(\"x est inférieur à 5\")\n"
   ]
  },
  {
   "cell_type": "markdown",
   "id": "050004a9",
   "metadata": {},
   "source": [
    "Les boucles permettent de répéter du code. Voici les deux types principaux."
   ]
  },
  {
   "cell_type": "code",
   "execution_count": 4,
   "id": "760aebfc",
   "metadata": {},
   "outputs": [
    {
     "name": "stdout",
     "output_type": "stream",
     "text": [
      "Itération: 0\n",
      "Itération: 1\n",
      "Itération: 2\n",
      "Itération: 3\n",
      "Itération: 4\n",
      "Valeur de j: 0\n",
      "Valeur de j: 1\n",
      "Valeur de j: 2\n",
      "Valeur de j: 3\n",
      "Valeur de j: 4\n"
     ]
    }
   ],
   "source": [
    "# Boucle for\n",
    "for i in range(5):  # de 0 à 4\n",
    "    print(\"Itération:\", i)\n",
    "\n",
    "# Boucle while\n",
    "j = 0\n",
    "while j < 5:\n",
    "    print(\"Valeur de j:\", j)\n",
    "    j += 1\n"
   ]
  },
  {
   "cell_type": "markdown",
   "id": "832d6456",
   "metadata": {},
   "source": [
    "Les fonctions permettent de structurer le code en blocs réutilisables."
   ]
  },
  {
   "cell_type": "code",
   "execution_count": 5,
   "id": "e9e59720",
   "metadata": {},
   "outputs": [
    {
     "name": "stdout",
     "output_type": "stream",
     "text": [
      "Résultat: 7\n"
     ]
    }
   ],
   "source": [
    "def addition(a, b):\n",
    "    \"\"\"Retourne la somme de a et b\"\"\"\n",
    "    return a + b\n",
    "\n",
    "# Appel de la fonction\n",
    "resultat = addition(3, 4)\n",
    "print(\"Résultat:\", resultat)\n"
   ]
  },
  {
   "cell_type": "markdown",
   "id": "667ac05d",
   "metadata": {},
   "source": [
    "[NumPy](https://numpy.org/) est une bibliothèque Python permettant des calculs mathématiques efficaces, notamment pour manipuler des vecteurs et des matrices. \n",
    "Avant de commencer, assurez-vous d'importer NumPy."
   ]
  },
  {
   "cell_type": "code",
   "execution_count": 6,
   "id": "c1ff7e79",
   "metadata": {},
   "outputs": [
    {
     "name": "stdout",
     "output_type": "stream",
     "text": [
      "Vecteur: [1 2 3 4 5]\n"
     ]
    }
   ],
   "source": [
    "import numpy as np\n",
    "\n",
    "# Création d'un vecteur (tableau 1D)\n",
    "vecteur = np.array([1, 2, 3, 4, 5])\n",
    "print(\"Vecteur:\", vecteur)\n"
   ]
  },
  {
   "cell_type": "markdown",
   "id": "bd37c756",
   "metadata": {},
   "source": [
    "NumPy permet d'effectuer des opérations de manière élémentaire sur les vecteurs."
   ]
  },
  {
   "cell_type": "code",
   "execution_count": 7,
   "id": "6caac0ba",
   "metadata": {},
   "outputs": [
    {
     "name": "stdout",
     "output_type": "stream",
     "text": [
      "Addition: [11 22 33 44 55]\n",
      "Soustraction: [ -9 -18 -27 -36 -45]\n",
      "Multiplication par un scalaire: [ 2  4  6  8 10]\n",
      "Division élément par élément: [10. 10. 10. 10. 10.]\n"
     ]
    }
   ],
   "source": [
    "# Définition d'un second vecteur pour les opérations\n",
    "vecteur2 = np.array([10, 20, 30, 40, 50])\n",
    "\n",
    "# Addition de deux vecteurs\n",
    "somme = vecteur + vecteur2\n",
    "print(\"Addition:\", somme)\n",
    "\n",
    "# Soustraction de deux vecteurs\n",
    "difference = vecteur - vecteur2\n",
    "print(\"Soustraction:\", difference)\n",
    "\n",
    "# Multiplication par un scalaire\n",
    "produit_scalaire = vecteur * 2\n",
    "print(\"Multiplication par un scalaire:\", produit_scalaire)\n",
    "\n",
    "# Division élément par élément\n",
    "division = vecteur2 / vecteur\n",
    "print(\"Division élément par élément:\", division)\n"
   ]
  },
  {
   "cell_type": "markdown",
   "id": "6504ba9c",
   "metadata": {},
   "source": [
    "[Matplotlib](https://matplotlib.org/) est une bibliothèque de visualisation de données en Python. Elle est souvent utilisée pour créer des graphiques, ce qui est essentiel pour l’analyse de données. Commençons par importer la bibliothèque et tracer un graphique simple."
   ]
  },
  {
   "cell_type": "code",
   "execution_count": 8,
   "id": "5e3c7d35",
   "metadata": {},
   "outputs": [
    {
     "data": {
      "image/png": "[encoded data removed]",
      "text/plain": [
       "<Figure size 432x288 with 1 Axes>"
      ]
     },
     "metadata": {
      "needs_background": "light"
     },
     "output_type": "display_data"
    }
   ],
   "source": [
    "import matplotlib.pyplot as plt\n",
    "\n",
    "# Génération de données\n",
    "x = np.linspace(0, 2 * np.pi, 100)  # 100 points de 0 à 2π\n",
    "y = np.sin(x)                       # sin(x)\n",
    "\n",
    "# Création du graphique\n",
    "plt.plot(x, y, label=\"sin(x)\")\n",
    "plt.title(\"Fonction sinusoïdale\")\n",
    "plt.xlabel(\"x\")\n",
    "plt.ylabel(\"sin(x)\")\n",
    "plt.legend()\n",
    "plt.show()\n"
   ]
  },
  {
   "cell_type": "markdown",
   "id": "b43d1004",
   "metadata": {},
   "source": [
    "Jupyter Notebook et Jupyter Lab permettent d'exécuter des blocs de code de façon interactive et de mélanger code et texte.\n",
    "\n",
    "Quelques raccourcis utiles :"
   ]
  },
  {
   "cell_type": "markdown",
   "id": "80677d67",
   "metadata": {},
   "source": [
    "- **Exécution de cellules :**\n",
    "  - `Entrée` : Exécuter une cellule (en mode commande).\n",
    "  - `Shift + Entrée` : Exécuter la cellule actuelle et passer à la suivante.\n",
    "  - `Ctrl + Entrée` : Exécuter la cellule sans changer de sélection.\n",
    "  - `Alt + Entrée` : Exécuter la cellule et insérer une nouvelle cellule en dessous.\n",
    "\n",
    "- **Manipulation des cellules :**\n",
    "  - `Esc + M` : Transformer une cellule en Markdown (texte).\n",
    "  - `Esc + Y` : Transformer une cellule en code.\n",
    "  - `Esc + A` / `Esc + B` : Ajouter une cellule au-dessus / en dessous.\n",
    "  - `Esc + D D` : Supprimer la cellule sélectionnée.\n",
    "\n",
    "- **Multi-curseur et recherche :**\n",
    "  - `Ctrl + Click` (ou `Cmd + Click` sur Mac) : Ajouter plusieurs curseurs (utile pour modifier plusieurs endroits en même temps).\n",
    "  - `Ctrl + F` (ou `Cmd + F` sur Mac) : Ouvrir la barre de recherche pour trouver des termes dans le notebook.\n",
    "  - `Ctrl + H` (ou `Cmd + H` sur Mac) : Activer la recherche et remplacement dans la cellule active.\n",
    "\n",
    "- **Autocomplétion et documentation :**\n",
    "  - `TAB` : Autocomplétion (utile pour afficher des suggestions de code ou compléter des noms de fonctions et variables).\n",
    "  - `Shift + TAB` : Affiche la documentation rapide pour la fonction ou le module sous le curseur.\n",
    "\n",
    "- **Gestion de la mémoire et redémarrage :**\n",
    "  - `Kernel > Restart & Clear Output` : Redémarrer le kernel (vider la mémoire) et effacer les sorties.\n",
    "  - `Kernel > Restart & Run All` : Redémarrer le kernel et exécuter toutes les cellules (pratique pour s'assurer que tout le code fonctionne bien en évitant que d'anciennes variables soit encore en mémoire).\n"
   ]
  },
  {
   "cell_type": "markdown",
   "id": "531b7105",
   "metadata": {},
   "source": [
    "Dans Jupyter Lab, une commande très utile est le **?** : placé derrière une commande, il permet d'accéder rapidement à sa documentation pour savoir comment l'utiliser. \n",
    "\n",
    "Exemple avec la fonction *print( )* :"
   ]
  },
  {
   "cell_type": "code",
   "execution_count": 9,
   "id": "2195f241",
   "metadata": {},
   "outputs": [
    {
     "name": "stdout",
     "output_type": "stream",
     "text": [
      "\u001b[0;31mDocstring:\u001b[0m\n",
      "print(value, ..., sep=' ', end='\\n', file=sys.stdout, flush=False)\n",
      "\n",
      "Prints the values to a stream, or to sys.stdout by default.\n",
      "Optional keyword arguments:\n",
      "file:  a file-like object (stream); defaults to the current sys.stdout.\n",
      "sep:   string inserted between values, default a space.\n",
      "end:   string appended after the last value, default a newline.\n",
      "flush: whether to forcibly flush the stream.\n",
      "\u001b[0;31mType:\u001b[0m      builtin_function_or_method\n"
     ]
    }
   ],
   "source": [
    "print?\n"
   ]
  },
  {
   "cell_type": "markdown",
   "id": "a8bc3419",
   "metadata": {},
   "source": [
    "<br>Il suffit donc de créer une nouvelle cellule, et d'écrire le nom de la fonction en remplaçant les parenthèse **( )** par le point d'interrogation **?** pour obtenir des informations sur l'utilisation de la fonction."
   ]
  },
  {
   "cell_type": "markdown",
   "id": "4f56279d",
   "metadata": {},
   "source": [
    "### **1.3 - Rappels sur le traitement de données**"
   ]
  },
  {
   "cell_type": "markdown",
   "id": "5b514416",
   "metadata": {},
   "source": [
    "Quelques rappels sur le traitement de données que vous avez vu l'année dernière. \n",
    "\n",
    "La relation qui donne l'intensité finale enregistrée sur l'ordinateur en fonction du signal lumineux incident peut simplement être décrite par l'équation suivante :\n",
    "\n",
    "\\begin{equation}\n",
    "    I_{mesure}(ADU)=T_{atmo} \\cdot T_{intrument} \\cdot Signal + biais + courant_{obscurite}(t)\n",
    "\\end{equation} \n",
    "\n",
    "Avec :\n",
    "- $I_{mesure}(ADU, Analog-to-Digital~Unit)$ la mesure finale numérisée que vous allez étudier dans ce TP.\n",
    "- $T_{atmo}$ le coefficient de transmission de l'atmosphère. Il ne s'applique que si le signal traverse l'atmosphère terrestre.\n",
    "- $T_{intrument}$ le coefficient de transmission de l'instrument : optique du télescope et du spectro, réponse de la camera, etc.\n",
    "- $Signal$ le signal lumineux en entrée de l'instrument (lumière provenant de l'étoile, luminosité du ciel, pollution lumineuse, etc).\n",
    "- $biais$ le niveau moyen qui est généralement introduit au niveau du détecteur (ici, la caméra) pour éviter les valeurs négatives en ADU.\n",
    "- $courant_{obscurite}(t)$ le courant d'obscurité de la caméra de détection. C'est un niveau moyen qui varie proportionnellement au temps de pose et qui augmente avec la température du détecteur.\n",
    "\n",
    "On appelle FLAT la mesure effectuée dans le but d'appliquer la correction du champ plat correspondant à l'instrument, et on parle de DARK pour décrire la mesure simultanée du courant d'obscurité et du biais de la caméra."
   ]
  },
  {
   "cell_type": "markdown",
   "id": "b140e2ca",
   "metadata": {},
   "source": [
    "##### **Question 1 (1 pt) :**\n",
    "\n",
    "A partir de l'équation (1), quels sont les deux mesures que vous devez faire pour déterminer $T_{atmo}.T_{intrument}$ et $biais + courtant_{obscurite}(t)$ ? <br> Laquelle correspond au FLAT et laquelle correspond au DARK ?"
   ]
  },
  {
   "cell_type": "markdown",
   "id": "d7f4560b",
   "metadata": {},
   "source": [
    "> <font color='green'> Répondre ici :"
   ]
  },
  {
   "cell_type": "markdown",
   "id": "d8fd2d7d",
   "metadata": {},
   "source": [
    "##### **Question 2 (1 pt) :**\n",
    "Rappeler le principe et décrire la procédure d'acquisition du FLAT en imagerie."
   ]
  },
  {
   "cell_type": "markdown",
   "id": "c040ff53",
   "metadata": {},
   "source": [
    "> <font color='green'> Répondre ici : \n"
   ]
  },
  {
   "cell_type": "markdown",
   "id": "9e168adf",
   "metadata": {},
   "source": [
    "##### **Question 3 (1 pt) :**\n",
    "Pourquoi peut-on supposer que $T_{atmo}=1$ lorsque l'on enregistre le FLAT?"
   ]
  },
  {
   "cell_type": "markdown",
   "id": "08a590e5",
   "metadata": {},
   "source": [
    "> <font color='green'> Répondre ici : \n"
   ]
  },
  {
   "cell_type": "markdown",
   "id": "b0221cda",
   "metadata": {},
   "source": [
    "##### **Question 4 (1 pt):**\n",
    "Quelle est la particularité des FLATS en spectroscopie par rapport à l'imagerie ? Quelle information faut-il connaître sur la source utilisée pour enregistrer l'image de FLAT ?"
   ]
  },
  {
   "cell_type": "markdown",
   "id": "650f1a22",
   "metadata": {},
   "source": [
    "> <font color='green'> Répondre ici : "
   ]
  },
  {
   "cell_type": "markdown",
   "id": "a1016a44",
   "metadata": {},
   "source": [
    "##### **Question 5 (1 pt) :**\n",
    "On rappelle que le flat doit-être normalisé. Qu'est-ce que cela signifie, et pourquoi cela est-il important ?"
   ]
  },
  {
   "cell_type": "markdown",
   "id": "c6e9b8a3",
   "metadata": {},
   "source": [
    "> <font color='green'> Répondre ici : "
   ]
  },
  {
   "cell_type": "markdown",
   "id": "7ea2780c",
   "metadata": {},
   "source": [
    "##### **Question 6 (1 pt) :**\n",
    "Rappeler le principe et décrire la procédure d'acquisition du DARK. Quels sont les paramètres important influant sur le dark ?"
   ]
  },
  {
   "cell_type": "markdown",
   "id": "2a9b295c",
   "metadata": {},
   "source": [
    "> <font color='green'> Répondre ici : "
   ]
  },
  {
   "cell_type": "markdown",
   "id": "1b73e521",
   "metadata": {},
   "source": [
    "##### **Question 7 (1 pt) :**\n",
    "Qu'est qu'un FOND DE CIEL (aussi appelé SKY) et qu'est ce qui le différencie d'un DARK ?"
   ]
  },
  {
   "cell_type": "markdown",
   "id": "94729470",
   "metadata": {},
   "source": [
    "> <font color='green'> Répondre ici : "
   ]
  },
  {
   "cell_type": "markdown",
   "id": "297e384a",
   "metadata": {},
   "source": [
    "##### **Question 8 (1 pt) :**\n",
    "Au cours de l'observation, quand doit-on enregistrer les FLATS, les DARKS et les FONDS DE CIEL ?"
   ]
  },
  {
   "cell_type": "markdown",
   "id": "6af4eee4",
   "metadata": {},
   "source": [
    "> <font color='green'> Répondre ici : "
   ]
  },
  {
   "cell_type": "markdown",
   "id": "6c816933",
   "metadata": {},
   "source": [
    "Au cours de la séance d'observation, on réalise plusieurs séries de FLATS et de DARKS/FONDS DE CIEL. Cela permet de faire des moyennes appelées \"master flat\" et \"master dark/fond de ciel\"). Cela permet également d'éliminer certains FLATS ou DARKS/FONDS DE CIEL qui ne sont pas satisfaisant."
   ]
  },
  {
   "cell_type": "markdown",
   "id": "3a903ae3",
   "metadata": {},
   "source": [
    "##### **Question 9 (1 pt) :**\n",
    "Décrire le traitement des données que vous allez faire pour déterminer  $T_{intrument}$.\n",
    "<br>\n",
    "**Faire valider la formule par un encadrant avant de passer à la suite.**"
   ]
  },
  {
   "cell_type": "markdown",
   "id": "41e6901e",
   "metadata": {},
   "source": [
    "> <font color='green'> Répondre ici : "
   ]
  },
  {
   "cell_type": "markdown",
   "id": "42f56a23",
   "metadata": {},
   "source": [
    "##### **Question 10 (1 pt) :**\n",
    "Proposer des solutions pour déterminer $T_{atmo}$."
   ]
  },
  {
   "cell_type": "markdown",
   "id": "fb52fac1",
   "metadata": {},
   "source": [
    "> <font color='green'> Répondre ici : "
   ]
  },
  {
   "cell_type": "markdown",
   "id": "55ab2dd3-688b-452e-880a-d6ed1c766a01",
   "metadata": {
    "tags": []
   },
   "source": [
    "### **1.4 - Préparation des données <font color='red'>**"
   ]
  },
  {
   "cell_type": "markdown",
   "id": "67aef4f5-4a2e-4e2d-bc60-359bec8e70db",
   "metadata": {},
   "source": [
    "La première étape consiste à charger les différents modules python dont nous aurons besoin tout au long de ce TP :\n",
    "- [*os*](https://docs.python.org/3/library/os.html) dispose d'outils pour naviguer dans le système et lister les fichiers d'un dossier de l'ordinateur\n",
    "\n",
    "- [*numpy*](https://numpy.org/doc/stable/) permet de manipuler des tableaux de données à plusieurs dimensions et d'effectuer toute sorte d'opérations (sommes, multiplications matricielle, moyennes...)\n",
    "\n",
    "- [*scipy*](https://scipy.org/) ajout de nombreux outils mathématiques pour les applications scientifiques\n",
    "\n",
    "- [*matplotib*](https://matplotlib.org/stable/index.html) offre un large panel d'outils permettant de visualiser les données et de produire des graphiques\n",
    "\n",
    "- [*astropy*](https://docs.astropy.org/en/stable/index.html) est une librairie dédiée à l'astronomie et l'astrophysique et contient une multitude d'outils pratiques pour le traitement des données. Nous utilisons surtout ici la fonction de lecture des fichiers au format FITS.\n",
    "\n",
    "Note : ne pas hésiter à consulter la documentation de ces différents modules en cas de besoin. De nombreux exemples d'utilisation y sont présentés."
   ]
  },
  {
   "cell_type": "code",
   "execution_count": 10,
   "id": "0503b5d6-77b0-4dc0-aec9-01738aa9f3e1",
   "metadata": {},
   "outputs": [],
   "source": [
    "# Importation des modules\n",
    "import os\n",
    "import numpy as np               # on peut renommer un module avec une variable plus courte avec le mot clé \"as\"\n",
    "import matplotlib.pyplot as plt  \n",
    "import ipywidgets as wdg         # ipython notebook widgets\n",
    "\n",
    "from astropy.io import fits      # \"from\" permet de ne charger que le sous-module \"fits\" de la librairie \"astropy\" afin de ne pas encombrer inutilement la mémoire\n",
    "from scipy.interpolate import interp1d\n",
    "from matplotlib.widgets import Cursor\n",
    "from scipy.optimize import curve_fit\n",
    "from scipy import interpolate    # On importe les fonctions d'interpolation du module scipy\n",
    "\n",
    "# commande \"%magic\" pour utiliser le backend \"widget\" de matplotlib permettant d'avoir les outils interactifs (tels que le zoom) sur les figures\n",
    "%matplotlib widget               \n"
   ]
  },
  {
   "cell_type": "markdown",
   "id": "d62d6cdb",
   "metadata": {},
   "source": [
    "Nous allons maintenant charger les données au format \"FITS\" à l'aide du module astropy.io.fits (que nous avons renommé \"fits\" pour plus de simplicité).\n",
    "\n",
    "Commençons par vérifier que nos fichiers de données se trouvent bien à l'endroit attendu : la commande \"os.listdir(*path*)\" permet d'obtenir la liste de fichiers présents dans le répertoire indiqué par la variable *path*, et la commande \"print(*text*)\" permet d'afficher le *text* indiqué."
   ]
  },
  {
   "cell_type": "code",
   "execution_count": 11,
   "id": "d8ecadbd",
   "metadata": {},
   "outputs": [
    {
     "name": "stdout",
     "output_type": "stream",
     "text": [
      "['fond_de_ciel_20s_2.fits', 'dark_20s_1.fits', 'dark_20s_5.fits', 'dark_1s_1.fits', 'dark_20s_4.fits', 'fond_de_ciel_20s_3.fits', 'dark_20s_3.fits', 'fond_de_ciel_20s_1.fits', 'dark_1s_2.fits', 'fond_de_ciel_20s_4.fits', 'dark_1s_4.fits', 'dark_20s_2.fits', 'dark_1s_3.fits']\n"
     ]
    }
   ],
   "source": [
    "path = './Data_TP_CPES2/Partie_2/data_2_1/'\n",
    "file_list = os.listdir(path)\n",
    "print(file_list)\n"
   ]
  },
  {
   "cell_type": "markdown",
   "id": "798aeec9",
   "metadata": {},
   "source": [
    "<br>Nous avons maintenant stocké la liste de fichiers présents dans le répertoire \"Partie_2/data_2_1/\" dans notre variable \"file_list\". Nous allons pouvoir parcourir cette liste avec une boucle \"for\" afin de charger ces fichiers dans le code."
   ]
  },
  {
   "cell_type": "code",
   "execution_count": 12,
   "id": "b7bed25c",
   "metadata": {},
   "outputs": [
    {
     "name": "stdout",
     "output_type": "stream",
     "text": [
      "fond_de_ciel_20s_2.fits                                                          has been loaded !\n",
      "dark_20s_1.fits                                                                  has been loaded !\n",
      "dark_20s_5.fits                                                                  has been loaded !\n",
      "dark_1s_1.fits                                                                   has been loaded !\n",
      "dark_20s_4.fits                                                                  has been loaded !\n",
      "fond_de_ciel_20s_3.fits                                                          has been loaded !\n",
      "dark_20s_3.fits                                                                  has been loaded !\n",
      "fond_de_ciel_20s_1.fits                                                          has been loaded !\n",
      "dark_1s_2.fits                                                                   has been loaded !\n",
      "fond_de_ciel_20s_4.fits                                                          has been loaded !\n",
      "dark_1s_4.fits                                                                   has been loaded !\n",
      "dark_20s_2.fits                                                                  has been loaded !\n",
      "dark_1s_3.fits                                                                   has been loaded !\n"
     ]
    }
   ],
   "source": [
    "donnees_2_1 = {}\n",
    "\n",
    "for file_name in file_list:\n",
    "    try:\n",
    "        current_fits = fits.open(path+file_name)[0] # fits.open() renvoie une liste de tableaux de données (appelés \"HDU\") contenus dans le fichier FITS. Ici nos fichiers ne contiennent qu'un seul HDU, que l'on sélectionne avec l'indice [0]\n",
    "        donnees_2_1[file_name] = current_fits      # on stocke ici le fichier .fits chargé dans un dictionnaire afin d'y accéder plus facilement par la suite en utilisant le nom du fichier d'origine\n",
    "        print(f'{file_name:<80} has been loaded !')\n",
    "    except Exception as e:                          # En cas d'echec de chargement du fichier, la structure try:... except:... permet d'empêcher au code de planter en affichant l'erreur et en passant au fichier suivant (par exemple si le fichier n'est pas au format .fits)\n",
    "        print(f'Can\\'t load {file_name:<69} {e}')\n"
   ]
  },
  {
   "cell_type": "markdown",
   "id": "baf18440",
   "metadata": {},
   "source": [
    "<br>\n",
    "Tous les fichiers 'FITS' contenus dans le dossier 'Partie_2' ont été chargés et stockés dans le dictionnaire \"donnees_2_1\". Un dictionnaire permet de stocker différentes 'valeurs' et d'y accéder grâce à la 'clé' sous laquelle la valeur a été enregistrée. Par exemple, considerons le dictionnaire suivant :\n"
   ]
  },
  {
   "cell_type": "markdown",
   "id": "2ba3a29f",
   "metadata": {},
   "source": [
    "```python\n",
    "dico = {\n",
    "    'key_1' : 42,\n",
    "    'key_2' : aze,\n",
    "    'key_3' : jpp\n",
    "}\n",
    "```"
   ]
  },
  {
   "cell_type": "markdown",
   "id": "51fd74ed",
   "metadata": {},
   "source": [
    "La valeur \"42\" a été stockée via la clé 'key_1'. On peut donc accéder à cette valeur via la commande suivante :"
   ]
  },
  {
   "cell_type": "markdown",
   "id": "afc55ea3",
   "metadata": {},
   "source": [
    "```python\n",
    "print(dico['key_1'])\n",
    "42\n",
    "```"
   ]
  },
  {
   "cell_type": "markdown",
   "id": "e47b0433",
   "metadata": {},
   "source": [
    "Qui affichera donc le contenu du dictionnaire \"dico\" correspondant à la clé 'key_1', c'est-à-dire 42. \n",
    "\n",
    "Dans notre cas, les fichiers ont tous été chargés dans un dictionnaire \"loaded_files\" avec pour chacun une clé correspondant au nom du fichier. On accédera donc par exemple aux données du fichier \"dark_20s_1.fits\" par la commande :"
   ]
  },
  {
   "cell_type": "code",
   "execution_count": 13,
   "id": "55ef4bf0",
   "metadata": {},
   "outputs": [
    {
     "name": "stdout",
     "output_type": "stream",
     "text": [
      "<astropy.io.fits.hdu.image.PrimaryHDU object at 0x7f38afa52580>\n"
     ]
    }
   ],
   "source": [
    "file = donnees_2_1['dark_20s_1.fits']\n",
    "print(file)\n"
   ]
  },
  {
   "cell_type": "markdown",
   "id": "3bd02333",
   "metadata": {},
   "source": [
    "<br>\n",
    "On voit ici que \"loaded_files['dark_20s_1.fits']\" permet bien d'accéder à un objet de type \"astropy.io.fits\", c'est-à-dire un fichier FITS chargé dans le code python et que nous pouvons maintenant manipuler avec tous les outils python habituels. On pourra par exemple accéder aux données du fichier fits grâce à l'attribut '.data', qui renvoie les données du fichier FITS dans un tableau de données numpy :"
   ]
  },
  {
   "cell_type": "code",
   "execution_count": 14,
   "id": "2f550c4f",
   "metadata": {},
   "outputs": [
    {
     "name": "stdout",
     "output_type": "stream",
     "text": [
      "[2266.55175781 2267.65087891 2268.6784668  ... 2268.34423828 2268.15014648\n",
      " 2269.11279297]\n"
     ]
    }
   ],
   "source": [
    "file = donnees_2_1['dark_20s_1.fits']\n",
    "print(file.data)\n"
   ]
  },
  {
   "cell_type": "markdown",
   "id": "650caf0a",
   "metadata": {},
   "source": [
    "<br>On peut alors afficher ces données sur un graphique avec matplotlib (surnommé \"plt\" dans le code):"
   ]
  },
  {
   "cell_type": "code",
   "execution_count": 15,
   "id": "a2738f36",
   "metadata": {},
   "outputs": [
    {
     "data": {
      "text/plain": [
       "[<matplotlib.lines.Line2D at 0x7f38acfbd130>]"
      ]
     },
     "execution_count": 15,
     "metadata": {},
     "output_type": "execute_result"
    },
    {
     "data": {
      "application/vnd.jupyter.widget-view+json": {
       "model_id": "7b76ddc255a447089792d87073550cf1",
       "version_major": 2,
       "version_minor": 0
      },
      "image/png": "[encoded data removed]",
      "text/html": [
       "\n",
       "            <div style=\"display: inline-block;\">\n",
       "                <div class=\"jupyter-widgets widget-label\" style=\"text-align: center;\">\n",
       "                    Figure\n",
       "                </div>\n",
       "                <img src='data:image/png;base64,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' width=640.0/>\n",
       "            </div>\n",
       "        "
      ],
      "text/plain": [
       "Canvas(toolbar=Toolbar(toolitems=[('Home', 'Reset original view', 'home', 'home'), ('Back', 'Back to previous …"
      ]
     },
     "metadata": {},
     "output_type": "display_data"
    }
   ],
   "source": [
    "file = donnees_2_1['dark_20s_1.fits']\n",
    "plt.figure()\n",
    "plt.plot(file.data)\n"
   ]
  },
  {
   "cell_type": "markdown",
   "id": "2a9d9231",
   "metadata": {},
   "source": [
    "Le format FITS est un format très utilisé pour les images en astrophysique. Il est également pratique pour d'autres types de données tels que les spectres. Il permet de stocker des métadonnées concernant les images dans ce qu'on appelle le \"header\" (entête) du FITS. On accède ici au header d'un fichier FITS grâce à l'attribut '.header' :"
   ]
  },
  {
   "cell_type": "code",
   "execution_count": 16,
   "id": "8ddc65d1",
   "metadata": {},
   "outputs": [
    {
     "name": "stderr",
     "output_type": "stream",
     "text": [
      "WARNING: VerifyWarning: Verification reported errors: [astropy.io.fits.verify]\n",
      "WARNING: VerifyWarning: Card keyword 'Exp (ms)' is not upper case.  Fixed 'EXP (MS)' card to meet the FITS standard. [astropy.io.fits.verify]\n",
      "WARNING: VerifyWarning: Unfixable error: Illegal keyword name 'EXP (MS)' [astropy.io.fits.verify]\n",
      "WARNING: VerifyWarning: Note: astropy.io.fits uses zero-based indexing.\n",
      " [astropy.io.fits.verify]\n",
      "WARNING: VerifyWarning: Card keyword 'ROITop' is not upper case.  Fixed 'ROITOP' card to meet the FITS standard. [astropy.io.fits.verify]\n",
      "WARNING: VerifyWarning: Card keyword 'ROILeft' is not upper case.  Fixed 'ROILEFT' card to meet the FITS standard. [astropy.io.fits.verify]\n",
      "WARNING: VerifyWarning: Card keyword 'ROIWidth' is not upper case.  Fixed 'ROIWIDTH' card to meet the FITS standard. [astropy.io.fits.verify]\n",
      "WARNING: VerifyWarning: Card keyword 'ROIHeigh' is not upper case.  Fixed 'ROIHEIGH' card to meet the FITS standard. [astropy.io.fits.verify]\n",
      "WARNING: VerifyWarning: Card keyword 'BINWidth' is not upper case.  Fixed 'BINWIDTH' card to meet the FITS standard. [astropy.io.fits.verify]\n",
      "WARNING: VerifyWarning: Card keyword 'BINHeigh' is not upper case.  Fixed 'BINHEIGH' card to meet the FITS standard. [astropy.io.fits.verify]\n",
      "WARNING: VerifyWarning: Card keyword 'SoftBINW' is not upper case.  Fixed 'SOFTBINW' card to meet the FITS standard. [astropy.io.fits.verify]\n",
      "WARNING: VerifyWarning: Card keyword 'SoftBINH' is not upper case.  Fixed 'SOFTBINH' card to meet the FITS standard. [astropy.io.fits.verify]\n",
      "WARNING: VerifyWarning: Card keyword 'Tempx10' is not upper case.  Fixed 'TEMPX10' card to meet the FITS standard. [astropy.io.fits.verify]\n",
      "WARNING: VerifyWarning: Card keyword 'DateObs' is not upper case.  Fixed 'DATEOBS' card to meet the FITS standard. [astropy.io.fits.verify]\n",
      "WARNING: VerifyWarning: Card keyword 'ExpStart' is not upper case.  Fixed 'EXPSTART' card to meet the FITS standard. [astropy.io.fits.verify]\n",
      "WARNING: VerifyWarning: Card keyword 'SBinMode' is not upper case.  Fixed 'SBINMODE' card to meet the FITS standard. [astropy.io.fits.verify]\n"
     ]
    },
    {
     "data": {
      "text/plain": [
       "SIMPLE  =                    T / Java FITS: Wed Jan 25 12:03:14 CET 2017        \n",
       "BITPIX  =                  -64                                                  \n",
       "NAXIS   =                    1                                                  \n",
       "NAXIS1  =                 2750                                                  \n",
       "BSCALE  =           1.00000000 / Data = Fits * Bscale + Bzero                   \n",
       "BZERO   =           0.00000000 / Data = Fits * Bscale + Bzero                   \n",
       "DATE    = '19/01/2017'         /  Date of Recording                             \n",
       "TIME    = '20:14:11'           /  Time of Recording                             \n",
       "EXP (MS)=                20000                                                  \n",
       "ROITOP  =                    0                                                  \n",
       "ROILEFT =                    0                                                  \n",
       "ROIWIDTH=                 2750                                                  \n",
       "ROIHEIGH=                 2200                                                  \n",
       "BINWIDTH=                    1                                                  \n",
       "BINHEIGH=                    1                                                  \n",
       "SOFTBINW=                    1                                                  \n",
       "SOFTBINH=                    1                                                  \n",
       "TEMPX10 =                 -125                                                  \n",
       "CRPIX1  =               1375.0 / Reference pixel on axis 1                      \n",
       "DATEOBS = '19/01/2017'                                                          \n",
       "EXPSTART= '20:13:33'                                                            \n",
       "SBINMODE= 'Moyenne '                                                            \n",
       "CUNIT1  = 'nm      '           /  Units for axis 1                              \n",
       "CTYPE1  = 'WAVE    '           /  Type of co-ordinate on axis 1                 \n",
       "BUNIT   = 'ADU     '                                                            \n",
       "CRVAL1  =           610.515865 / Value at ref. pixel on axis 1                  \n",
       "CD1_1   = '0.154636'                                                            \n",
       "OBJECT  = 'DARK_20s_1.fits'    / Symbolic name                                  \n",
       "EXTEND  =                    T / Extensions are permitted                       \n",
       "CDELT1  =             0.154636 / Pixel size on axis 1                           \n",
       "SPECSYS = 'HELIOCEN'           /  Standard of rest for spectral axis            \n",
       "VELOSYS =     29336.8894541574 / [m/s] Topo. apparent velocity of rest frame    \n",
       "CRPIX1A =               1375.0 / Reference pixel on axis 1                      \n",
       "CRVAL1A =           610.515865 / Value at ref. pixel on axis 1                  \n",
       "CTYPE1A = 'Wavelength'         /  Type of co-ordinate on axis 1                 \n",
       "CDELT1A =             0.154636 / Pixel size on axis 1                           \n",
       "CUNIT1A = 'nm      '           /  Units for axis 1                              "
      ]
     },
     "execution_count": 16,
     "metadata": {},
     "output_type": "execute_result"
    }
   ],
   "source": [
    "file = donnees_2_1['dark_20s_1.fits']\n",
    "file.header\n"
   ]
  },
  {
   "cell_type": "markdown",
   "id": "a9c2f0c1",
   "metadata": {},
   "source": [
    "<br> Le header d'un fichier FITS est également donné sous la forme d'un dictionnaire. Dans ce cas, le format d'affichage est de la forme \"Key = Value\" : par exemple dans notre cas, le temps de pose (en ms) correspond à la clé \"EXP (MS)\". On accède donc au temps de pose utilisé pour le fichier \"dark_20s_1.fits\" avec la commande : "
   ]
  },
  {
   "cell_type": "code",
   "execution_count": 17,
   "id": "d66e8955",
   "metadata": {},
   "outputs": [
    {
     "name": "stdout",
     "output_type": "stream",
     "text": [
      "20000\n"
     ]
    }
   ],
   "source": [
    "file = donnees_2_1['dark_20s_1.fits']\n",
    "print(file.header['EXP (MS)'])\n"
   ]
  },
  {
   "cell_type": "markdown",
   "id": "1046a88a",
   "metadata": {},
   "source": [
    "<br> Pour accéder aux données ou header des autres fichiers, il suffit donc de changer le nom du fichier entre [ ] après loaded_files."
   ]
  },
  {
   "cell_type": "markdown",
   "id": "b2d56cbd",
   "metadata": {},
   "source": [
    "<div style=\"border: 2px solid red; padding: 10px; border-radius: 5px;\">\n",
    "\n",
    "**En résumé:**\n",
    "\n",
    "Grâce à cette méthode de chargement des données, tous les spectres sont accessibles via leur nom dans le dictionnaire *donnees_2_1*. \n",
    "\n",
    "Par exemple pour charger les données des fichiers \"dark_10s_1.fits\" et \"dark_10s_2.fits\", on peut utiliser la commande suivante :\n",
    "```python\n",
    "dark_10s_1 = donnees_2_1['dark_10s_3.fits'].data # le .data permet de récupérer les données\n",
    "dark_10s_2 = donnees_2_1['dark_10s_3.fits'].data\n",
    "```\n",
    "\n",
    "On peut alors effectuer des opérations avec ces variables, calculer une moyenne par exemple :\n",
    "```python\n",
    "dark_moy_10s = (dark_10s_1 + dark_10s_2) / 2\n",
    "```\n",
    "\n",
    "On peut consulter le header d'un fichier de la façon suivante :\n",
    "```python\n",
    "print(donnees_2_1['dark_10s_1.fits'].header)\n",
    "```\n",
    "\n",
    "Enfin, on peut sauvegarder un spectre dans un fichier au format \".dat\" de la façon suivante :\n",
    "```python\n",
    "name = \"nom_du_fichier.dat\"\n",
    "np.savetxt(name,dark_moy_10s)\n",
    "print(f'{name} a bien été sauvegardé !')\n",
    "```\n",
    "\n",
    "</div>"
   ]
  },
  {
   "cell_type": "markdown",
   "id": "dff06740",
   "metadata": {},
   "source": [
    "## **2 - Manipulation des \"darks\" et \"flats\"**"
   ]
  },
  {
   "cell_type": "markdown",
   "id": "7e2a1e29",
   "metadata": {},
   "source": [
    "### **2.1 - Construction du \"master dark\"**"
   ]
  },
  {
   "cell_type": "markdown",
   "id": "071e6f81",
   "metadata": {},
   "source": [
    "Dans cette sous-partie nous allons nous intéresser aux DARKS et aux FONDS DE CIEL, ainsi qu'à la façon dont on obtient un MASTER DARK."
   ]
  },
  {
   "cell_type": "markdown",
   "id": "f9ec8a0b",
   "metadata": {},
   "source": [
    "##### **Question 11 (1 pt) :**\n",
    "Compléter le code suivant afin d'afficher les temps de pose appliqués à chacun des différents fichiers, et vérifier qu'ils correspondent bien à la valeur indiquée dans le nom du fichier."
   ]
  },
  {
   "cell_type": "code",
   "execution_count": 11,
   "id": "dca6474a",
   "metadata": {},
   "outputs": [],
   "source": [
    "# CODE A COMPLETER\n"
   ]
  },
  {
   "cell_type": "markdown",
   "id": "c7aa80a8",
   "metadata": {},
   "source": [
    "> <font color='green'> Répondre ici : "
   ]
  },
  {
   "cell_type": "markdown",
   "id": "b66c4b02",
   "metadata": {},
   "source": [
    "##### **Question 12 (1 pt) :**\n",
    "Compléter le code suivant afin d'afficher pour chaque fichier la température de la caméra en (°C) (**Tempx10** est la température en degrés Celsius multipliée par 10). La température est-elle la même pour tous les darks effectués ? Pourquoi la caméra est-elle refroidie ?"
   ]
  },
  {
   "cell_type": "code",
   "execution_count": null,
   "id": "30438eac",
   "metadata": {},
   "outputs": [],
   "source": [
    "# CODE A COMPLETER\n",
    "\n"
   ]
  },
  {
   "cell_type": "markdown",
   "id": "7fc56160",
   "metadata": {},
   "source": [
    "> <font color='green'> Répondre ici : "
   ]
  },
  {
   "cell_type": "markdown",
   "id": "be63d826",
   "metadata": {},
   "source": [
    "##### **Question 13 (1 pt) :**\n",
    "Compléter le code suivant afin d'afficher tous les fichiers dark sur un même graphique. Décrire les darks et les différences qu'il y a entre eux. Quelles sont les raisons de ces différences ?"
   ]
  },
  {
   "cell_type": "code",
   "execution_count": null,
   "id": "53f6947c",
   "metadata": {},
   "outputs": [],
   "source": [
    "# CODE A COMPLETER\n"
   ]
  },
  {
   "cell_type": "markdown",
   "id": "dac5b043",
   "metadata": {},
   "source": [
    "> <font color='green'> Répondre ici : "
   ]
  },
  {
   "cell_type": "markdown",
   "id": "bb819e5b",
   "metadata": {},
   "source": [
    "##### **Question 14 (3 pts) :**\n",
    "Nous allons réaliser un dark moyen de 1 seconde. Pour cela, nous avons vu comment accéder aux données d'un fichier FITS à partir de notre dictionnaire *loaded_files* en utilisant le nom du fichier et l'attribut \".data\":"
   ]
  },
  {
   "cell_type": "markdown",
   "id": "152a5b56",
   "metadata": {},
   "source": [
    "```python\n",
    "    data_1 = donnees_2_1[\"fichier_1.fits\"].data\n",
    "    data_2 = donnees_2_1[\"fichier_2.fits\"].data\n",
    "``` "
   ]
  },
  {
   "cell_type": "markdown",
   "id": "0f0e7c19",
   "metadata": {},
   "source": [
    "On récupère alors dans *data_1* et *data_2* les données des fichiers \"fichier_1.fits\" et \"fichier_2.fits\". *data_1* et *data_2* sont des tableaux de données au format *numpy*, ce qui permet d'effectuer très simplement tout un tas d'opérations entre ces deux jeux de données. Par exemple pour calculer leur moyenne, il suffit de faire :"
   ]
  },
  {
   "cell_type": "markdown",
   "id": "d944990d",
   "metadata": {},
   "source": [
    "```python\n",
    "data_moy = (data_1 + data_2) / 2\n",
    "```"
   ]
  },
  {
   "cell_type": "markdown",
   "id": "bb39431f",
   "metadata": {},
   "source": [
    "De manière plus élégante et surtout plus rapide, on peut utiliser les fonctions numpy (le gain de temps quand il y a beaucoup de données peut être très important) :"
   ]
  },
  {
   "cell_type": "markdown",
   "id": "e8282fb0",
   "metadata": {},
   "source": [
    "```python\n",
    "data_array = np.array([data_1, data_2]) # data_array est un tableau 2D, le premier indice/axis correspond à un sous tableau (data_array[0] contient data_1) \n",
    "data_moy   = np.mean(data_array, axis=0) # on laisse numpy calculer la moyenne, en précisant de ne la faire que sur les \"lignes\" du gros tableau data_array (avec axis=0) càd en sommant les dark entre eux\n",
    "```"
   ]
  },
  {
   "cell_type": "markdown",
   "id": "e59382ac",
   "metadata": {},
   "source": [
    "**En s'inspirant de cet exemple, écrire un code ci-dessous pour calculer un dark moyen de 1 seconde. Vous nommerez la variable du dark moyen \"master_dark_1s\".**"
   ]
  },
  {
   "cell_type": "code",
   "execution_count": 21,
   "id": "751ee1fc",
   "metadata": {},
   "outputs": [],
   "source": [
    "# CODE A COMPLETER\n"
   ]
  },
  {
   "cell_type": "markdown",
   "id": "f9abb122",
   "metadata": {},
   "source": [
    "On enregistre ensuite le master_dark_1s afin de pouvoir le réutiliser plus tard. Ceci est fait grâce à la fonction np.save(*name*,a), qui sauvegarde un tableau *numpy* \"a\" sous le nom \"name\" indiqué. Complétez le code ci-dessous en entrant vos noms et prénoms dans le nom du fichier et executez la cellule pour sauvegarder votre master_dark_1s :"
   ]
  },
  {
   "cell_type": "code",
   "execution_count": null,
   "id": "a297bb35",
   "metadata": {},
   "outputs": [],
   "source": [
    "# CODE A COMPLETER\n"
   ]
  },
  {
   "cell_type": "markdown",
   "id": "304eb8d9",
   "metadata": {},
   "source": [
    "**De même, écrire un code ci-dessous permettant de calculer et d'enregistrer un dark moyen de 20 secondes et un fond de ciel moyen. Vous nommerez les variables respectivement \"master_dark_20s\" et \"master_fond_ciel_20s\", et les enregistrerez sous la forme \"nom_prenom_exo1_MASTER_DARK_20s.dat\" et \"nom_prenom_exo1_MASTER_FOND_DE_CIEL_20s.dat\"**"
   ]
  },
  {
   "cell_type": "code",
   "execution_count": 23,
   "id": "a2c548bf",
   "metadata": {},
   "outputs": [],
   "source": [
    "# CODE A COMPLETER : calculer le master_dark_20s\n"
   ]
  },
  {
   "cell_type": "code",
   "execution_count": null,
   "id": "97b8fa9d",
   "metadata": {},
   "outputs": [],
   "source": [
    "# CODE A COMPLETER : enregistrer le master_dark_20s sous le nom \"nom_prenom_exo1_MASTER_DARK_20s.dat\"\n"
   ]
  },
  {
   "cell_type": "code",
   "execution_count": 25,
   "id": "36f4200d",
   "metadata": {},
   "outputs": [],
   "source": [
    "# CODE A COMPLETER : calculer le master_fond_ciel\n"
   ]
  },
  {
   "cell_type": "code",
   "execution_count": null,
   "id": "a6e1bea9",
   "metadata": {},
   "outputs": [],
   "source": [
    "# CODE A COMPLETER : enregistrer le master_fond_ciel sous le nom \"nom_prenom_exo1_MASTER_FOND_DE_CIEL.dat\"\n"
   ]
  },
  {
   "cell_type": "markdown",
   "id": "311b7b12",
   "metadata": {},
   "source": [
    "**La cellule ci-dessous permet de comparer les master dark de 1s et 20s. Décrire ces deux master darks : y-a-t-il des variations ?**"
   ]
  },
  {
   "cell_type": "code",
   "execution_count": null,
   "id": "2954ae4a",
   "metadata": {},
   "outputs": [],
   "source": [
    "plt.figure()                                      # Créer une figure vide\n",
    "plt.plot(master_dark_1s,label='master_dark_1s')   # Trace la courbe master_dark_1s en fonction des pixels\n",
    "plt.plot(master_dark_20s,label='master_dark_20s') # Trace la courbe master_dark_20s en fonction des pixels\n",
    "plt.ylabel('Flux (ADU)')                          # Ajoute le label \"Flux\" sur l'axe 'y' \n",
    "plt.xlabel('pixel')                               # Ajoute le label \"pixel\" sur l'axe 'x' \n",
    "plt.title('Comparaison des master dark')          # Ajoute un titre à la figure\n",
    "plt.legend()                                      # Affiche la legende avec le code coleur des courbes\n"
   ]
  },
  {
   "cell_type": "markdown",
   "id": "9480b9f1",
   "metadata": {},
   "source": [
    "> <font color='green'> Répondre ici : "
   ]
  },
  {
   "cell_type": "markdown",
   "id": "0c4ef41c",
   "metadata": {},
   "source": [
    "##### **Question 15 (1 pt) :**\n",
    "Comparer le master dark de 20 secondes avec un dark simple de 20 secondes, quels sont les différences ? Pourquoi ?\n",
    "<br>\n",
    "Vous pourrez faire la comparaison avec plusieurs darks simples de 20 secondes."
   ]
  },
  {
   "cell_type": "code",
   "execution_count": null,
   "id": "54e6b4f3",
   "metadata": {},
   "outputs": [],
   "source": [
    "# CODE A COMPLETER : afficher sur une même figure le master_dark_20s et un dark_20s_x\n"
   ]
  },
  {
   "cell_type": "markdown",
   "id": "ae61634d",
   "metadata": {},
   "source": [
    "> <font color='green'> Répondre ici : "
   ]
  },
  {
   "cell_type": "markdown",
   "id": "4d8c444f",
   "metadata": {},
   "source": [
    "##### **Question 16 (2 pts) :**\n",
    "Comparer maintenant le master dark de 20 secondes avec le master fond de ciel de 20 secondes, quels sont les différences ? Pourquoi ?"
   ]
  },
  {
   "cell_type": "code",
   "execution_count": 12,
   "id": "9cd645f5",
   "metadata": {},
   "outputs": [],
   "source": [
    "# CODE A COMPLETER : afficher sur une même figure le master_dark_20s et le master_fond_de_ciel_20s\n"
   ]
  },
  {
   "cell_type": "markdown",
   "id": "ba057c1a",
   "metadata": {},
   "source": [
    "> <font color='green'> Répondre ici : "
   ]
  },
  {
   "cell_type": "markdown",
   "id": "895c7d68",
   "metadata": {},
   "source": [
    "### **2.2 - Construction du \"master flat\"**"
   ]
  },
  {
   "cell_type": "markdown",
   "id": "4d9e1151",
   "metadata": {},
   "source": [
    "Nous allons maintenant voir comment construire un spectre de champ plat (ou flat-field, que nous appellerons FLAT par la suite) afin d'étalonner la réponse du détecteur. Pour cet exercice nous utiliserons les données qui se trouvent dans le dossier \"exercice2\".\n",
    "\n",
    "Pour rappel, les FLATS sont mesurés pendant les observations à l'aide de la lampe du même nom. Le rôle du FLAT est de corriger l'inhomogénéité des pixels du capteur ainsi que la transmission qui varie en fonction de la longueur d'onde. En théorie, on prend des images d'une source lumineuse uniforme en longueur d'onde et spatialement (sur tout le détecteur). En réalité, la source lumineuse est un corps noir à environ 4000K qui n'est donc pas uniforme en longueur d'onde. Le FLAT aura donc besoin d'être corrigé de cette contribution en le divisant par une courbe de corps noir à 4000K.\n",
    "\n",
    "<font color='red'>**Attention: nous allons charger de nouvelles données qui seront cette fois stockées dans le dictionnaire \"donnees_2_2\" !**"
   ]
  },
  {
   "cell_type": "code",
   "execution_count": null,
   "id": "1f2dc450",
   "metadata": {},
   "outputs": [],
   "source": [
    "donnees_2_2 = {}\n",
    "path = './Data_TP_CPES2/Partie_2/data_2_2/'\n",
    "file_list = os.listdir(path)\n",
    "\n",
    "for file_name in file_list:\n",
    "    try:\n",
    "        current_fits = fits.open(path+file_name)[0] # fits.open() renvoie une list de tableaux de données (appelés \"HDU\") contenus dans le fichier FITS. Ici nos fichiers ne contiennent qu'un seul HDU, que l'on sélectionne avec l'indice [0]\n",
    "        donnees_2_2[file_name] = current_fits      # on stock ici le fichier .fits chargé dans un dictionnaire afin d'y accéder plus facilement par la suite en utilisant le nom du fichier d'origine\n",
    "        print(f'{file_name:<80} has been loaded !')\n",
    "    except Exception as e:                          # En cas d'echec de chargement du fichier, la structure try:... except:... permet d'empêcher au code de planter en affichant l'erreur et en passant au fichier suivant (par exemple si le fichier n'est pas au format .fits)\n",
    "        print(f'Can\\'t load {file_name:<69} {e}')\n"
   ]
  },
  {
   "cell_type": "code",
   "execution_count": 53,
   "id": "db4d5306",
   "metadata": {},
   "outputs": [],
   "source": [
    "# récupération des longueurs d'onde du spectre à partir du header\n",
    "lmin = float(donnees_2_2['flat_5s_1.fits'].header['CRVAL1']) # longueur d'onde du premier point en nm\n",
    "nb   = int(donnees_2_2['flat_5s_1.fits'].header['NAXIS1'])   # nombre de canaux d'échantillonnage\n",
    "step = float(donnees_2_2['flat_5s_1.fits'].header['CD1_1'])  # écart entre deux échantillon en nm\n",
    "wave = np.linspace(lmin-nb*step/2,lmin+nb*step/2,nb)\n"
   ]
  },
  {
   "cell_type": "markdown",
   "id": "5023f091",
   "metadata": {},
   "source": [
    "##### **Question 17 (1 pt) :**\n",
    "Quelle formule va-t-on appliquer pour construire le master flat ?\n",
    "<br>\n",
    "**Faire valider la formule par un encadrant avant de passer à la suite.**"
   ]
  },
  {
   "cell_type": "markdown",
   "id": "30f24811",
   "metadata": {},
   "source": [
    "> <font color='green'> Répondre ici : "
   ]
  },
  {
   "cell_type": "markdown",
   "id": "ec76681d",
   "metadata": {},
   "source": [
    "##### **Question 18 (1 pt) :**\n",
    "De la même manière que vous avez construit les masters dark en faisant la moyenne de plusieurs darks, construire un flat moyen que vous nommerez *master_flat_5s*.\n",
    "\n",
    "\n"
   ]
  },
  {
   "cell_type": "code",
   "execution_count": 54,
   "id": "6723e099",
   "metadata": {},
   "outputs": [],
   "source": [
    "# CODE A COMPLETER : calculer le master_flat_5s\n"
   ]
  },
  {
   "cell_type": "code",
   "execution_count": null,
   "id": "e8efedc9",
   "metadata": {},
   "outputs": [],
   "source": [
    "# CODE A COMPLETER : afficher le master flat\n"
   ]
  },
  {
   "cell_type": "markdown",
   "id": "659b581b",
   "metadata": {},
   "source": [
    "**Pourquoi le spectre de flat a t-il cette forme ?**"
   ]
  },
  {
   "cell_type": "markdown",
   "id": "b75e11a6",
   "metadata": {},
   "source": [
    "> <font color='green'> Répondre ici : "
   ]
  },
  {
   "cell_type": "markdown",
   "id": "3a9541a2",
   "metadata": {},
   "source": [
    "##### **Question 19 (1 pts) :**\n",
    "Le flat doit être corrigé du dark, cependant les temps de pose pour prendre les flats peuvent être différents de ceux utilisés pour les données scientifiques, il faut donc un master dark spécifique aux flats. La source utilisée pour faire le flat étant un corps noir à 4000K, elle n'est pas spectralement homogène. Il faut donc aussi corriger l'effet du corps noir sur le flat.\n",
    "\n",
    "**a) Construire le master dark associé au flat moyen**"
   ]
  },
  {
   "cell_type": "code",
   "execution_count": null,
   "id": "a59f7900",
   "metadata": {},
   "outputs": [],
   "source": [
    "# CODE A COMPLETER : calculer le master_dark_5s\n"
   ]
  },
  {
   "cell_type": "markdown",
   "id": "901528d5",
   "metadata": {},
   "source": [
    "La cellule ci-dessous va nous permettre de charger le spectre de corps noir dans la variable \"CN4000K\". Executez là simplement sans la modifier:"
   ]
  },
  {
   "cell_type": "code",
   "execution_count": null,
   "id": "4ca98490",
   "metadata": {},
   "outputs": [],
   "source": [
    "# La taille du tableau du corps noir n'est pas la même que celle des données\n",
    "# On fait donc une interpolation puis on crée un tableau de même taille que nos données\n",
    "\n",
    "CN4000K = donnees_2_2[\"corps_noir_4000K.fits\"].data\n",
    "\n",
    "# On récupère les information sur le domaine de longueur d'onde dans le header du fichier\n",
    "lrefCN = float(donnees_2_2['corps_noir_4000K.fits'].header['CRVAL1']) # longueur d'onde de référence en nm\n",
    "nbCN   = int(donnees_2_2['corps_noir_4000K.fits'].header['NAXIS1'])   # nombre de canaux d'échantillonnage\n",
    "stepCN = float(donnees_2_2['corps_noir_4000K.fits'].header['CD1_1'])  # écart entre deux échantillon en nm\n",
    "\n",
    "waveCN = np.linspace(lrefCN-nbCN*stepCN/2,lrefCN+nbCN*stepCN/2,nbCN) # Ici le pixel qui sert de référence est au milieu de l'image, \n",
    "# la longueur d'onde minimale est donc lambda_min= lambda_ref - nb_lambda*dlambda/2\n",
    "# de même la longueur d'onde maximale est lambda_max= lambda_ref + nb_lambda*dlambda/2\n",
    "\n",
    "print(wave, waveCN)\n",
    "\n",
    "CN4000K_func = interpolate.interp1d(waveCN, CN4000K)\n",
    "\n",
    "CN4000K = CN4000K_func(wave)\n"
   ]
  },
  {
   "cell_type": "markdown",
   "id": "8c54990c",
   "metadata": {},
   "source": [
    "**b) Construire le master flat corrigé du corps noir (le spectre du corps noir est stocké dans la variable \"CN4000K\")**"
   ]
  },
  {
   "cell_type": "code",
   "execution_count": 58,
   "id": "a107e39d",
   "metadata": {},
   "outputs": [],
   "source": [
    "# CODE A COMPLETER : calculer le master_flat_5s corrigé du dark et du corps noir\n"
   ]
  },
  {
   "cell_type": "markdown",
   "id": "6c6c4364",
   "metadata": {},
   "source": [
    "##### **Question 19 (1 pt) :**\n",
    "Notre master flat est maintenant corrigé du dark et du corps noir, mais présente des valeurs arbitrairement élevées en ADU. Afin de ne pas artificiellement réduire la valeur de nos spectres, une bonne pratique est de normaliser le master flat c'est-à-dire de le ramener à des valeurs proches de 1. \n",
    "\n",
    "Nous allons pour cela diviser le flat par sa valeur moyenne afin de le ramener à une valeur moyenne de 1. \n",
    "\n",
    "**Utilisez la fonction np.mean() afin d'obtenir la valeur moyenne du master flat, et calculez le master flat normalisé**"
   ]
  },
  {
   "cell_type": "code",
   "execution_count": null,
   "id": "92ef633b",
   "metadata": {},
   "outputs": [],
   "source": [
    "# CODE A COMPLETER : sauvegarder et afficher la valeur moyenne du flat moyen\n",
    "\n"
   ]
  },
  {
   "cell_type": "markdown",
   "id": "014582e1",
   "metadata": {},
   "source": [
    "##### **Question 21 (1 pt) :**\n",
    "Afficher et commenter l'allure du master flat normalisé."
   ]
  },
  {
   "cell_type": "code",
   "execution_count": null,
   "id": "a564ce70",
   "metadata": {},
   "outputs": [],
   "source": [
    "# CODE A COMPLETER\n",
    "\n"
   ]
  },
  {
   "cell_type": "markdown",
   "id": "a8e90882",
   "metadata": {},
   "source": [
    "> <font color='green'> Répondre ici : "
   ]
  },
  {
   "cell_type": "markdown",
   "id": "f4bbc25a",
   "metadata": {},
   "source": [
    "### **2.3 - Réduction des données de Capella**"
   ]
  },
  {
   "cell_type": "markdown",
   "id": "4da03fdf",
   "metadata": {},
   "source": [
    "Maintenant que nos master dark et master flat sont prêts, nous allons pouvoir les utiliser afin de réduire les données de l'étoile Capella."
   ]
  },
  {
   "cell_type": "markdown",
   "id": "b0cfc4cf",
   "metadata": {},
   "source": [
    "##### **Question 22 (3 pts) :**\n",
    "**a) Effectuer la réduction sur l'étoile Capella: les données consistent en 5 spectres individuels (*capella_5s_1.fits*, *capella_5s_2.fits*, etc...) chargés dans la variable \"donnees_2_2\".**\n",
    "\n",
    "Attention à utiliser le master flat normalisé et le bon master dark!"
   ]
  },
  {
   "cell_type": "code",
   "execution_count": 75,
   "id": "63189ffa",
   "metadata": {},
   "outputs": [],
   "source": [
    "# CODE A COMPLETER : Faire la réduction complète des spectres de capella_5s\n"
   ]
  },
  {
   "cell_type": "markdown",
   "id": "a411ace6",
   "metadata": {},
   "source": [
    "**b) Comparer le spectre avant et après réduction (pensez à normaliser vos spectre pour pouvoir les comparer).**"
   ]
  },
  {
   "cell_type": "code",
   "execution_count": null,
   "id": "0f38ca18",
   "metadata": {},
   "outputs": [],
   "source": [
    "# CODE A COMPLETER : Afficher le spectre réduit et un spectre brut\n",
    "\n"
   ]
  },
  {
   "cell_type": "markdown",
   "id": "debfa65a",
   "metadata": {},
   "source": [
    "> <font color='green'> Répondre ici : "
   ]
  },
  {
   "cell_type": "markdown",
   "id": "fbb853ff",
   "metadata": {},
   "source": [
    "**c) Enregistrer le spectre réduit en lui donnant comme nom :**\n",
    "*nom_prenom_exo2_SPECTRE_CAPELLA_REDUIT.dat*"
   ]
  },
  {
   "cell_type": "code",
   "execution_count": null,
   "id": "6c534789",
   "metadata": {},
   "outputs": [],
   "source": [
    "# CODE A COMPLETER : sauvegarder et afficher la valeur moyenne du flat moyen\n"
   ]
  },
  {
   "cell_type": "markdown",
   "id": "8146666d",
   "metadata": {},
   "source": [
    "Nous allons maintenant analyser le spectre de Capella réduit et en déduire certaines propriétes. Pour être plus précis, il faudrait corriger vos spectres de la transmission atmosphérique ce que nous n'allons pas faire ici (voir section \"Bonus\" après le TP)."
   ]
  },
  {
   "cell_type": "markdown",
   "id": "69708da0",
   "metadata": {},
   "source": [
    "**Température de Capella**"
   ]
  },
  {
   "cell_type": "markdown",
   "id": "5927f074",
   "metadata": {},
   "source": [
    "Le rayonnement des étoiles est décrit par ce que l'on appelle un corps noir en physique,\n",
    "c'est-à-dire un corps qui émet infiniment moins qu'il n'absorbe d'énergie. Ainsi, la forme d'un\n",
    "spectre est d'abord déterminée par la température de l'objet. La loi de Wien donne la variation\n",
    "du rayonnement d'un corps noir en fonction de la longueur d'onde. Une formule dérivée de cette\n",
    "loi permet de relier la température ($T$) d'un objet à la longueur d'onde où le maximum du\n",
    "rayonnement est émis ($\\lambda_{max}$) :\n",
    "\n",
    "\\begin{equation}\n",
    "    T \\times \\lambda_{max} = 2,898 \\cdot 10^{-3} \\text{[SI]}\n",
    "\\end{equation} "
   ]
  },
  {
   "cell_type": "markdown",
   "id": "ea36d1cd",
   "metadata": {},
   "source": [
    "##### **Question 23 (1 pt) :**\n",
    "Quel est l'unité de la constante $2,898 \\cdot 10^{-3}$, aussi appelée constante de Wien ?"
   ]
  },
  {
   "cell_type": "markdown",
   "id": "e423ba85",
   "metadata": {},
   "source": [
    "> <font color='green'> Répondre ici : "
   ]
  },
  {
   "cell_type": "markdown",
   "id": "3b70c59c",
   "metadata": {},
   "source": [
    "Nous allons utiliser cette formule pour déterminer la température de corps noir de Capella et donc son type spectral.\n",
    "\n",
    "**Fig. 2.1 - Les types spectraux des étoiles en fonction de leur température.**\n",
    "\n",
    "![alt text](ressources/classe-spectrale-etoiles.jpg \"Les types spectraux des étoiles en fonction de leur température.\")\n",
    "\n",
    "Phrase mnémotechnique pour se souvenir des types spectraux : \" **O**h **B**e **A** **F**ine **G**irl/**G**uy,**K**iss **M**e\" !\n",
    "\n",
    "**Fig. 2.2 - Courbes de corps noir en fonction de la longueur d'onde pour plusieurs températures.**\n",
    "\n",
    "![alt text](ressources/Blackbody_emission.png \"Courbes de corps noir en fonction de la longueur d'onde pour plusieurs températures.\")\n"
   ]
  },
  {
   "cell_type": "markdown",
   "id": "cd7d9c4f",
   "metadata": {},
   "source": [
    "##### **Question 24 (2 pts) :**\n",
    "Déterminer à quelle longueur d'onde est le maximum du spectre avec ses incertitudes. \n",
    "\n",
    "Estimer une température pour Capella ainsi que son type spectral en vous aidant de la figure 2.1 ci-dessus."
   ]
  },
  {
   "cell_type": "markdown",
   "id": "9f6af97e",
   "metadata": {},
   "source": [
    "> <font color='green'> Répondre ici : "
   ]
  },
  {
   "cell_type": "markdown",
   "id": "6be5ff1d",
   "metadata": {},
   "source": [
    "**identification de raies**"
   ]
  },
  {
   "cell_type": "markdown",
   "id": "2400bee6",
   "metadata": {},
   "source": [
    "On peut aussi identifier quelques raies typiques de ce type d'étoiles.\n",
    "\n",
    "Pour cela nous allons afficher sur une même figure votre spectre réduit ainsi que l'identification des raies contenue dans *PSL.ids*:"
   ]
  },
  {
   "cell_type": "code",
   "execution_count": null,
   "id": "4c2097ed",
   "metadata": {},
   "outputs": [],
   "source": [
    "# lecture des listes de raies et remplissage du dictionnaire\n",
    "\n",
    "raies_list = [] # liste contenant les raies du fichier 'PSL.ids' sous la forme ['element','position']\n",
    "\n",
    "with open('./Data_TP_CPES2/calib/Raies/PSL.ids','r') as f:\n",
    "    for line in f.readlines()[10:]:\n",
    "        # skip 10 first lines\n",
    "        try:\n",
    "            elements = line.replace('\\t',' ').replace('*','').split(' ')\n",
    "            element_name = elements[-1].replace('\\n','')\n",
    "            element_pos  = float(elements[0])\n",
    "            raies_list.append([element_name,element_pos]) \n",
    "        except Exception as e:\n",
    "            print(e)\n"
   ]
  },
  {
   "cell_type": "code",
   "execution_count": null,
   "id": "eb629f6c",
   "metadata": {},
   "outputs": [],
   "source": [
    "# CODE A COMPLETER\n",
    "plt.figure()\n",
    "\n",
    "# Modifier simplement la ligne ci-dessous pour afficher votre spectre réduit #\n",
    "plt.plot(wave,mean_capella_5s_red_norm,label='mean_capella_5s_red_norm')\n",
    "############################################################\n",
    "\n",
    "for element,position in raies_list:\n",
    "    plt.vlines(position/10.,5,0,color='k',lw=0.5)\n",
    "    plt.text(position/10.,0,element,rotation=90)\n",
    "    \n",
    "plt.xlabel(f'$\\lambda$ [nm]')\n",
    "plt.ylabel('Flux normalisé')\n",
    "plt.ylim(0.,2.)\n",
    "plt.title('Spectre de Capella réduit')\n",
    "plt.legend()\n"
   ]
  },
  {
   "cell_type": "markdown",
   "id": "a9ae2896",
   "metadata": {},
   "source": [
    "##### **Question 25 (2 pts) :**\n",
    "Identifier les raies les plus importantes, de quelles espèces chimiques proviennent-elles ?"
   ]
  },
  {
   "cell_type": "markdown",
   "id": "eb1d727c",
   "metadata": {},
   "source": [
    "> <font color='green'> Répondre ici : "
   ]
  },
  {
   "cell_type": "markdown",
   "id": "a73c8b86",
   "metadata": {},
   "source": [
    "##### **Question 26 (1 pt) :**\n",
    "A votre avis, d'où proviennent ces espèces chimiques ?"
   ]
  },
  {
   "cell_type": "markdown",
   "id": "5c42b41b",
   "metadata": {},
   "source": [
    "> <font color='green'> Répondre ici : "
   ]
  },
  {
   "cell_type": "markdown",
   "id": "616cf245",
   "metadata": {},
   "source": [
    "##### **Question 27 (1 pt) :**\n",
    "En superposant la position théorique de ces différentes raies avec le spectre de Capella, nous pouvons également vérifier que les données sont correctement étalonnées en longueur d'onde, c'est à dire que les raies observées tombent bien à leurs positions théoriques. \n",
    "\n",
    "**Les données sont elles bien étalonnées ici?**"
   ]
  },
  {
   "cell_type": "markdown",
   "id": "180ed395",
   "metadata": {},
   "source": [
    "> <font color='green'> Répondre ici : "
   ]
  },
  {
   "cell_type": "markdown",
   "id": "3e640b72-ca74-460c-a7ea-2e0870db03b9",
   "metadata": {
    "tags": []
   },
   "source": [
    "## **3 - Analyse spectrale de 5 étoiles**"
   ]
  },
  {
   "cell_type": "markdown",
   "id": "347c48a7-1576-4a0e-bf9e-92840247b447",
   "metadata": {},
   "source": [
    "Nous commençons par charger nos données de la même façon que dans les parties précédentes, cette fois en les enregistrant dans la variable \"donnes_3\" :"
   ]
  },
  {
   "cell_type": "code",
   "execution_count": null,
   "id": "b415cd8e-e41e-4a5e-a12a-3f3a912c2772",
   "metadata": {
    "tags": []
   },
   "outputs": [],
   "source": [
    "# récupération de la liste de fichiers dans le répertoir \"./Data_TP_CPES2/Donnees/\" :\n",
    "path = './Data_TP_CPES2/Partie_3/'\n",
    "file_list = os.listdir(path)\n",
    "\n",
    "# chargement des fichiers fits dans un dictionnaire\n",
    "donnees_3 = {}\n",
    "for file_name in file_list:\n",
    "    try:\n",
    "        current_fits = fits.open(path+file_name)[0] # fits.open() renvoie une list de tableaux de données (appelés \"HDU\") contenus dans le fichier FITS. Ici nos fichiers ne contiennent qu'un seul HDU, que l'on sélectionne avec l'indice [0]\n",
    "        donnees_3[file_name] = current_fits         # on stock ici le fichier .fits chargé dans un dictionnaire afin d'y accéder plus facilement par la suite en utilisant le nom du fichier d'origine\n",
    "        print(f'{file_name:<80} has been loaded !')\n",
    "    except Exception as e:                          # En cas d'echec de chargement du fichier, la structure try:... except:... permet d'empêcher au code de planter en affichant l'erreur et en passant au fichier suivant (par exemple si le fichier n'est pas au format .fits)\n",
    "        print(f'Can\\'t load {file_name:<69} {e}')\n"
   ]
  },
  {
   "cell_type": "markdown",
   "id": "c632a565-42e2-4ff1-a99d-ad0fa1596424",
   "metadata": {
    "tags": []
   },
   "source": [
    "##### **Question 28 (3pt) :**\n",
    "**a) En appliquant la même méthode qu'en partie 2, réalisez la réduction des données pour les étoiles Sirius, Tsih, Capella, Aldébaran et Bételgeuse.**\n",
    "\n",
    "- Ces spectres sont accessibles via la variable \"donnees_3\". \n",
    "\n",
    "- Ces donnees ont été prises dans des conditions différentes de celles de la partie 2. Il faudra donc bien recalculer les master darks et le master flat correspondants !\n",
    "\n",
    "- Attention au temps de pose des darks !\n",
    "\n",
    "- N'oubliez pas de diviser le flat par le corps noir contenu dans la variable CN4000K !\n",
    "\n",
    "- N’oubliez pas d’enregistrer vos résultats (notamment MASTER FLAT et MASTER DARKS). \n",
    "\n"
   ]
  },
  {
   "cell_type": "code",
   "execution_count": null,
   "id": "c3b37038-c27e-4f21-a65f-d463742ee530",
   "metadata": {},
   "outputs": [],
   "source": [
    "# CODE A COMPLETER : calcul des master darks\n"
   ]
  },
  {
   "cell_type": "code",
   "execution_count": null,
   "id": "7632b0a1-134b-4659-b37c-a31b065b22d2",
   "metadata": {},
   "outputs": [],
   "source": [
    "# CODE A COMPLETER : calcul du master flat\n"
   ]
  },
  {
   "cell_type": "code",
   "execution_count": null,
   "id": "ad8442bc-b7a0-4d84-bbdf-8e9ab414a5a5",
   "metadata": {},
   "outputs": [],
   "source": [
    "# CODE A COMPLETER : calcul des spectres stellairs moyens\n"
   ]
  },
  {
   "cell_type": "code",
   "execution_count": null,
   "id": "e924a240-e1b1-4998-826e-cf2d3f04bb1f",
   "metadata": {},
   "outputs": [],
   "source": [
    "# CODE A COMPLETER : calcul des spectres réduits\n"
   ]
  },
  {
   "cell_type": "markdown",
   "id": "25edc527-2a37-46e0-b2ee-795163c77c98",
   "metadata": {},
   "source": [
    "**b) Complétez le code ci-dessous pour affichez les 5 spectres sur un même graphique. Faites en sorte qu’ils aient environ le même niveau en les normalisant par leur moyenne. Enregistrez ce graphique sous le nom nom_prenom_Q4_WIEN_ETOILES.png**"
   ]
  },
  {
   "cell_type": "code",
   "execution_count": null,
   "id": "5d4cfa1f-5a4d-4312-a61e-076ac1197d56",
   "metadata": {},
   "outputs": [],
   "source": [
    "# CODE A COMPLETER: affichage des spectres normalisés\n"
   ]
  },
  {
   "cell_type": "markdown",
   "id": "9eff0575-a501-481f-b57a-f2f15afa99e2",
   "metadata": {
    "tags": []
   },
   "source": [
    "##### **Question 29 (2pt) :**\n",
    "À partir des spectres de chaque étoile, identifiez $\\lambda_{max}$ et calculez leurs températures $T_{Wien}$ en utilisant la loi de Wien. Décrivez bien votre méthode de calcul, et utilisez le tableau 1 ci-dessous pour résumer vos résultats (double-cliquez dessus afin de modifier les valeurs)."
   ]
  },
  {
   "cell_type": "markdown",
   "id": "0f727005-3c1e-4af8-9197-860ff354534d",
   "metadata": {
    "tags": []
   },
   "source": [
    "> <font color='green'> Répondre ici :\n",
    "    \n",
    "\n",
    "| Etoile                         | Tsih    | Sirius | Capella | Aldébaran | Bételgeuse |\n",
    "| ---                            | ---     | ---    | ---     | ---       | ---        |\n",
    "| $\\lambda _{max}$ (nm)          |         |        |         |           |            |\n",
    "| $T _{Wien}$ (K)                |         |        |         |           |            |\n",
    "    "
   ]
  },
  {
   "cell_type": "markdown",
   "id": "27b93392-43f9-4622-881d-e3c984312b33",
   "metadata": {
    "tags": []
   },
   "source": [
    "##### **Question 30 (1pt) :**\n",
    "À l'aide de la table des types spectraux et des courbes de corps noir données en partie 2 (fig. 2.1 et 2.2), déterminez le type spectral de chaque étoile à partir de la température estimée précédemment. Entrez vos résultats dans la ligne 'type de spectre' du tableau ci-dessous."
   ]
  },
  {
   "cell_type": "markdown",
   "id": "2d0cfbde-c4b7-468c-a602-0a02e398c81b",
   "metadata": {
    "tags": []
   },
   "source": [
    "> <font color='green'> Répondre ici :\n",
    "    \n",
    "\n",
    "| Etoile                         | Tsih    | Sirius | Capella | Aldébaran | Bételgeuse |\n",
    "| ---                            | ---     | ---    | ---     | ---       | ---        |\n",
    "| $\\lambda _{max}$ (nm)          |         |        |         |           |            |\n",
    "| $T _{Wien}$ (K)                |         |        |         |           |            |\n",
    "| Type de spectre                |         |        |         |           |            |\n",
    "    "
   ]
  },
  {
   "cell_type": "markdown",
   "id": "ff92ac80-6fdb-4e3a-8c51-aaf6dbfb9992",
   "metadata": {
    "tags": []
   },
   "source": [
    "##### **Question 31 (1pt) :**\n",
    "Le code ci-dessous permet de comparer vos spectres à ceux des spectres typiques d'étoiles (dans le dossier \"calib/Etoiles\"). Compléter le code ci-dessous afin d'afficher l'un de vos spectres normalisés et comparer ce spectre avec les étoiles de référence.\n",
    "\n",
    "Faites la comparaison uniquement entre 400 et 800 nm, là ou le spectromètre PSL est utilisable. Déduisez-en une autre estimation de la température et du type spectral de l'étoile.\n",
    "Résumez vos résultats dans les lignes 'type de spectre (comparison)' et '$T_{est}$' du tableau ci-dessous."
   ]
  },
  {
   "cell_type": "code",
   "execution_count": null,
   "id": "b7ec2a29-84b3-4644-aef0-345e44f29c03",
   "metadata": {},
   "outputs": [],
   "source": [
    "plt.figure() \n",
    "\n",
    "# CODE A COMPLETER : affichage de l'un de vos spectres\n",
    "plt.plot(wave, aldebaran_normalise, label='Aldebaran normalisé')\n",
    "######################################################################################################################\n",
    "\n",
    "# étoiles de références (code déjà complet)\n",
    "ref_star_list = os.listdir('./Data_TP_CPES2/calib/Etoiles/') # liste des fits \n",
    "for file in ref_star_list:\n",
    "    # chargement du fits\n",
    "    star = fits.open('./Data_TP_CPES2/calib/Etoiles/'+file)[1]\n",
    "    spectra = star.data['FLUX']\n",
    "    spectra /= np.mean(spectra) # normalisation\n",
    "    star_wave = star.data['WAVELENGTH'] / 10 # convert to nm\n",
    "    # affichage\n",
    "    plt.plot(star_wave,spectra,label=file,lw=0.5)\n",
    "    \n",
    "plt.xlabel(f'$\\lambda$ [nm]')\n",
    "plt.ylabel(f'Flux')\n",
    "plt.legend()\n",
    "plt.title('Comparaison avec les étoiles de référence')\n"
   ]
  },
  {
   "cell_type": "markdown",
   "id": "0b4e3fe8-ddfe-4d6e-b485-020e10c0dd5d",
   "metadata": {
    "tags": []
   },
   "source": [
    "> <font color='green'> Répondre ici :     \n",
    "\n",
    "    \n",
    "| Etoile                         | Tsih    | Sirius | Capella | Aldébaran | Bételgeuse |\n",
    "| ---                            | ---     | ---    | ---     | ---       | ---        |\n",
    "| $\\lambda _{max}$ (nm)          |         |        |         |           |            |\n",
    "| $T _{Wien}$ (K)                |         |        |         |           |            |\n",
    "| Type de spectre                |         |        |         |           |            |\n",
    "| Type de spectre (comparaison)  |         |        |         |           |            |\n",
    "| $T_{est}$ (K)                  |         |        |         |           |            |\n"
   ]
  },
  {
   "cell_type": "markdown",
   "id": "c933c8bd-0846-4d91-b4f3-499e84cb3126",
   "metadata": {
    "tags": []
   },
   "source": [
    "## **4 - Mesures des profils de raies stellaires**"
   ]
  },
  {
   "cell_type": "markdown",
   "id": "967907f0-bc92-44c0-b3b7-24b0842885a9",
   "metadata": {},
   "source": [
    "La forme des raies stellaires permet d'étudier les conditions de température et de pression\n",
    "dans les atmosphères stellaires. La qualité des mesures et la résolution spectroscopique est ici\n",
    "beaucoup trop faible pour faire une étude avancée. Néanmoins, il est possible de faire un certain\n",
    "nombre de remarques intéressantes.\n",
    "\n",
    "Nous allons nous focaliser sur une raie centrée autour de 650 nm visible sur les étoiles Tsih\n",
    "(25 000 K), Zeta Tau (22 000K), Sirius (9900 K), Alcyone (13 000K) et Eta Cassiopée (5700 K).\n",
    "\n",
    "la cellule suivante va charger les spectres de chaque étoile contenus dans le dossier \"Partie_4_\" dans un nouveau dictionnaire \"donnees_4\" et les afficher. \n",
    "\n",
    "**Ces spectres ont déjà été réduits et étalonnés, et sont normalisés aux mêmes flux autour de la raie intéressante.**"
   ]
  },
  {
   "cell_type": "code",
   "execution_count": null,
   "id": "464a86f3-2067-4fb8-ab3d-0eaedb75b555",
   "metadata": {},
   "outputs": [],
   "source": [
    "# Chargement des spectres du dossier \"Partie_4\"\n",
    "\n",
    "# list des fichiers fits à charger\n",
    "file_list_4 = [name for name in os.listdir('./Data_TP_CPES2/Partie_4/') if '.fits' in name]\n",
    "\n",
    "# remplissage du dictionnaire avec les fits chargés\n",
    "donnees_4 = {}\n",
    "for file in file_list_4:\n",
    "    star_fits = fits.open('./Data_TP_CPES2/Partie_4/'+file)[0]\n",
    "    donnees_4[file] = star_fits\n",
    "    \n",
    "# récupération de l'échelle en longueur d'onde\n",
    "ref_px = star_fits.header[\"CRPIX1\"] # Ref pixel nb\n",
    "lref   = star_fits.header[\"CRVAL1\"] # wavelength value at ref pixel\n",
    "step   = float(star_fits.header[\"CD1_1\"])  # step in nm btw each pixel\n",
    "nb     = star_fits.header[\"NAXIS1\"] # tot nb of pixels\n",
    "lmin   = lref-ref_px*step # wavelength of first pixel\n",
    "wave_part5 = np.linspace(lmin,lmin+nb*step,nb)\n",
    "\n",
    "# Affichage des spectres\n",
    "plt.figure()\n",
    "for star_name,star_fits in donnees_4.items():\n",
    "    plt.plot(wave_part5,star_fits.data,label=star_name)\n",
    "    \n",
    "plt.xlabel(f'$\\lambda$ [nm]')\n",
    "plt.ylabel('Flux')\n",
    "plt.legend()\n",
    "plt.title('Comparaison des raies')    \n"
   ]
  },
  {
   "cell_type": "markdown",
   "id": "c642c161-de40-44d9-9145-2ccb528b50a5",
   "metadata": {
    "tags": []
   },
   "source": [
    "##### **Question 32 (1pt) :**\n",
    "Mesurez la position de la raie sur votre graphique. \n",
    "<br>\n",
    "À quelle longueur d'onde se situe cette raie exactement ? \n",
    "<br>\n",
    "À quel élément cela correspond-il ? À quelle longueur d'onde théorique devrait se situer cette raie ?"
   ]
  },
  {
   "cell_type": "markdown",
   "id": "b4e67c6a-d917-49d5-a2b3-e563fe074fb1",
   "metadata": {
    "tags": []
   },
   "source": [
    "> <font color='green'> Répondre ici : "
   ]
  },
  {
   "cell_type": "markdown",
   "id": "a0de98db-aee6-4e9d-aca2-162045077efa",
   "metadata": {},
   "source": [
    "Nous allons utiliser uniquement la partie du spectre située entre 645 nm et 665 nm. Pour cela, nous allons créer un **masque** avec *numpy* permettant de sélectionner les spectres uniquement dans cette région. Un masque s'applique simplement à un vecteur de données en l'ajoutant sous la forme [masque] (entre crochets) après les données, comme dans l'exemple ci-dessous :"
   ]
  },
  {
   "cell_type": "code",
   "execution_count": null,
   "id": "c752d82a-403e-4576-89ea-80b0c5c234cb",
   "metadata": {},
   "outputs": [],
   "source": [
    "masque = np.logical_and(wave_part5 > 645, wave_part5 < 665) # création du masque : permet de ne sélectionner que les données aux longueurs d'ondes entre 645 et 665nm\n",
    "\n",
    "# Affichage des spectres\n",
    "plt.figure()\n",
    "for star_name,star_fits in donnees_4.items():\n",
    "    # en ajoutant [masque] après le vecteur des longueurs d'ondes et des données, on ne sélectionne que les données vérifiant la condition du masque\n",
    "    plt.plot(wave_part5[masque],star_fits.data[masque],label=star_name) \n",
    "    \n",
    "plt.xlabel(f'$\\lambda$ [nm]')\n",
    "plt.ylabel('Flux')\n",
    "plt.legend()\n",
    "plt.title('Comparaison des raies entre 645 et 665nm')   \n"
   ]
  },
  {
   "cell_type": "markdown",
   "id": "63c852e1-2516-4746-9927-f673da57722e",
   "metadata": {},
   "source": [
    "On voit dans le graphique ci-dessus que le continuum n'est pas constant, mais penché. Pour la suite, nous aurons besoin de redresser le continuum horizontalement à 1. Pour ce faire, la cellule ci-dessous vous permet de réaliser un ajustement du continuum, c'est-à-dire de trouver une fonction (une simple droite dans le cas présent) dont la forme se rapproche raisonnablement du continuum afin de le ramener à 1 par une division. **Executez simplement la cellule sans la modifier.**"
   ]
  },
  {
   "cell_type": "code",
   "execution_count": null,
   "id": "b2bb510d-f927-4b8d-813f-3042eefde99b",
   "metadata": {
    "tags": []
   },
   "outputs": [],
   "source": [
    "# Affichage des spectres\n",
    "fig = plt.figure()\n",
    "for star_name,star_fits in donnees_4.items():\n",
    "    # en ajoutant [masque] après le vecteur des longueurs d'ondes et des données, on ne sélectionne que les données vérifiant la condition du masque\n",
    "    plt.plot(wave_part5[masque],star_fits.data[masque],label=star_name) \n",
    "    \n",
    "plt.xlabel(f'$\\lambda$ [nm]')\n",
    "plt.ylabel('Flux')\n",
    "plt.legend()\n",
    "plt.title('Comparaison des raies entre 645 et 665nm')\n",
    "\n",
    "# coordonnées des 2 points\n",
    "X1 = None\n",
    "X2 = None\n",
    "continuum_fit = None\n",
    "\n",
    "# fonctions gérant l'évenement 'button_click'\n",
    "def firstclick(event):\n",
    "    global fig, cid, X1\n",
    "    # get the coordinate\n",
    "    X1 = [event.xdata, event.ydata]\n",
    "    fig.canvas.draw()\n",
    "    fig.canvas.flush_events()\n",
    "    # add a \"+\" on the position\n",
    "    plt.plot(X1[0],X1[1],'k+',markersize=15)\n",
    "    # Bind the button_press_event with the secondclick() method\n",
    "    fig.canvas.mpl_disconnect(cid)\n",
    "    cid = fig.canvas.mpl_connect('button_press_event', secondclick )\n",
    "\n",
    "def secondclick(event):\n",
    "    global fig, cid, X2, continuum_fit, wave_part5, masque\n",
    "    # get the coordinate\n",
    "    X2 = [event.xdata, event.ydata]\n",
    "    # add a \"+\" on the position\n",
    "    plt.plot(X2[0],X2[1],'k+',markersize=15)\n",
    "    # compute and plot the fit\n",
    "    f = interp1d([X1[0],X2[0]],[X1[1],X2[1]], bounds_error=False,fill_value='extrapolate')\n",
    "    continuum_fit = f(wave_part5)[masque]\n",
    "    plt.plot(wave_part5[masque],continuum_fit,'k-',label='Continuum fit')\n",
    "    plt.legend()\n",
    "    fig.canvas.draw()\n",
    "    fig.canvas.flush_events()\n",
    "    # Empty the event connection\n",
    "    fig.canvas.mpl_disconnect(cid)\n",
    "    \n",
    "    \n",
    "# Bind the button_press_event with the firstclick() method. cid is the id of the connection, usefull for deconnecting purpose\n",
    "cid = fig.canvas.mpl_connect('button_press_event', firstclick )\n"
   ]
  },
  {
   "cell_type": "markdown",
   "id": "5904bd40-f365-4509-b9dc-383389d189ca",
   "metadata": {},
   "source": [
    "**Dans la figure ci-dessus,** cliquez sur les deux extremités du continuum. Vous verrez alors apparaître une droite reliant ces deux points : il s'agit du fit de votre continuum.\n",
    "\n",
    "**Remarque :** vous pouvez relancer la cellule au dessus de la figure pour recommencer la sélection avec deux nouveaux points et refaire votre fit en cas de fausse manip."
   ]
  },
  {
   "cell_type": "markdown",
   "id": "ce25a3da-b8b5-4b97-afc3-52b3d1486c25",
   "metadata": {},
   "source": [
    "Nous avons maintenant un fit linéaire représentant de façon satisfaisante le continuum entre 645 et 665nm.<br> **Complétez le code ci-dessous** pour diviser chaque spectre par ce fit linéaire afin de ramener le continuum à 1 :"
   ]
  },
  {
   "cell_type": "code",
   "execution_count": null,
   "id": "0c64137c-6666-4577-80d3-7091a7d3e773",
   "metadata": {},
   "outputs": [],
   "source": [
    "# Récupération des spectres d'étoiles dans différentes variables : ne pas oublier le [masque] pour ne sélectionner que la région d'intérêt\n",
    "Zeta_Tau_spectra = donnees_4['Zeta_Tau.fits'].data[masque]\n",
    "Tsih_spectra     = donnees_4['Tsih.fits'    ].data[masque]\n",
    "Sirius_spectra   = donnees_4['Sirius.fits'  ].data[masque]\n",
    "Alcyone_spectra  = donnees_4['Alcyone.fits' ].data[masque]\n",
    "Eta_Cas_spectra  = donnees_4['Eta_Cas.fits' ].data[masque]\n",
    "\n",
    "# CODE A COMPLETER: ramener le continuum à 1 en utilisant le fit lineair \"continuum_fit\"\n",
    "\n",
    "\n",
    "######################################################\n",
    "\n",
    "# Affichage\n",
    "plt.figure()\n",
    "plt.plot(wave_part5[masque],Zeta_Tau_spectra,label='Zeta_Tau')\n",
    "plt.plot(wave_part5[masque],Sirius_spectra,label='Sirius')\n",
    "plt.plot(wave_part5[masque],Alcyone_spectra,label='Alcyone')\n",
    "plt.plot(wave_part5[masque],Eta_Cas_spectra,label='Eta_Cas')\n",
    "plt.plot(wave_part5[masque],Tsih_spectra,label='Tsih')\n",
    "plt.xlabel(f'$\\lambda$')\n",
    "plt.ylabel('Flux')\n",
    "plt.legend()\n"
   ]
  },
  {
   "cell_type": "markdown",
   "id": "4206a520-2ef5-4309-9745-d22592df6d5c",
   "metadata": {},
   "source": [
    "Notre objectif est de trouver, pour chaque raie, si la forme de celle-ci se rapproche plus d'une gaussienne ou d'une lorentzienne, afin d'en déduire des propriétées physiques sur l'hydrogène dans ces étoiles. Pour cela, nous devons ramener notre continuum à 0 et ramener à 1 le maximum des raies en émission et à -1 le minimum des raies en absorption. Ceci nous permettra de comparer directement la forme des raies entre elles."
   ]
  },
  {
   "cell_type": "markdown",
   "id": "57f93702-60f0-4904-a32e-a707fb3affba",
   "metadata": {},
   "source": [
    "Pour ce faire, nous allons d'abord soustraire 1 à nos courbes afin de ramener le continuum à 0 :"
   ]
  },
  {
   "cell_type": "code",
   "execution_count": null,
   "id": "6cbf939b-5cc7-4098-ab10-f4da0ec573ea",
   "metadata": {},
   "outputs": [],
   "source": [
    "# Division du spectre par le maximum/minimum de la raie :\n",
    "Zeta_Tau_spectra = Zeta_Tau_spectra - 1\n",
    "Tsih_spectra     = Tsih_spectra     - 1\n",
    "Sirius_spectra   = Sirius_spectra   - 1 \n",
    "Alcyone_spectra  = Alcyone_spectra  - 1\n",
    "Eta_Cas_spectra  = Eta_Cas_spectra  - 1 \n",
    "######################################################\n",
    "\n",
    "# Affichage\n",
    "plt.figure()\n",
    "plt.plot(wave_part5[masque],Zeta_Tau_spectra,label='Zeta_Tau')\n",
    "plt.plot(wave_part5[masque],Sirius_spectra,label='Sirius')\n",
    "plt.plot(wave_part5[masque],Alcyone_spectra,label='Alcyone')\n",
    "plt.plot(wave_part5[masque],Eta_Cas_spectra,label='Eta_Cas')\n",
    "plt.plot(wave_part5[masque],Tsih_spectra,label='Tsih')\n",
    "plt.xlabel(f'$\\lambda$')\n",
    "plt.ylabel('Flux')\n",
    "plt.legend()\n"
   ]
  },
  {
   "cell_type": "markdown",
   "id": "e29f8953-df8e-4cc6-a2fd-13c4141df665",
   "metadata": {},
   "source": [
    "Nous divisons ensuite chaque courbe par le maximum de sa valeur absolue, ce qui permet d'obtenir des raies dont le maximum est à 1 pour les raies en émission et à -1 pour les raies en absorption.\n",
    "\n",
    "**Complétez le code ci-dessous afin que chaque raie ait son maximum/minimum à 1 ou -1. Vous pourrez vous aider des fonctions np.min(), np.max(), et/ou np.abs()**"
   ]
  },
  {
   "cell_type": "code",
   "execution_count": null,
   "id": "981d959f-7fa6-4692-849f-a8092d779b3d",
   "metadata": {},
   "outputs": [],
   "source": [
    "# CODE A COMPLETER\n",
    "\n",
    "\n",
    "######################################################\n",
    "\n",
    "# Affichage\n",
    "plt.figure()\n",
    "plt.plot(wave_part5[masque],Zeta_Tau_spectra,label='Zeta_Tau')\n",
    "plt.plot(wave_part5[masque],Sirius_spectra,label='Sirius')\n",
    "plt.plot(wave_part5[masque],Alcyone_spectra,label='Alcyone')\n",
    "plt.plot(wave_part5[masque],Eta_Cas_spectra,label='Eta_Cas')\n",
    "plt.plot(wave_part5[masque],Tsih_spectra,label='Tsih')\n",
    "plt.xlabel(f'$\\lambda$')\n",
    "plt.ylabel('Flux')\n",
    "plt.legend()\n"
   ]
  },
  {
   "cell_type": "markdown",
   "id": "e1b4ae1a-b952-4648-bdc1-f41f4225cee7",
   "metadata": {
    "tags": []
   },
   "source": [
    "##### **Question 33 (1pt):**\n",
    "Comparez la forme des 2 raies en absorption. Ont-elles la même largeur à mi-hauteur ?"
   ]
  },
  {
   "cell_type": "markdown",
   "id": "33446a6e-6c4d-45a0-be0a-6268ea1ff74a",
   "metadata": {
    "tags": []
   },
   "source": [
    "> <font color='green'> Répondre ici : "
   ]
  },
  {
   "cell_type": "markdown",
   "id": "375c57e6-d441-49e2-9a6b-c4f601a74104",
   "metadata": {
    "tags": []
   },
   "source": [
    "##### **Question 34 (1pt) :**\n",
    "Le code ci-dessous va nous permettre d'ajuster chaque raie avec un profil gaussien et un profil lorentzien : executez la cellule ci-dessous sans la modifier. "
   ]
  },
  {
   "cell_type": "code",
   "execution_count": null,
   "id": "b610971a-6adc-4da9-9f19-e5847b233ce9",
   "metadata": {},
   "outputs": [],
   "source": [
    "# Définition du modèle gaussien :\n",
    "def gauss(x, *p):\n",
    "    A, mu, sigma = p\n",
    "    return A*np.exp(-(x-mu)**2/(2.*sigma**2))\n",
    "\n",
    "# Défintion du modèle Lorentzien :\n",
    "def lorentzian(x, *p):\n",
    "    A, mu, gam = p\n",
    "    return (A/np.pi) * (gam/2) / ( (gam/2)**2 + ( x - mu )**2)\n",
    "\n",
    "\n",
    "class do_fit:\n",
    "    \n",
    "    def __init__(self,xdata,ydata,name):\n",
    "        self.xdata = np.copy(xdata)\n",
    "        self.ydata = np.copy(ydata)\n",
    "        self.name  = name\n",
    "\n",
    "        # Affichage du spectre\n",
    "        fig = plt.figure()\n",
    "\n",
    "        plt.plot(xdata,ydata,label=name)    \n",
    "        plt.xlabel(f'$\\lambda$ [nm]')\n",
    "        plt.ylabel('Flux')\n",
    "        plt.legend()\n",
    "\n",
    "        self.titles = [\n",
    "        'Cliquez sur le continuum : gauche',\n",
    "        'Cliquez sur le continuum : droite',\n",
    "        'Cliquez sur la raie à mi-hauteur : gauche',\n",
    "        'Cliquez sur la raie à mi-hauteur : droite',\n",
    "        'Cliquez sur le max/min de la raie',\n",
    "        name]\n",
    "        \n",
    "        # coordonnées des 5 points\n",
    "        self.X = []\n",
    "        self.k = 0\n",
    "        plt.title(self.titles[self.k])\n",
    "        \n",
    "        # Bind the button_press_event with the firstclick() method. cid is the id of the connection, usefull for deconnecting purpose\n",
    "        self.cid = fig.canvas.mpl_connect('button_press_event', self.click )\n",
    "        \n",
    "    # fonctions gérant l'évenement 'button_click'\n",
    "    def click(self,event):\n",
    "        # get the coordinate\n",
    "        self.k+=1      \n",
    "        plt.title(self.titles[self.k])  \n",
    "        self.X.append([event.xdata, event.ydata])\n",
    "        fig.canvas.draw()\n",
    "        fig.canvas.flush_events()\n",
    "        # add a \"+\" on the position\n",
    "        plt.plot(self.X[-1][0],self.X[-1][1],'k+',markersize=15)\n",
    "          \n",
    "        # Disconnect event and plot the Gaussian fit when 5 points have been selected\n",
    "        if len(self.X)>=5:\n",
    "            fig.canvas.mpl_disconnect(self.cid)\n",
    "            # re-normalise continuum of the specific line\n",
    "            f = interp1d([self.X[0][0],self.X[1][0]],[self.X[0][1],self.X[1][1]], bounds_error=False,fill_value='extrapolate')\n",
    "            continuum_fit = f(self.xdata)+1\n",
    "            \n",
    "            self.ydata = ((self.ydata+1) / continuum_fit) - 1\n",
    "            # compute sigma using FWHM\n",
    "            self.fwhm = np.abs(self.X[2][0] - self.X[3][0])\n",
    "            self.sigma = self.fwhm / 2.355\n",
    "            # get the mu value (center of gaussian)\n",
    "            self.mu = self.X[4][0]\n",
    "            # get the amplitude\n",
    "            self.A  = self.X[4][1]\n",
    "            \n",
    "            # replot figure\n",
    "            plt.clf()\n",
    "            plt.plot(self.xdata,self.ydata,label=self.name)\n",
    "            \n",
    "            # use scipy for gaussian fit\n",
    "            self.coeff_G, self.var_matrix_G = curve_fit(gauss, self.xdata, self.ydata, p0=[self.A,self.mu,self.sigma])\n",
    "            # plot the gaussian fit\n",
    "            plt.plot(self.xdata,gauss(self.xdata,*self.coeff_G),'r--',\n",
    "                     label=f'Gaussian fit : FWHM = {self.coeff_G[-1]*2.355:.2f}$\\pm${np.sqrt(np.diag(self.var_matrix_G)[-1])*2.355:.2f}')\n",
    "\n",
    "            # use scipy for lorentz fit\n",
    "            self.coeff_L, self.var_matrix_L = curve_fit(lorentzian, self.xdata, self.ydata, p0=[self.A,self.mu,self.fwhm])\n",
    "            # plot the gaussian fit\n",
    "            plt.plot(self.xdata,lorentzian(self.xdata,*self.coeff_L),'g--',\n",
    "                     label=f'Lorentzian fit : FWHM = {self.coeff_L[-1]:.2f}$\\pm${np.sqrt(np.diag(self.var_matrix_L)[-1]):.2f}')\n",
    "\n",
    "            plt.legend()\n",
    "            fig.canvas.draw()\n",
    "            fig.canvas.flush_events()\n",
    "            \n"
   ]
  },
  {
   "cell_type": "markdown",
   "id": "3aa56846-b82f-43da-8b0e-db9688b2c57d",
   "metadata": {},
   "source": [
    "Grâce à la cellule ci-dessus, nous avons maintenant une fonction \"do_fit()\" permettant d'ajuster une Gaussienne et une Lorentzienne sur un spectre. Pour cela, il suffit d'appeler la fonction avec comme argument le spectre ainsi que le nom de l'étoile. En lançant la fonction, on obtient une figure sur laquelle il faut cliquer en 5 points dans l'ordre suivant :\n",
    "\n",
    "- 1er point : sur le continuum à gauche\n",
    "- 2nd point : sur le continuum à droite\n",
    "- 3e  point : sur la raie, à mi-hauteur, à gauche\n",
    "- 4e  point : sur la raie, à mi-hauteur, à droite\n",
    "- 5e  point : sur le maximum/minimum de la raie en émission/absorption\n",
    "\n",
    "**Pour chacune des cellules ci-dessous : executez la cellule, et cliquez sur la figure afin d'indiquer à la fonction les 5 points à prendre en compte pour le fit. Veillez à bien respecter l'ordre de sélection de ces 5 points !**"
   ]
  },
  {
   "cell_type": "code",
   "execution_count": null,
   "id": "00a3d10c-2d00-43ac-89b2-9ec3c79a4d54",
   "metadata": {},
   "outputs": [],
   "source": [
    "Sirius_fit = do_fit(wave_part5[masque],Sirius_spectra,\"Sirius\")\n"
   ]
  },
  {
   "cell_type": "code",
   "execution_count": null,
   "id": "136ca4f8-d133-482c-b786-c2e240a9972a",
   "metadata": {
    "tags": []
   },
   "outputs": [],
   "source": [
    "Eta_Cas_fit = do_fit(wave_part5[masque],Eta_Cas_spectra,\"Eta Cas\")\n"
   ]
  },
  {
   "cell_type": "markdown",
   "id": "69956e03-b0bc-44db-9ed0-51b0eaf6d461",
   "metadata": {},
   "source": [
    "Ces deux raies en absorption ont elles un profil de type Lorentzien ? Gaussien ? Quelle est la largeur à mi-hauteur estimée par la fonction (FWHM, dans la légende de la figure) ?"
   ]
  },
  {
   "cell_type": "markdown",
   "id": "1307d662-f8c0-4556-b683-58113eb3558c",
   "metadata": {
    "tags": []
   },
   "source": [
    "> <font color='green'> Répondre ici :"
   ]
  },
  {
   "cell_type": "markdown",
   "id": "2b0158e2-8237-4610-99d8-d3b599d6f28e",
   "metadata": {
    "tags": []
   },
   "source": [
    "##### **Question 35 (1pt) :**\n",
    "Le profil Lorentzien d'une raie provient des effets de collisions des atomes dans l'atmosphère de l'étoile. Le profil Lorentzien s'élargit à mesure qu'il y a plus de collisions. Ces collisions sont générées par une augmentation de la température. Cela est-il cohérent avec ce que vous observez ?"
   ]
  },
  {
   "cell_type": "markdown",
   "id": "916a86f1-a225-49ce-b90d-c25892a177f4",
   "metadata": {
    "tags": []
   },
   "source": [
    "> <font color='green'> Répondre ici : "
   ]
  },
  {
   "cell_type": "markdown",
   "id": "a0aaa72a-33a2-47e4-9ae4-a0cd90099ae3",
   "metadata": {
    "tags": []
   },
   "source": [
    "## **5 - Les étoiles de type Be ou étoile B à raie d'émission**"
   ]
  },
  {
   "cell_type": "markdown",
   "id": "1dab2c11-79d4-46f2-b12d-a227c9c628fc",
   "metadata": {},
   "source": [
    "Les étoiles Be sont des étoiles de type B - donc chaudes (température de 10000 à 30000K)\n",
    "dont le spectre a montré au moins une fois une raie en émission, généralement une raie de Balmer.\n",
    "Ces raies en émission peuvent se présenter sous différentes formes. Elles proviennent d'un disque\n",
    "équatorial dont l'émission s'ajoute au spectre d'absorption de la photosphère de l'étoile.\n",
    "L'étoile centrale de type B émet notamment dans l'Ultra-Violet et ionise ce disque qui ré-\n",
    "émet l'énergie à de plus grandes longueurs d'onde comme dans le domaine visible. La même étoile\n",
    "Be peut avoir un profil spectral variable selon l'angle d'observation de ce disque (Figure 6). Ces\n",
    "émissions peuvent être accompagnées d'un décalage doppler des raies d'émission vers le bleu pour\n",
    "la partie du disque qui se rapproche de nous et vers le rouge pour la partie qui s'éloigne de nous\n",
    "(cf Figure 7)."
   ]
  },
  {
   "cell_type": "markdown",
   "id": "b75ca515-8b5f-459b-901c-e778711e9843",
   "metadata": {},
   "source": [
    "**Figure 6 - Modèle d'une étoile Be classique montrant le type de spectre observé en fonction de l'orientation selon laquelle l'observateur voit le disque d'émission (Kogure & Hirata, 1982).**\n",
    "\n",
    "![alt text](ressources/Be_figure1.png \"Be_figure1\")\n"
   ]
  },
  {
   "cell_type": "markdown",
   "id": "cae8f1ed-b3a1-41f2-9c36-d9c8d270cdd5",
   "metadata": {},
   "source": [
    "**Figure 7 - Modèle d'une étoile Be classique montrant le décalage des raies d'émission de chaque partie du disque observé.**\n",
    "\n",
    "![alt text](ressources/Be_figure2.png \"Be_figure1\")\n"
   ]
  },
  {
   "cell_type": "markdown",
   "id": "d48f093b-8ac5-4ac2-a709-17017bcb25d5",
   "metadata": {
    "tags": []
   },
   "source": [
    "##### **Question 36 (1.5pt) :**\n",
    "Quelles sont les trois étoiles parmi Tsih, Zeta Tau, Sirius, Eta Cassiopée et Alcyone qui correspondent à la définition d'une étoile Be ? Vu la forme des raies et en vous aidant\n",
    "de la Figure 6, pouvez-vous estimer l'orientation dans laquelle nous voyons chacune de ces trois étoiles ?"
   ]
  },
  {
   "cell_type": "markdown",
   "id": "90eb72f7-f13a-42c9-96fa-edad5c46bc11",
   "metadata": {
    "tags": []
   },
   "source": [
    "> <font color='green'> Répondre ici : "
   ]
  },
  {
   "cell_type": "markdown",
   "id": "251f1308-204a-48cf-8f71-6deed127647c",
   "metadata": {
    "tags": []
   },
   "source": [
    "##### **Question 37 (1pt) :**\n",
    "L'une de ces étoiles montre clairement une raie déformée et assez élargie. En comparant la largeur à mi-hauteur de cette raie avec la largeur à mi-hauteur de la raie la plus\n",
    "fine, estimez l'élargissement de la raie en nm. Aidez-vous de la fonction \"do_fit\" pour mesurer plus précisément la largeur à mi-hauteur de chaque raie."
   ]
  },
  {
   "cell_type": "code",
   "execution_count": null,
   "id": "66267652-1d62-4a5b-9d2d-eb3255706ddb",
   "metadata": {},
   "outputs": [],
   "source": [
    "# Code à compléter\n"
   ]
  },
  {
   "cell_type": "markdown",
   "id": "d6ae593d-a941-409d-9ada-da2424af0b66",
   "metadata": {
    "tags": []
   },
   "source": [
    "> <font color='green'> Répondre ici : "
   ]
  },
  {
   "cell_type": "markdown",
   "id": "24c12ff5-4b43-4791-a9fa-1781a289a941",
   "metadata": {
    "tags": []
   },
   "source": [
    "##### **Question 38 (1pt) :**\n",
    "En vous rappelant que le décalage Doppler (pour des vitesses v beaucoup plus petites que la vitesse de la lumière c ) s'écrit $∆λ = λ \\frac{v}{c }$ , déduisez la vitesse maximale sur les\n",
    "bords du disque d'émission."
   ]
  },
  {
   "cell_type": "markdown",
   "id": "bd1857e8-dfc3-479b-a8a2-290b93f632e9",
   "metadata": {
    "tags": []
   },
   "source": [
    "> <font color='green'> Répondre ici : "
   ]
  },
  {
   "cell_type": "markdown",
   "id": "aac4978b-c2d2-454a-b7a8-2eb794361658",
   "metadata": {},
   "source": [
    "## **Conclusion (2pt) :**"
   ]
  },
  {
   "cell_type": "markdown",
   "id": "75d00d02-50bd-40ed-982c-18ff940df872",
   "metadata": {},
   "source": [
    "> <font color='green'> A compléter"
   ]
  },
  {
   "cell_type": "markdown",
   "id": "e859243c-291c-49bd-84c1-2224aa0b605a",
   "metadata": {
    "tags": []
   },
   "source": [
    "***"
   ]
  },
  {
   "cell_type": "markdown",
   "id": "649f851c-555b-483b-b6d2-e85708f503e2",
   "metadata": {
    "tags": []
   },
   "source": [
    "### **Remise de votre Notebook :**"
   ]
  },
  {
   "cell_type": "markdown",
   "id": "0023bde9-9719-44d6-9568-78d5d95fd70a",
   "metadata": {},
   "source": [
    "Votre notebook fait office de compte-rendus, c'est donc ce fichier qui sera évalué par votre encadrant. \n",
    "\n",
    "**Une fois votre notebook complet, veuillez donc l'enregistrer sous un nom au format \"TP8_CPES2_NOM_PRENOM.ipynb\"**\n",
    "\n",
    "**Veuillez également sauvegarder une version HTML de votre notebook en cliquant sur \"File\" -> \"Save and export as\" > \"HTMl\"**\n",
    "\n",
    "**Pensez bien à indiquer tout les NOMS DE FAMILLES dans le nom des fichiers.**\n",
    "\n",
    "Vous uploaderez ensuite vos fichiers sur le lien suivant: https://share.obspm.fr/s/fESDirJrY6scBTM"
   ]
  },
  {
   "cell_type": "markdown",
   "id": "804e62c7",
   "metadata": {},
   "source": [
    "***"
   ]
  },
  {
   "cell_type": "markdown",
   "id": "b7231fd4",
   "metadata": {},
   "source": [
    "## **Bonus (facultatifs, à explorer à la maison)**"
   ]
  },
  {
   "cell_type": "markdown",
   "id": "063586a5",
   "metadata": {},
   "source": [
    "### **Mesure de la transmission atmosphérique - Comparaison aux données professionnelles**"
   ]
  },
  {
   "cell_type": "markdown",
   "id": "209e94fa",
   "metadata": {},
   "source": [
    "Jusqu'à présent nous n'avons pas pris en compte l'impact de l'atmosphère pour réaliser le master flat. Dans cette partie nous allons réduire le spectre d'une étoile : Capella, afin de déterminer la correction à appliquer pour corriger la transmission atmosphérique : $T_{atmo}$. \n",
    "\n",
    "Pour cela nous allons utiliser un spectre de référence accessible à partir d'un observatoire virtuel."
   ]
  },
  {
   "cell_type": "markdown",
   "id": "ce39fc1a",
   "metadata": {},
   "source": [
    "Nous allons maintenant utiliser un spectre professionnel provenant d'une base de données pour étalonner la transmission atmosphérique.\n",
    "La cellule ci-dessous charge le spectre de réference de Capella sous la variable \"capella_calib\" et avec pour longueurs d'ondes la variable \"wavecalib\". Executez simplement la cellule suivante."
   ]
  },
  {
   "cell_type": "code",
   "execution_count": 140,
   "id": "325b1df3",
   "metadata": {},
   "outputs": [],
   "source": [
    "capella_calib = fits.open(\"Data_TP_CPES2/calib/capella_calib_angstrom.fits\")[0]\n",
    "\n",
    "lrefcalib = float(capella_calib.header['CRVAL1']) # longueur d'onde du premier point en angstrom\n",
    "prefcalib = int(capella_calib.header['CRPIX1'])   # pixel de référence\n",
    "nbcalib   = int(capella_calib.header['NAXIS1'])   # nombre de canaux d'échantillonnage\n",
    "stepcalib = float(capella_calib.header['CD1_1'])  # écart entre deux échantillon en angstrom\n",
    "\n",
    "wavecalib = np.linspace(lrefcalib-prefcalib*stepcalib,lrefcalib+(nbcalib-prefcalib)*stepcalib,nbcalib)/10.\n",
    "\n",
    "capella_calib_angstrom = capella_calib.data\n"
   ]
  },
  {
   "cell_type": "markdown",
   "id": "e795a9a9",
   "metadata": {},
   "source": [
    "##### **Question :**\n",
    "Afficher le spectre *capella_calib_angstrom*. La résolution du spectre est-elle plus ou moins grande que celle de vos spectres ?\n",
    "<br>\n",
    "**Attention au domaine de longueur d'onde du spectre de calibration qui est différent de celui de vos spectres, ainsi que les unités !**"
   ]
  },
  {
   "cell_type": "code",
   "execution_count": 13,
   "id": "0ab47ab4",
   "metadata": {},
   "outputs": [],
   "source": [
    "# CODE A COMPLETER : Afficher le spectre de calibration de capella\n"
   ]
  },
  {
   "cell_type": "markdown",
   "id": "5bdbcdda",
   "metadata": {},
   "source": [
    "> <font color='green'> Répondre ici : "
   ]
  },
  {
   "cell_type": "code",
   "execution_count": 143,
   "id": "e445c4d7",
   "metadata": {},
   "outputs": [],
   "source": [
    "# On fait une interpolation de notre spectre de calibration pour que l'on calcul les points sur notre plage de longueur d'onde.\n",
    "capella_calib_func = interpolate.interp1d(wavecalib,capella_calib_angstrom)\n",
    "\n",
    "# On détermine l'indice du tableau wave le plus proche qui correspond la longueur d'onde 750 nm.\n",
    "# On se limite à 750 nm car le spectre de calibration ne va pas aussi loin en longueur d'onde que nos spectres\n",
    "# et que les données du spectre de référence sont abérrantes au dessus de 750 nm.\n",
    "ind_750 = np.argmin(np.abs(wave-750.))\n",
    "new_capella_calib = capella_calib_func(wave[:ind_750])\n"
   ]
  },
  {
   "cell_type": "markdown",
   "id": "ab835b61",
   "metadata": {},
   "source": [
    "##### **Question :**\n",
    "Comment peut-on obtenir $T_{atmo}$ à partir de votre spectre réduit et du spectre de calibration ?\n",
    "<br>\n",
    "**Faire valider votre méthodologie par un encadrant.**\n",
    "<br>\n",
    "Calculer puis afficher la transmission atmosphérique $T_{atmo}$ en fonction de la longueur d'onde jusqu'à 750 nm."
   ]
  },
  {
   "cell_type": "code",
   "execution_count": null,
   "id": "84d260d5",
   "metadata": {},
   "outputs": [],
   "source": [
    "# CODE A COMPLETER : Calculer et afficher T_atmo\n"
   ]
  },
  {
   "cell_type": "markdown",
   "id": "d9f163aa",
   "metadata": {},
   "source": [
    "> <font color='green'> Répondre ici : "
   ]
  },
  {
   "cell_type": "markdown",
   "id": "f6a2d728",
   "metadata": {},
   "source": [
    "##### **Question (1.5 pts) :**\n",
    "Commenter la figure obtenue."
   ]
  },
  {
   "cell_type": "markdown",
   "id": "324c28ba",
   "metadata": {},
   "source": [
    "> <font color='green'> Répondre ici : "
   ]
  },
  {
   "cell_type": "markdown",
   "id": "5015752c",
   "metadata": {},
   "source": [
    "### **Comparaison des spectres de Vénus, Mars, Uranus et Jupiter**"
   ]
  },
  {
   "cell_type": "markdown",
   "id": "eaacf216",
   "metadata": {},
   "source": [
    "Vous allez utiliser des observations de Vénus, Mars, Jupiter et Uranus contenues dans le dossier \"Donnees\" pour comparer les albédos de ces planètes. L'albédo est le pouvoir réfléchissant d'une surface, soit le rapport de l'énergie lumineuse réfléchie à l'énergie lumineuse incidente. C'est une grandeur sans dimension.\n",
    "\n",
    "Pour aller plus vite, vous n'utiliserez qu'une seule image pour chaque planète si la qualité des données est suffisante. Vous n'oublierez pas d'y soustraire le DARK correspondant et de diviser par le MASTER FLAT que vous avez déjà calculé dans la partie précédente.\n",
    "\n",
    "Le spectre de Jupiter est dans le répertoire Jupiter_soleil dans lequel vous trouverez également un spectre du Soleil. **Ces deux spectres sont déjà traités** (soustraction d'un MASTER DARK et division par un MASTER FLAT)."
   ]
  },
  {
   "cell_type": "markdown",
   "id": "a86bc880",
   "metadata": {},
   "source": [
    "##### **Question (1pt) :**\n",
    "D'ou provient la lumière que l'on reçoit des planètes ?"
   ]
  },
  {
   "cell_type": "markdown",
   "id": "b9feda59",
   "metadata": {},
   "source": [
    "> <font color='green'> Répondre ici : "
   ]
  },
  {
   "cell_type": "markdown",
   "id": "bf83ea2a",
   "metadata": {},
   "source": [
    "##### **Question (2pt) :**\n",
    "Que proposez-vous pour estimer l'albédo de ces planètes ? L'albédo calculé ne peut l'être qu'à un coefficient multiplicatif près dans notre cas. Pourquoi ?"
   ]
  },
  {
   "cell_type": "markdown",
   "id": "d353b8e0",
   "metadata": {},
   "source": [
    "> <font color='green'> Répondre ici : "
   ]
  },
  {
   "cell_type": "markdown",
   "id": "faac1e1d",
   "metadata": {},
   "source": [
    "##### **Question (2pt) :**\n",
    "On rappelle que tout les fichiers fits ont été chargés dans le tableau *donnees*, et sont donc accessibles via la commande *donnees[\"nom_du_fichier.fits\"]* (en ajoutant un *.data* en fin de ligne pour accèder aux données).\n",
    "\n",
    "Le code ci-dessous est déjà complet et permet de charger le spectre du Soleil dans une variable *soleil_final* et de calculer l'albedo de jupiter dans une variable *jupiter_albedo*. Executez simplement la cellule ci-dessous :"
   ]
  },
  {
   "cell_type": "code",
   "execution_count": 147,
   "id": "790f39f5",
   "metadata": {},
   "outputs": [],
   "source": [
    "# chargement des spectres de Jupiter et du Soleil (code déjà complet)\n",
    "jupiter_fits = fits.open('./Data_TP_CPES2/calib/Jupiter_soleil/Spectre_jupiter.fits')[0]\n",
    "soleil_fits  = fits.open('./Data_TP_CPES2/calib/Jupiter_soleil/Spectre_solaire.fits')[0]\n",
    "\n",
    "jupiter_final = jupiter_fits.data\n",
    "soleil_final  = soleil_fits.data\n",
    "\n",
    "jupiter_albedo = jupiter_final / soleil_final\n",
    "jupiter_albedo = jupiter_albedo / np.mean(jupiter_albedo) # normalisation\n",
    "\n",
    "# chargement des longueurs d'ondes correspondantes :\n",
    "ref_px = jupiter_fits.header[\"CRPIX1\"] # Ref pixel nb\n",
    "lref   = jupiter_fits.header[\"CRVAL1\"] # wavelength value at ref pixel\n",
    "step   = jupiter_fits.header[\"CD1_1\"]  # step in nm btw each pixel\n",
    "nb     = jupiter_fits.header[\"NAXIS1\"] # tot nb of pixels\n",
    "lmin   = lref-ref_px*step # wavelength of first pixel\n",
    "wave_jup_sol = np.linspace(lmin,lmin+nb*step,nb)\n",
    "\n",
    "# reinterpolation des spectres de Jupiter et du Soleil sur la même échelle en longueur d'onde que les autres données\n",
    "finterp = interp1d(wave_jup_sol,jupiter_albedo,bounds_error=False,fill_value=np.nan)\n",
    "jupiter_albedo = finterp(wave)\n",
    "\n",
    "finterp = interp1d(wave_jup_sol,soleil_final,bounds_error=False,fill_value=np.inf)\n",
    "soleil_final = finterp(wave)\n"
   ]
  },
  {
   "cell_type": "markdown",
   "id": "95d0dd2c",
   "metadata": {},
   "source": [
    "Complétez les cellules suivantes afin de calculer l'albédo des 4 planètes en divisant les spectres des planètes par le spectre du Soleil fourni (variable *soleil_final*) et en normalisant la moyenne de chaque albédo à 1 entre 450 et 700 nm. Observez-vous plutôt des raies atomiques fines ou des bandes d'absorption moléculaires assez élargies ? Pour quelles planètes ?"
   ]
  },
  {
   "cell_type": "code",
   "execution_count": 14,
   "id": "3f690372",
   "metadata": {},
   "outputs": [],
   "source": [
    "# CODE A COMPLETER : calcul de l'albedo de Venus, Mars et Uranus\n"
   ]
  },
  {
   "cell_type": "code",
   "execution_count": 15,
   "id": "95e8a14c",
   "metadata": {},
   "outputs": [],
   "source": [
    "# CODE A COMPLETER : affichage de l'albedo des 4 planètes\n"
   ]
  },
  {
   "cell_type": "markdown",
   "id": "0931775f",
   "metadata": {},
   "source": [
    "> <font color='green'> Répondre ici : "
   ]
  },
  {
   "cell_type": "markdown",
   "id": "2f4b1e7e",
   "metadata": {},
   "source": [
    "##### **Question (1pt) :**\n",
    "Les spectres de deux de ces planètes sont présentés sur la figure ci-dessous en comparaison de spectres de nuages et d'océan pour la Terre. À quelles planètes correspondent les planètes n°1 et n°2 de cette figure ?"
   ]
  },
  {
   "cell_type": "markdown",
   "id": "209e5011",
   "metadata": {},
   "source": [
    "**Albédos de planètes.**\n",
    "\n",
    "<img src=\"./ressources/Figure_planetes_rocheuses.png\" width=\"400\" height=\"400\">"
   ]
  },
  {
   "cell_type": "markdown",
   "id": "2cb42efb",
   "metadata": {},
   "source": [
    "> <font color='green'> Répondre ici : "
   ]
  },
  {
   "cell_type": "markdown",
   "id": "aaf2512a",
   "metadata": {},
   "source": [
    "##### **Question (1pt) :**\n",
    "Dans les atmosphères des 2 planètes géantes (Uranus et Jupiter), il y a notamment du dihydrogène, de l'hélium, de l'ammoniac (NH3) et du méthane (CH4). Le code ci-dessous permet de superposer vos spectres avec les listes de raies du dossier \"Raies\". Déterminez quelles espèces parmi les 4 citées ci-dessus observe-t-on dans les spectres des 2 planètes géantes."
   ]
  },
  {
   "cell_type": "code",
   "execution_count": null,
   "id": "b2768e7b",
   "metadata": {},
   "outputs": [],
   "source": [
    "# lecture des listes de raies et remplissage du dictionnaire\n",
    "\n",
    "raies_list = [] # liste contenant les raies du fichier 'PSL.ids' sous la forme ['element','position']\n",
    "\n",
    "with open('./Data_TP_CPES2/calib/Raies/CH4.ids','r') as f:\n",
    "    for line in f.readlines()[10:]:\n",
    "        # skip 10 first lines\n",
    "        try:\n",
    "            elements = line.replace('\\t',' ').replace('*','').split(' ')\n",
    "            element_name = elements[-1].replace('\\n','')\n",
    "            element_pos  = float(elements[0])\n",
    "            raies_list.append([element_name,element_pos]) \n",
    "        except Exception as e:\n",
    "            print(e)\n",
    "            \n",
    "with open('./Data_TP_CPES2/calib/Raies/H_H2_He.ids','r') as f:\n",
    "    for line in f.readlines()[10:]:\n",
    "        # skip 10 first lines\n",
    "        try:\n",
    "            elements = line.replace('\\t',' ').replace('*','').split(' ')\n",
    "            element_name = elements[-1].replace('\\n','')\n",
    "            element_pos  = float(elements[0])/10 # conversion des Angströms en nm\n",
    "            raies_list.append([element_name,element_pos]) \n",
    "        except Exception as e:\n",
    "            print(e)\n",
    "        \n",
    "with open('./Data_TP_CPES2/calib/Raies/NH3.ids','r') as f:\n",
    "    for line in f.readlines()[10:]:\n",
    "        # skip 10 first lines\n",
    "        try:\n",
    "            elements = line.replace('\\t',' ').replace('*','').split(' ')\n",
    "            element_name = elements[-1].replace('\\n','')\n",
    "            element_pos  = float(elements[0])\n",
    "            raies_list.append([element_name,element_pos]) \n",
    "        except Exception as e:\n",
    "            print(e)\n"
   ]
  },
  {
   "cell_type": "code",
   "execution_count": null,
   "id": "f90bb256",
   "metadata": {},
   "outputs": [],
   "source": [
    "# CODE A COMPLETER #\n",
    "\n",
    "plt.figure()\n",
    "\n",
    "# Modifier les ligne ci-dessous pour afficher vos spectres #\n",
    "plt.plot(wave,jupiter_albedo,label='Jupiter')\n",
    "plt.plot(wave,uranus_albedo,label='Uranus')\n",
    "############################################################\n",
    "\n",
    "for element,position in raies_list:\n",
    "    plt.vlines(position,5,0,color='k',lw=0.5)\n",
    "    plt.text(position,0,element,rotation=90)\n",
    "    \n",
    "plt.xlabel(f'$\\lambda$ [nm]')\n",
    "plt.ylabel('Albedo normalisé')\n",
    "plt.title('Albedo de Jupiter et Uranus')\n",
    "plt.legend()\n"
   ]
  },
  {
   "cell_type": "markdown",
   "id": "18f9c92b",
   "metadata": {},
   "source": [
    "> <font color='green'> Répondre ici : "
   ]
  }
 ],
 "metadata": {
  "kernelspec": {
   "display_name": "base",
   "language": "python",
   "name": "python3"
  },
  "language_info": {
   "codemirror_mode": {
    "name": "ipython",
    "version": 3
   },
   "file_extension": ".py",
   "mimetype": "text/x-python",
   "name": "python",
   "nbconvert_exporter": "python",
   "pygments_lexer": "ipython3",
   "version": "3.9.7"
  }
 },
 "nbformat": 4,
 "nbformat_minor": 5
}
