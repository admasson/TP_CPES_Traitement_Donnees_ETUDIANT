{
 "cells": [
  {
   "cell_type": "markdown",
   "id": "9dabc504-53fc-4a64-bfa7-722edf0789f7",
   "metadata": {
    "tags": []
   },
   "source": [
    "# **CPES 2 : Traitement de données spectroscopiques**\n",
    "\n"
   ]
  },
  {
   "cell_type": "markdown",
   "id": "371f37a2-d53a-44ca-a486-f931ffc4ff15",
   "metadata": {},
   "source": [
    "Le but de ce TP est d'aborder les différentes notions et étapes du traitement de données dans le cadre d'observations spectroscopiques. La méthodologie peut ensuite être appliquée à un vaste champ d'observations spectroscopiques en astronomie (étude d'étoiles, de planètes...) dont quelques exemples seront explorés au cours de cette séance.\n",
    "\n",
    "<font color='red'> **Ce notebook fait office de compte-rendu. Vous compléterez le code et rédigerez vos réponses directement dessus, afin de rendre un notebook par groupe à la fin de la séance.**\n",
    "    \n",
    "<font color='red'> **Pensez à renommer le nom de ce notebook avec vos noms et prénoms sous la forme : TP6_CPES2_NOM1_NOM2_NUMMACHINE.ipynb**\n"
   ]
  },
  {
   "cell_type": "markdown",
   "id": "304d8420",
   "metadata": {},
   "source": [
    "Année 2024-2025\n",
    "\n",
    "> **Noms:**\n",
    "\n",
    "> **Prénoms:**"
   ]
  },
  {
   "cell_type": "markdown",
   "id": "c4ef6aad",
   "metadata": {},
   "source": [
    "##### **Introduction <font color='red'> (à rédiger) (1 pt):**"
   ]
  },
  {
   "cell_type": "markdown",
   "id": "c1f809de",
   "metadata": {},
   "source": [
    "> <font color='green'> Répondre ici :"
   ]
  },
  {
   "cell_type": "markdown",
   "id": "97429a63-e460-45cf-9a6d-2a791ffb6c59",
   "metadata": {},
   "source": [
    "***"
   ]
  },
  {
   "cell_type": "markdown",
   "id": "9ac3a85e",
   "metadata": {},
   "source": [
    "## **1 - Rappels <font color='red'> (à lire à la maison: préparez les questions 1 à 10!)**\n"
   ]
  },
  {
   "cell_type": "markdown",
   "id": "8abd288d-27ea-4dc3-a84e-fd22390da00e",
   "metadata": {
    "tags": []
   },
   "source": [
    "### **1.1 - Première utilisation du notebook : guide d'installation**"
   ]
  },
  {
   "cell_type": "markdown",
   "id": "c614ac3b-61fb-4041-b209-6d6a40944ee7",
   "metadata": {},
   "source": [
    "La version étudiant du notebook est accessible sur le dépôt public Github suivant: https://github.com/admasson/TP_CPES_Traitement_Donnees_ETUDIANT. \n",
    "\n",
    "Il peut être téléchargé en cliquant sur \"code\" puis \"Download ZIP\", ou bien avec une commande github en ouvrant un terminal dans le dossier de votre choix et en tapant:\n",
    "\n",
    "$ git clone https://github.com/admasson/TP_CPES_Traitement_Donnees_ETUDIANT.git\n",
    "\n",
    "\n",
    "Commencer par récuperer le TP et placez les fichiers dans *Documents* puis ouvrir un terminal et taper la commande suivante :\n",
    "\n",
    "```\n",
    "$ cd Documents/NOM_DU_DOSSIER/\n",
    "```\n",
    "\n",
    "Pour que le notebook fonctionne correctement, celui-ci doit être lancé via **Jupyter Lab** (et pas Jupyter Notebook !) et requiert l'installation de quelques extensions pour l'utilisation de widgets matplotlib. Pour cela, lancer depuis le terminal les commandes suivantes :"
   ]
  },
  {
   "cell_type": "markdown",
   "id": "9b0d264b-3832-4d88-bbc4-f63b8e8900dc",
   "metadata": {},
   "source": [
    "```\n",
    "$ pip install -r requirements.txt\n",
    "$ jupyter labextension install @jupyter-widgets/jupyterlab-manager jupyter-matplotlib\n",
    "```"
   ]
  },
  {
   "cell_type": "markdown",
   "id": "ff04f72e-d3e0-4d52-a1f3-b340f9760669",
   "metadata": {},
   "source": [
    "Une version HTML est aussi disponible afin de pouvoir consulter le notebook sans jupyter lab. Il suffit d'ouvrir la version html avec un navigateur.\n",
    "\n",
    "**<font color='red'> Ne pas oublier de redemarrer entierement le notebook après avoir executé ces commandes. Le notebook ne sera pas exploitable dans sa globalité sans ces commandes !<font color='black'>**"
   ]
  },
  {
   "cell_type": "markdown",
   "id": "83bb7985-b2c4-406c-9da2-4ffee48bf9d0",
   "metadata": {},
   "source": [
    "\n",
    "Jupyter Lab peut ensuite être directement lancé via le terminal avec la commande :"
   ]
  },
  {
   "cell_type": "markdown",
   "id": "9ca40406-a48f-4468-af2b-ae5271af6317",
   "metadata": {},
   "source": [
    "```\n",
    "$ jupyter lab\n",
    "```"
   ]
  },
  {
   "cell_type": "markdown",
   "id": "ddfa8b75-231f-4797-9908-6d448b4f4dc1",
   "metadata": {
    "jp-MarkdownHeadingCollapsed": true,
    "tags": []
   },
   "source": [
    "Si un module est manquant, il peut également être installé via pip soit directement depuis le notebook en créant une nouvelle cellule et en lançant (par exemple pour le module numpy) :\n"
   ]
  },
  {
   "cell_type": "markdown",
   "id": "62dd7ed7-2a82-4ea8-98b3-9e487e781644",
   "metadata": {},
   "source": [
    "```\n",
    "!pip install numpy\n",
    "```"
   ]
  },
  {
   "cell_type": "markdown",
   "id": "9683d87f-6cd6-4186-9713-3f07300c4ce7",
   "metadata": {},
   "source": [
    "Soit depuis le terminal avec :"
   ]
  },
  {
   "cell_type": "markdown",
   "id": "1c147564-cbd5-4dde-90cc-d602a29d7f8d",
   "metadata": {},
   "source": [
    "```\n",
    "$ pip install numpy\n",
    "```"
   ]
  },
  {
   "cell_type": "markdown",
   "id": "b6118e73-5547-4588-8940-700435d56bc8",
   "metadata": {},
   "source": [
    "Le **!** n'est utilisé que dans la cellule du notebook et sert à envoyer une commande au terminal depuis le notebook directement sans avoir à le relancer. Si l'installation du module est faite à l'extérieur du notebook (cas d'une installation depuis le terminal par exemple), il faudra probablement relancer Jupyter Lab pour que le module soit bien présent. Si l'installation du module s'est fait depuis le notebook (avec le **!**), alors il n'est pas nécessaire de relancer Jupyter Lab mais il faut par contre relancer l'execution de toute les cellules du notebook."
   ]
  },
  {
   "cell_type": "markdown",
   "id": "4df354e1",
   "metadata": {},
   "source": [
    "### **1.2 - Les bases de Python et de Jupyter Lab**"
   ]
  },
  {
   "cell_type": "markdown",
   "id": "d61bca1c",
   "metadata": {},
   "source": [
    "Dans ce TP, nous utiliserons Python dans un Jupyter Notebook. Voici un rappel rapide des bases de Python et quelques raccourcis utiles dans Jupyter.\n",
    "\n",
    "Python est un langage interprété qui permet de définir des variables sans spécifier leur type. Voici les types de base."
   ]
  },
  {
   "cell_type": "code",
   "execution_count": null,
   "id": "dc058abf",
   "metadata": {},
   "outputs": [],
   "source": [
    "# Déclaration de variables\n",
    "entier = 10          # Integer (entier)\n",
    "flottant = 3.14      # Float (nombre décimal)\n",
    "chaine = \"Bonjour\"   # String (chaîne de caractères)\n",
    "booleen = True       # Boolean (booléen)\n",
    "\n",
    "# Affichage des variables\n",
    "print(entier, flottant, chaine, booleen)\n"
   ]
  },
  {
   "cell_type": "markdown",
   "id": "4d17e5f9",
   "metadata": {},
   "source": [
    "Les opérations mathématiques de base incluent : `+`, `-`, `*`, `/`, et `**` (puissance)."
   ]
  },
  {
   "cell_type": "code",
   "execution_count": null,
   "id": "bd7adfaa",
   "metadata": {},
   "outputs": [],
   "source": [
    "# Exemple d'opérations\n",
    "addition = 5 + 3\n",
    "puissance = 2 ** 3\n",
    "division = 10 / 2\n",
    "\n",
    "print(\"Addition:\", addition)\n",
    "print(\"Puissance:\", puissance)\n",
    "print(\"Division:\", division)\n"
   ]
  },
  {
   "cell_type": "markdown",
   "id": "95f423a4",
   "metadata": {},
   "source": [
    "Python utilise des conditions pour exécuter du code en fonction de certaines conditions."
   ]
  },
  {
   "cell_type": "code",
   "execution_count": null,
   "id": "0f7c72d8",
   "metadata": {},
   "outputs": [],
   "source": [
    "x = 10\n",
    "if x > 5:\n",
    "    print(\"x est supérieur à 5\")\n",
    "elif x == 5:\n",
    "    print(\"x est égal à 5\")\n",
    "else:\n",
    "    print(\"x est inférieur à 5\")\n"
   ]
  },
  {
   "cell_type": "markdown",
   "id": "050004a9",
   "metadata": {},
   "source": [
    "Les boucles permettent de répéter du code. Voici les deux types principaux."
   ]
  },
  {
   "cell_type": "code",
   "execution_count": null,
   "id": "760aebfc",
   "metadata": {},
   "outputs": [],
   "source": [
    "# Boucle for\n",
    "for i in range(5):  # de 0 à 4\n",
    "    print(\"Itération:\", i)\n",
    "\n",
    "# Boucle while\n",
    "j = 0\n",
    "while j < 5:\n",
    "    print(\"Valeur de j:\", j)\n",
    "    j += 1\n"
   ]
  },
  {
   "cell_type": "markdown",
   "id": "832d6456",
   "metadata": {},
   "source": [
    "Les fonctions permettent de structurer le code en blocs réutilisables."
   ]
  },
  {
   "cell_type": "code",
   "execution_count": null,
   "id": "e9e59720",
   "metadata": {},
   "outputs": [],
   "source": [
    "def addition(a, b):\n",
    "    \"\"\"Retourne la somme de a et b\"\"\"\n",
    "    return a + b\n",
    "\n",
    "# Appel de la fonction\n",
    "resultat = addition(3, 4)\n",
    "print(\"Résultat:\", resultat)\n"
   ]
  },
  {
   "cell_type": "markdown",
   "id": "667ac05d",
   "metadata": {},
   "source": [
    "[NumPy](https://numpy.org/) est une bibliothèque Python permettant des calculs mathématiques efficaces, notamment pour manipuler des vecteurs et des matrices. \n",
    "Avant de commencer, assurez-vous d'importer NumPy."
   ]
  },
  {
   "cell_type": "code",
   "execution_count": null,
   "id": "c1ff7e79",
   "metadata": {},
   "outputs": [],
   "source": [
    "import numpy as np\n",
    "\n",
    "# Création d'un vecteur (tableau 1D)\n",
    "vecteur = np.array([1, 2, 3, 4, 5])\n",
    "print(\"Vecteur:\", vecteur)\n"
   ]
  },
  {
   "cell_type": "markdown",
   "id": "bd37c756",
   "metadata": {},
   "source": [
    "NumPy permet d'effectuer des opérations de manière élémentaire sur les vecteurs."
   ]
  },
  {
   "cell_type": "code",
   "execution_count": null,
   "id": "6caac0ba",
   "metadata": {},
   "outputs": [],
   "source": [
    "# Définition d'un second vecteur pour les opérations\n",
    "vecteur2 = np.array([10, 20, 30, 40, 50])\n",
    "\n",
    "# Addition de deux vecteurs\n",
    "somme = vecteur + vecteur2\n",
    "print(\"Addition:\", somme)\n",
    "\n",
    "# Soustraction de deux vecteurs\n",
    "difference = vecteur - vecteur2\n",
    "print(\"Soustraction:\", difference)\n",
    "\n",
    "# Multiplication par un scalaire\n",
    "produit_scalaire = vecteur * 2\n",
    "print(\"Multiplication par un scalaire:\", produit_scalaire)\n",
    "\n",
    "# Division élément par élément\n",
    "division = vecteur2 / vecteur\n",
    "print(\"Division élément par élément:\", division)\n"
   ]
  },
  {
   "cell_type": "markdown",
   "id": "6504ba9c",
   "metadata": {},
   "source": [
    "[Matplotlib](https://matplotlib.org/) est une bibliothèque de visualisation de données en Python. Elle est souvent utilisée pour créer des graphiques, ce qui est essentiel pour l’analyse de données. Commençons par importer la bibliothèque et tracer un graphique simple."
   ]
  },
  {
   "cell_type": "code",
   "execution_count": null,
   "id": "5e3c7d35",
   "metadata": {},
   "outputs": [],
   "source": [
    "import matplotlib.pyplot as plt\n",
    "\n",
    "# Génération de données\n",
    "x = np.linspace(0, 2 * np.pi, 100)  # 100 points de 0 à 2π\n",
    "y = np.sin(x)                       # sin(x)\n",
    "\n",
    "# Création du graphique\n",
    "plt.plot(x, y, label=\"sin(x)\")\n",
    "plt.title(\"Fonction sinusoïdale\")\n",
    "plt.xlabel(\"x\")\n",
    "plt.ylabel(\"sin(x)\")\n",
    "plt.legend()\n",
    "plt.show()\n"
   ]
  },
  {
   "cell_type": "markdown",
   "id": "b43d1004",
   "metadata": {},
   "source": [
    "Jupyter Notebook et Jupyter Lab permettent d'exécuter des blocs de code de façon interactive et de mélanger code et texte.\n",
    "\n",
    "Quelques raccourcis utiles :"
   ]
  },
  {
   "cell_type": "markdown",
   "id": "80677d67",
   "metadata": {},
   "source": [
    "- **Exécution de cellules :**\n",
    "  - `Entrée` : Exécuter une cellule (en mode commande).\n",
    "  - `Shift + Entrée` : Exécuter la cellule actuelle et passer à la suivante.\n",
    "  - `Ctrl + Entrée` : Exécuter la cellule sans changer de sélection.\n",
    "  - `Alt + Entrée` : Exécuter la cellule et insérer une nouvelle cellule en dessous.\n",
    "\n",
    "- **Manipulation des cellules :**\n",
    "  - `Esc + M` : Transformer une cellule en Markdown (texte).\n",
    "  - `Esc + Y` : Transformer une cellule en code.\n",
    "  - `Esc + A` / `Esc + B` : Ajouter une cellule au-dessus / en dessous.\n",
    "  - `Esc + D D` : Supprimer la cellule sélectionnée.\n",
    "\n",
    "- **Multi-curseur et recherche :**\n",
    "  - `Ctrl + Click` (ou `Cmd + Click` sur Mac) : Ajouter plusieurs curseurs (utile pour modifier plusieurs endroits en même temps).\n",
    "  - `Ctrl + F` (ou `Cmd + F` sur Mac) : Ouvrir la barre de recherche pour trouver des termes dans le notebook.\n",
    "  - `Ctrl + H` (ou `Cmd + H` sur Mac) : Activer la recherche et remplacement dans la cellule active.\n",
    "\n",
    "- **Autocomplétion et documentation :**\n",
    "  - `TAB` : Autocomplétion (utile pour afficher des suggestions de code ou compléter des noms de fonctions et variables).\n",
    "  - `Shift + TAB` : Affiche la documentation rapide pour la fonction ou le module sous le curseur.\n",
    "\n",
    "- **Gestion de la mémoire et redémarrage :**\n",
    "  - `Kernel > Restart & Clear Output` : Redémarrer le kernel (vider la mémoire) et effacer les sorties.\n",
    "  - `Kernel > Restart & Run All` : Redémarrer le kernel et exécuter toutes les cellules (pratique pour s'assurer que tout le code fonctionne bien en évitant que d'anciennes variables soit encore en mémoire).\n"
   ]
  },
  {
   "cell_type": "markdown",
   "id": "531b7105",
   "metadata": {},
   "source": [
    "Dans Jupyter Lab, une commande très utile est le **?** : placé derrière une commande, il permet d'accéder rapidement à sa documentation pour savoir comment l'utiliser. \n",
    "\n",
    "Exemple avec la fonction *print( )* :"
   ]
  },
  {
   "cell_type": "code",
   "execution_count": null,
   "id": "2195f241",
   "metadata": {},
   "outputs": [],
   "source": [
    "print?\n"
   ]
  },
  {
   "cell_type": "markdown",
   "id": "a8bc3419",
   "metadata": {},
   "source": [
    "<br>Il suffit donc de créer une nouvelle cellule, et d'écrire le nom de la fonction en remplaçant les parenthèse **( )** par le point d'interrogation **?** pour obtenir des informations sur l'utilisation de la fonction."
   ]
  },
  {
   "cell_type": "markdown",
   "id": "4f56279d",
   "metadata": {},
   "source": [
    "### **1.3 - Rappels sur le traitement de données**"
   ]
  },
  {
   "cell_type": "markdown",
   "id": "5b514416",
   "metadata": {},
   "source": [
    "Quelques rappels sur le traitement de données que vous avez vu l'année dernière. \n",
    "\n",
    "La relation qui donne l'intensité finale enregistrée sur l'ordinateur en fonction du signal lumineux incident peut simplement être décrite par l'équation suivante :\n",
    "\n",
    "\\begin{equation}\n",
    "    I_{mesure}(ADU)=T_{atmo} \\cdot T_{intrument} \\cdot Signal + biais + courant_{obscurite}(t)\n",
    "\\end{equation} \n",
    "\n",
    "Avec :\n",
    "- $I_{mesure}(ADU, Analog-to-Digital~Unit)$ la mesure finale numérisée que vous allez étudier dans ce TP.\n",
    "- $T_{atmo}$ le coefficient de transmission de l'atmosphère. Il ne s'applique que si le signal traverse l'atmosphère terrestre.\n",
    "- $T_{intrument}$ le coefficient de transmission de l'instrument : optique du télescope et du spectro, réponse de la camera, etc.\n",
    "- $Signal$ le signal lumineux en entrée de l'instrument (lumière provenant de l'étoile, luminosité du ciel, pollution lumineuse, etc).\n",
    "- $biais$ le niveau moyen qui est généralement introduit au niveau du détecteur (ici, la caméra) pour éviter les valeurs négatives en ADU.\n",
    "- $courant_{obscurite}(t)$ le courant d'obscurité de la caméra de détection. C'est un niveau moyen qui varie proportionnellement au temps de pose et qui augmente avec la température du détecteur.\n",
    "\n",
    "On appelle FLAT la mesure effectuée dans le but d'appliquer la correction du champ plat correspondant à l'instrument, et on parle de DARK pour décrire la mesure simultanée du courant d'obscurité et du biais de la caméra."
   ]
  },
  {
   "cell_type": "markdown",
   "id": "b140e2ca",
   "metadata": {},
   "source": [
    "##### **Question 1 (1 pt) :**\n",
    "\n",
    "A partir de l'équation (1), quels sont les deux mesures que vous devez faire pour déterminer $T_{atmo}.T_{intrument}$ et $biais + courant_{obscurite}(t)$ ? <br> Laquelle correspond au FLAT et laquelle correspond au DARK ?"
   ]
  },
  {
   "cell_type": "markdown",
   "id": "d7f4560b",
   "metadata": {},
   "source": [
    "> <font color='green'> Répondre ici :"
   ]
  },
  {
   "cell_type": "markdown",
   "id": "d8fd2d7d",
   "metadata": {},
   "source": [
    "##### **Question 2 (1 pt) :**\n",
    "Rappeler le principe et décrire la procédure d'acquisition du FLAT en imagerie."
   ]
  },
  {
   "cell_type": "markdown",
   "id": "c040ff53",
   "metadata": {},
   "source": [
    "> <font color='green'> Répondre ici :"
   ]
  },
  {
   "cell_type": "markdown",
   "id": "9e168adf",
   "metadata": {},
   "source": [
    "##### **Question 3 (1 pt) :**\n",
    "Pourquoi peut-on supposer que $T_{atmo}=1$ lorsque l'on enregistre le FLAT?"
   ]
  },
  {
   "cell_type": "markdown",
   "id": "08a590e5",
   "metadata": {},
   "source": [
    "> <font color='green'> Répondre ici :"
   ]
  },
  {
   "cell_type": "markdown",
   "id": "b0221cda",
   "metadata": {},
   "source": [
    "##### **Question 4 (1 pt):**\n",
    "Quelle est la particularité des FLATS en spectroscopie par rapport à l'imagerie ? Quelle information faut-il connaître sur la source utilisée pour enregistrer l'image de FLAT ?"
   ]
  },
  {
   "cell_type": "markdown",
   "id": "650f1a22",
   "metadata": {},
   "source": [
    "> <font color='green'> Répondre ici :"
   ]
  },
  {
   "cell_type": "markdown",
   "id": "a1016a44",
   "metadata": {},
   "source": [
    "##### **Question 5 (1 pt) :**\n",
    "On rappelle que le flat doit-être normalisé. Qu'est-ce que cela signifie, et pourquoi cela est-il important ?"
   ]
  },
  {
   "cell_type": "markdown",
   "id": "c6e9b8a3",
   "metadata": {},
   "source": [
    "> <font color='green'> Répondre ici :"
   ]
  },
  {
   "cell_type": "markdown",
   "id": "7ea2780c",
   "metadata": {},
   "source": [
    "##### **Question 6 (1 pt) :**\n",
    "Rappeler le principe et décrire la procédure d'acquisition du DARK. Quels sont les paramètres important influant sur le dark ?"
   ]
  },
  {
   "cell_type": "markdown",
   "id": "2a9b295c",
   "metadata": {},
   "source": [
    "> <font color='green'> Répondre ici :"
   ]
  },
  {
   "cell_type": "markdown",
   "id": "1b73e521",
   "metadata": {},
   "source": [
    "##### **Question 7 (1 pt) :**\n",
    "Qu'est qu'un FOND DE CIEL (aussi appelé SKY) et qu'est ce qui le différencie d'un DARK ?"
   ]
  },
  {
   "cell_type": "markdown",
   "id": "94729470",
   "metadata": {},
   "source": [
    "> <font color='green'> Répondre ici :"
   ]
  },
  {
   "cell_type": "markdown",
   "id": "297e384a",
   "metadata": {},
   "source": [
    "##### **Question 8 (1 pt) :**\n",
    "Au cours de l'observation, quand doit-on enregistrer les FLATS, les DARKS et les FONDS DE CIEL ?"
   ]
  },
  {
   "cell_type": "markdown",
   "id": "6af4eee4",
   "metadata": {},
   "source": [
    "> <font color='green'> Répondre ici :"
   ]
  },
  {
   "cell_type": "markdown",
   "id": "6c816933",
   "metadata": {},
   "source": [
    "Au cours de la séance d'observation, on réalise plusieurs séries de FLATS et de DARKS/FONDS DE CIEL. Cela permet de faire des moyennes appelées \"master flat\" et \"master dark/fond de ciel\"). Cela permet également d'éliminer certains FLATS ou DARKS/FONDS DE CIEL qui ne sont pas satisfaisant."
   ]
  },
  {
   "cell_type": "markdown",
   "id": "3a903ae3",
   "metadata": {},
   "source": [
    "##### **Question 9 (1 pt) :**\n",
    "Décrire le traitement des données que vous allez faire pour déterminer  $T_{intrument}$.\n",
    "<br>\n",
    "**Faire valider la formule par un encadrant avant de passer à la suite.**"
   ]
  },
  {
   "cell_type": "markdown",
   "id": "41e6901e",
   "metadata": {},
   "source": [
    "> <font color='green'> Répondre ici :"
   ]
  },
  {
   "cell_type": "markdown",
   "id": "42f56a23",
   "metadata": {},
   "source": [
    "##### **Question 10 (1 pt) :**\n",
    "Proposer des solutions pour déterminer $T_{atmo}$."
   ]
  },
  {
   "cell_type": "markdown",
   "id": "fb52fac1",
   "metadata": {},
   "source": [
    "> <font color='green'> Répondre ici :"
   ]
  },
  {
   "cell_type": "markdown",
   "id": "55ab2dd3-688b-452e-880a-d6ed1c766a01",
   "metadata": {
    "tags": []
   },
   "source": [
    "### **1.4 - Préparation des données <font color='red'>**"
   ]
  },
  {
   "cell_type": "markdown",
   "id": "67aef4f5-4a2e-4e2d-bc60-359bec8e70db",
   "metadata": {},
   "source": [
    "La première étape consiste à charger les différents modules python dont nous aurons besoin tout au long de ce TP :\n",
    "- [*os*](https://docs.python.org/3/library/os.html) dispose d'outils pour naviguer dans le système et lister les fichiers d'un dossier de l'ordinateur\n",
    "\n",
    "- [*numpy*](https://numpy.org/doc/stable/) permet de manipuler des tableaux de données à plusieurs dimensions et d'effectuer toute sorte d'opérations (sommes, multiplications matricielle, moyennes...)\n",
    "\n",
    "- [*scipy*](https://scipy.org/) ajout de nombreux outils mathématiques pour les applications scientifiques\n",
    "\n",
    "- [*matplotib*](https://matplotlib.org/stable/index.html) offre un large panel d'outils permettant de visualiser les données et de produire des graphiques\n",
    "\n",
    "- [*astropy*](https://docs.astropy.org/en/stable/index.html) est une librairie dédiée à l'astronomie et l'astrophysique et contient une multitude d'outils pratiques pour le traitement des données. Nous utilisons surtout ici la fonction de lecture des fichiers au format FITS.\n",
    "\n",
    "Note : ne pas hésiter à consulter la documentation de ces différents modules en cas de besoin. De nombreux exemples d'utilisation y sont présentés."
   ]
  },
  {
   "cell_type": "code",
   "execution_count": 10,
   "id": "0503b5d6-77b0-4dc0-aec9-01738aa9f3e1",
   "metadata": {},
   "outputs": [],
   "source": [
    "# Importation des modules\n",
    "import os\n",
    "import numpy as np               # on peut renommer un module avec une variable plus courte avec le mot clé \"as\"\n",
    "import matplotlib.pyplot as plt  \n",
    "import ipywidgets as wdg         # ipython notebook widgets\n",
    "\n",
    "from astropy.io import fits      # \"from\" permet de ne charger que le sous-module \"fits\" de la librairie \"astropy\" afin de ne pas encombrer inutilement la mémoire\n",
    "from scipy.interpolate import interp1d\n",
    "from matplotlib.widgets import Cursor\n",
    "from scipy.optimize import curve_fit\n",
    "from scipy import interpolate    # On importe les fonctions d'interpolation du module scipy\n",
    "\n",
    "# commande \"%magic\" pour utiliser le backend \"widget\" de matplotlib permettant d'avoir les outils interactifs (tels que le zoom) sur les figures\n",
    "%matplotlib widget               \n"
   ]
  },
  {
   "cell_type": "markdown",
   "id": "d62d6cdb",
   "metadata": {},
   "source": [
    "Nous allons maintenant charger les données au format \"FITS\" à l'aide du module astropy.io.fits (que nous avons renommé \"fits\" pour plus de simplicité).\n",
    "\n",
    "Commençons par vérifier que nos fichiers de données se trouvent bien à l'endroit attendu : la commande \"os.listdir(*path*)\" permet d'obtenir la liste de fichiers présents dans le répertoire indiqué par la variable *path*, et la commande \"print(*text*)\" permet d'afficher le *text* indiqué."
   ]
  },
  {
   "cell_type": "code",
   "execution_count": null,
   "id": "d8ecadbd",
   "metadata": {},
   "outputs": [],
   "source": [
    "path = './Data_TP_CPES2/Partie_2/data_2_1/'\n",
    "file_list = os.listdir(path)\n",
    "print(file_list)\n"
   ]
  },
  {
   "cell_type": "markdown",
   "id": "798aeec9",
   "metadata": {},
   "source": [
    "<br>Nous avons maintenant stocké la liste de fichiers présents dans le répertoire \"Partie_2/data_2_1/\" dans notre variable \"file_list\". Nous allons pouvoir parcourir cette liste avec une boucle \"for\" afin de charger ces fichiers dans le code."
   ]
  },
  {
   "cell_type": "code",
   "execution_count": null,
   "id": "b7bed25c",
   "metadata": {},
   "outputs": [],
   "source": [
    "donnees_2_1 = {}\n",
    "\n",
    "for file_name in file_list:\n",
    "    try:\n",
    "        current_fits = fits.open(path+file_name)[0] # fits.open() renvoie une liste de tableaux de données (appelés \"HDU\") contenus dans le fichier FITS. Ici nos fichiers ne contiennent qu'un seul HDU, que l'on sélectionne avec l'indice [0]\n",
    "        donnees_2_1[file_name] = current_fits      # on stocke ici le fichier .fits chargé dans un dictionnaire afin d'y accéder plus facilement par la suite en utilisant le nom du fichier d'origine\n",
    "        print(f'{file_name:<80} has been loaded !')\n",
    "    except Exception as e:                          # En cas d'echec de chargement du fichier, la structure try:... except:... permet d'empêcher au code de planter en affichant l'erreur et en passant au fichier suivant (par exemple si le fichier n'est pas au format .fits)\n",
    "        print(f'Warning: can\\'t load {file_name} {e}')\n"
   ]
  },
  {
   "cell_type": "markdown",
   "id": "baf18440",
   "metadata": {},
   "source": [
    "<br>\n",
    "Tous les fichiers 'FITS' contenus dans le dossier 'Partie_2' ont été chargés et stockés dans le dictionnaire \"donnees_2_1\". Un dictionnaire permet de stocker différentes 'valeurs' et d'y accéder grâce à la 'clé' sous laquelle la valeur a été enregistrée. Par exemple, considerons le dictionnaire suivant :\n"
   ]
  },
  {
   "cell_type": "markdown",
   "id": "2ba3a29f",
   "metadata": {},
   "source": [
    "```python\n",
    "dico = {\n",
    "    'key_1' : 42,\n",
    "    'key_2' : aze,\n",
    "    'key_3' : jpp\n",
    "}\n",
    "```"
   ]
  },
  {
   "cell_type": "markdown",
   "id": "51fd74ed",
   "metadata": {},
   "source": [
    "La valeur \"42\" a été stockée via la clé 'key_1'. On peut donc accéder à cette valeur via la commande suivante :"
   ]
  },
  {
   "cell_type": "markdown",
   "id": "afc55ea3",
   "metadata": {},
   "source": [
    "```python\n",
    "print(dico['key_1'])\n",
    "42\n",
    "```"
   ]
  },
  {
   "cell_type": "markdown",
   "id": "e47b0433",
   "metadata": {},
   "source": [
    "Qui affichera donc le contenu du dictionnaire \"dico\" correspondant à la clé 'key_1', c'est-à-dire 42. \n",
    "\n",
    "Dans notre cas, les fichiers ont tous été chargés dans un dictionnaire \"loaded_files\" avec pour chacun une clé correspondant au nom du fichier. On accédera donc par exemple aux données du fichier \"dark_20s_1.fits\" par la commande :"
   ]
  },
  {
   "cell_type": "code",
   "execution_count": null,
   "id": "55ef4bf0",
   "metadata": {},
   "outputs": [],
   "source": [
    "file = donnees_2_1['dark_20s_1.fits']\n",
    "print(file)\n"
   ]
  },
  {
   "cell_type": "markdown",
   "id": "e6a98b68",
   "metadata": {},
   "source": [
    "Il est également possible d'itérer sur toutes les valeurs stockées dans le dictionnaire avec \"dico.keys()\" qui renvoie une liste de toutes les clés du dictionnaire:"
   ]
  },
  {
   "cell_type": "markdown",
   "id": "37502b62",
   "metadata": {},
   "source": [
    "```python\n",
    "for key in dico.keys():\n",
    "    print(key) # clé\n",
    "    print(dico[key]) # valeur associée à la clé\n",
    "```"
   ]
  },
  {
   "cell_type": "markdown",
   "id": "3bd02333",
   "metadata": {},
   "source": [
    "<br>\n",
    "On voit ici que \"loaded_files['dark_20s_1.fits']\" permet bien d'accéder à un objet de type \"astropy.io.fits\", c'est-à-dire un fichier FITS chargé dans le code python et que nous pouvons maintenant manipuler avec tous les outils python habituels. On pourra par exemple accéder aux données du fichier fits grâce à l'attribut '.data', qui renvoie les données du fichier FITS dans un tableau de données numpy :"
   ]
  },
  {
   "cell_type": "code",
   "execution_count": null,
   "id": "2f550c4f",
   "metadata": {},
   "outputs": [],
   "source": [
    "file = donnees_2_1['dark_20s_1.fits']\n",
    "print(file.data)\n"
   ]
  },
  {
   "cell_type": "markdown",
   "id": "650caf0a",
   "metadata": {},
   "source": [
    "<br>On peut alors afficher ces données sur un graphique avec matplotlib (surnommé \"plt\" dans le code):"
   ]
  },
  {
   "cell_type": "code",
   "execution_count": null,
   "id": "a2738f36",
   "metadata": {},
   "outputs": [],
   "source": [
    "file = donnees_2_1['dark_20s_1.fits']\n",
    "plt.figure()\n",
    "plt.plot(file.data)\n",
    "plt.ylabel('ADU')\n",
    "plt.xlabel('pixel n°')\n",
    "plt.title('dark_20s_1.fits')\n"
   ]
  },
  {
   "cell_type": "markdown",
   "id": "2a9d9231",
   "metadata": {},
   "source": [
    "Le format FITS est un format très utilisé pour les images en astrophysique. Il est également pratique pour d'autres types de données tels que les spectres. Il permet de stocker des métadonnées concernant les images dans ce qu'on appelle le \"header\" (entête) du FITS. On accède ici au header d'un fichier FITS grâce à l'attribut '.header' :"
   ]
  },
  {
   "cell_type": "code",
   "execution_count": null,
   "id": "8ddc65d1",
   "metadata": {},
   "outputs": [],
   "source": [
    "file = donnees_2_1['dark_20s_1.fits']\n",
    "file.header\n"
   ]
  },
  {
   "cell_type": "markdown",
   "id": "a9c2f0c1",
   "metadata": {},
   "source": [
    "<br> Le header d'un fichier FITS est également donné sous la forme d'un dictionnaire. Dans ce cas, le format d'affichage est de la forme \"Key = Value\" : par exemple dans notre cas, le temps de pose (en ms) correspond à la clé \"EXP (MS)\". On accède donc au temps de pose utilisé pour le fichier \"dark_20s_1.fits\" avec la commande : "
   ]
  },
  {
   "cell_type": "code",
   "execution_count": null,
   "id": "d66e8955",
   "metadata": {},
   "outputs": [],
   "source": [
    "file = donnees_2_1['dark_20s_1.fits']\n",
    "print(file.header['EXP (MS)'])\n"
   ]
  },
  {
   "cell_type": "markdown",
   "id": "1046a88a",
   "metadata": {},
   "source": [
    "<br> Pour accéder aux données ou header des autres fichiers, il suffit donc de changer le nom du fichier entre [ ] après loaded_files."
   ]
  },
  {
   "cell_type": "markdown",
   "id": "b2d56cbd",
   "metadata": {},
   "source": [
    "<div style=\"border: 2px solid red; padding: 10px; border-radius: 5px;\">\n",
    "\n",
    "**En résumé:**\n",
    "\n",
    "Grâce à cette méthode de chargement des données, tous les spectres sont accessibles via leur nom dans le dictionnaire *donnees_2_1*. \n",
    "\n",
    "Par exemple pour charger les données des fichiers \"dark_10s_1.fits\" et \"dark_10s_2.fits\", on peut utiliser la commande suivante :\n",
    "```python\n",
    "dark_10s_1 = donnees_2_1['dark_10s_1.fits'].data # le .data permet de récupérer les données\n",
    "dark_10s_2 = donnees_2_1['dark_10s_2.fits'].data\n",
    "```\n",
    "\n",
    "On peut alors effectuer des opérations avec ces variables, calculer une moyenne par exemple :\n",
    "```python\n",
    "dark_moy_10s = (dark_10s_1 + dark_10s_2) / 2\n",
    "```\n",
    "\n",
    "On peut consulter le header d'un fichier de la façon suivante :\n",
    "```python\n",
    "print(donnees_2_1['dark_10s_1.fits'].header)\n",
    "```\n",
    "\n",
    "Enfin, on peut sauvegarder un spectre dans un fichier au format \".dat\" de la façon suivante :\n",
    "```python\n",
    "name = \"nom_du_fichier.dat\"\n",
    "np.savetxt(name,dark_moy_10s)\n",
    "print(f'{name} a bien été sauvegardé !')\n",
    "```\n",
    "\n",
    "</div>"
   ]
  },
  {
   "cell_type": "markdown",
   "id": "dff06740",
   "metadata": {},
   "source": [
    "## **2 - Manipulation des \"darks\" et \"flats\"**"
   ]
  },
  {
   "cell_type": "markdown",
   "id": "7e2a1e29",
   "metadata": {},
   "source": [
    "### **2.1 - Construction du \"master dark\"**"
   ]
  },
  {
   "cell_type": "markdown",
   "id": "071e6f81",
   "metadata": {},
   "source": [
    "Dans cette sous-partie nous allons nous intéresser aux DARKS et aux FONDS DE CIEL, ainsi qu'à la façon dont on obtient un MASTER DARK."
   ]
  },
  {
   "cell_type": "markdown",
   "id": "f9ec8a0b",
   "metadata": {},
   "source": [
    "##### **Question 11 (1 pt) :**\n",
    "Compléter le code suivant afin d'afficher les temps de pose appliqués à chacun des différents fichiers, et vérifier qu'ils correspondent bien à la valeur indiquée dans le nom du fichier."
   ]
  },
  {
   "cell_type": "code",
   "execution_count": null,
   "id": "dca6474a",
   "metadata": {},
   "outputs": [],
   "source": [
    "# CODE A COMPLETER\n"
   ]
  },
  {
   "cell_type": "markdown",
   "id": "c7aa80a8",
   "metadata": {},
   "source": [
    "> <font color='green'> Répondre ici :"
   ]
  },
  {
   "cell_type": "markdown",
   "id": "b66c4b02",
   "metadata": {},
   "source": [
    "##### **Question 12 (1 pt) :**\n",
    "Compléter le code suivant afin d'afficher pour chaque fichier la température de la caméra en (°C) (**Tempx10** est la température en degrés Celsius multipliée par 10). La température est-elle la même pour tous les darks effectués ? Pourquoi la caméra est-elle refroidie ?"
   ]
  },
  {
   "cell_type": "code",
   "execution_count": null,
   "id": "30438eac",
   "metadata": {},
   "outputs": [],
   "source": [
    "# CODE A COMPLETER\n"
   ]
  },
  {
   "cell_type": "markdown",
   "id": "7fc56160",
   "metadata": {},
   "source": [
    "> <font color='green'> Répondre ici :"
   ]
  },
  {
   "cell_type": "markdown",
   "id": "be63d826",
   "metadata": {},
   "source": [
    "##### **Question 13 (1 pt) :**\n",
    "Compléter le code suivant afin d'afficher tous les fichiers dark sur un même graphique. Décrire les darks et les différences qu'il y a entre eux. Quelles sont les raisons de ces différences ?"
   ]
  },
  {
   "cell_type": "code",
   "execution_count": null,
   "id": "53f6947c",
   "metadata": {},
   "outputs": [],
   "source": [
    "# CODE A COMPLETER\n"
   ]
  },
  {
   "cell_type": "markdown",
   "id": "dac5b043",
   "metadata": {},
   "source": [
    "> <font color='green'> Répondre ici :"
   ]
  },
  {
   "cell_type": "markdown",
   "id": "bb819e5b",
   "metadata": {},
   "source": [
    "##### **Question 14 (3 pts) :**\n",
    "Nous allons réaliser un dark moyen de 1 seconde. Pour cela, nous avons vu comment accéder aux données d'un fichier FITS à partir de notre dictionnaire *loaded_files* en utilisant le nom du fichier et l'attribut \".data\":"
   ]
  },
  {
   "cell_type": "markdown",
   "id": "152a5b56",
   "metadata": {},
   "source": [
    "```python\n",
    "    data_1 = donnees_2_1[\"fichier_1.fits\"].data\n",
    "    data_2 = donnees_2_1[\"fichier_2.fits\"].data\n",
    "``` "
   ]
  },
  {
   "cell_type": "markdown",
   "id": "0f0e7c19",
   "metadata": {},
   "source": [
    "On récupère alors dans *data_1* et *data_2* les données des fichiers \"fichier_1.fits\" et \"fichier_2.fits\". *data_1* et *data_2* sont des tableaux de données au format *numpy*, ce qui permet d'effectuer très simplement tout un tas d'opérations entre ces deux jeux de données. Par exemple pour calculer leur moyenne, il suffit de faire :"
   ]
  },
  {
   "cell_type": "markdown",
   "id": "d944990d",
   "metadata": {},
   "source": [
    "```python\n",
    "data_moy = (data_1 + data_2) / 2\n",
    "```"
   ]
  },
  {
   "cell_type": "markdown",
   "id": "bb39431f",
   "metadata": {},
   "source": [
    "De manière plus élégante et surtout plus rapide, on peut utiliser les fonctions numpy (le gain de temps quand il y a beaucoup de données peut être très important) :"
   ]
  },
  {
   "cell_type": "markdown",
   "id": "e8282fb0",
   "metadata": {},
   "source": [
    "```python\n",
    "data_array = np.array([data_1, data_2]) # data_array est un tableau 2D, le premier indice/axis correspond à un sous tableau (data_array[0] contient data_1) \n",
    "data_moy   = np.mean(data_array, axis=0) # on laisse numpy calculer la moyenne, en précisant de ne la faire que sur les \"lignes\" du gros tableau data_array (avec axis=0) càd en sommant les dark entre eux\n",
    "```"
   ]
  },
  {
   "cell_type": "markdown",
   "id": "e59382ac",
   "metadata": {},
   "source": [
    "**En s'inspirant de cet exemple, écrire un code ci-dessous pour calculer un dark moyen de 1 seconde. Vous nommerez la variable du dark moyen \"master_dark_1s\".**"
   ]
  },
  {
   "cell_type": "code",
   "execution_count": null,
   "id": "751ee1fc",
   "metadata": {},
   "outputs": [],
   "source": [
    "# CODE A COMPLETER                 \n"
   ]
  },
  {
   "cell_type": "markdown",
   "id": "f9abb122",
   "metadata": {},
   "source": [
    "On enregistre ensuite le master_dark_1s afin de pouvoir le réutiliser plus tard. Ceci est fait grâce à la fonction np.savetxt(*name*,a), qui sauvegarde un tableau *numpy* \"a\" sous le nom \"name\" indiqué. Complétez le code ci-dessous en entrant vos noms et prénoms dans le nom du fichier et executez la cellule pour sauvegarder votre master_dark_1s :"
   ]
  },
  {
   "cell_type": "code",
   "execution_count": null,
   "id": "a297bb35",
   "metadata": {},
   "outputs": [],
   "source": [
    "# CODE A COMPLETER\n"
   ]
  },
  {
   "cell_type": "markdown",
   "id": "304eb8d9",
   "metadata": {},
   "source": [
    "**De même, écrire un code ci-dessous permettant de calculer et d'enregistrer un dark moyen de 20 secondes et un fond de ciel moyen. Vous nommerez les variables respectivement \"master_dark_20s\" et \"master_fond_ciel_20s\", et les enregistrerez sous la forme \"nom_prenom_exo1_MASTER_DARK_20s.dat\" et \"nom_prenom_exo1_MASTER_FOND_DE_CIEL_20s.dat\"**"
   ]
  },
  {
   "cell_type": "code",
   "execution_count": null,
   "id": "a2c548bf",
   "metadata": {},
   "outputs": [],
   "source": [
    "# CODE A COMPLETER : calculer le master_dark_20s\n"
   ]
  },
  {
   "cell_type": "code",
   "execution_count": null,
   "id": "97b8fa9d",
   "metadata": {},
   "outputs": [],
   "source": [
    "# CODE A COMPLETER : enregistrer le master_dark_20s sous le nom \"nom_prenom_exo1_MASTER_DARK_20s.dat\"\n"
   ]
  },
  {
   "cell_type": "code",
   "execution_count": null,
   "id": "36f4200d",
   "metadata": {},
   "outputs": [],
   "source": [
    "# CODE A COMPLETER : calculer le master_fond_ciel\n"
   ]
  },
  {
   "cell_type": "code",
   "execution_count": null,
   "id": "a6e1bea9",
   "metadata": {},
   "outputs": [],
   "source": [
    "# CODE A COMPLETER : enregistrer le master_fond_ciel sous le nom \"nom_prenom_exo1_MASTER_FOND_DE_CIEL.dat\"\n"
   ]
  },
  {
   "cell_type": "markdown",
   "id": "311b7b12",
   "metadata": {},
   "source": [
    "**La cellule ci-dessous permet de comparer les master dark de 1s et 20s. Décrire ces deux master darks : y-a-t-il des variations ?**"
   ]
  },
  {
   "cell_type": "code",
   "execution_count": null,
   "id": "2954ae4a",
   "metadata": {},
   "outputs": [],
   "source": [
    "plt.figure()                                      # Créer une figure vide\n",
    "plt.plot(master_dark_1s,label='master_dark_1s')   # Trace la courbe master_dark_1s en fonction des pixels\n",
    "plt.plot(master_dark_20s,label='master_dark_20s') # Trace la courbe master_dark_20s en fonction des pixels\n",
    "plt.ylabel('Flux (ADU)')                          # Ajoute le label \"Flux\" sur l'axe 'y' \n",
    "plt.xlabel('pixel')                               # Ajoute le label \"pixel\" sur l'axe 'x' \n",
    "plt.title('Comparaison des master dark')          # Ajoute un titre à la figure\n",
    "plt.legend()                                      # Affiche la legende avec le code coleur des courbes\n"
   ]
  },
  {
   "cell_type": "markdown",
   "id": "9480b9f1",
   "metadata": {},
   "source": [
    "> <font color='green'> Répondre ici :"
   ]
  },
  {
   "cell_type": "markdown",
   "id": "0c4ef41c",
   "metadata": {},
   "source": [
    "##### **Question 15 (1 pt) :**\n",
    "Comparer le master dark de 20 secondes avec un dark simple de 20 secondes, quels sont les différences ? Pourquoi ?\n",
    "<br>\n",
    "Vous pourrez faire la comparaison avec plusieurs darks simples de 20 secondes."
   ]
  },
  {
   "cell_type": "code",
   "execution_count": null,
   "id": "54e6b4f3",
   "metadata": {},
   "outputs": [],
   "source": [
    "# CODE A COMPLETER : afficher sur une même figure le master_dark_20s et un dark_20s_x\n"
   ]
  },
  {
   "cell_type": "markdown",
   "id": "ae61634d",
   "metadata": {},
   "source": [
    "> <font color='green'> Répondre ici :"
   ]
  },
  {
   "cell_type": "markdown",
   "id": "4d8c444f",
   "metadata": {},
   "source": [
    "##### **Question 16 (2 pts) :**\n",
    "Comparer maintenant le master dark de 20 secondes avec le master fond de ciel de 20 secondes, quels sont les différences ? Pourquoi ?"
   ]
  },
  {
   "cell_type": "code",
   "execution_count": null,
   "id": "9cd645f5",
   "metadata": {},
   "outputs": [],
   "source": [
    "# CODE A COMPLETER : afficher sur une même figure le master_dark_20s et le master_fond_de_ciel_20s\n"
   ]
  },
  {
   "cell_type": "markdown",
   "id": "ba057c1a",
   "metadata": {},
   "source": [
    "> <font color='green'> Répondre ici :"
   ]
  },
  {
   "cell_type": "markdown",
   "id": "895c7d68",
   "metadata": {},
   "source": [
    "### **2.2 - Construction du \"master flat\"**"
   ]
  },
  {
   "cell_type": "markdown",
   "id": "4d9e1151",
   "metadata": {},
   "source": [
    "Nous allons maintenant voir comment construire un spectre de champ plat (ou flat-field, que nous appellerons FLAT par la suite) afin d'étalonner la réponse du détecteur. Pour cet exercice nous utiliserons les données qui se trouvent dans le dossier \"exercice2\".\n",
    "\n",
    "Pour rappel, les FLATS sont mesurés pendant les observations à l'aide de la lampe du même nom. Le rôle du FLAT est de corriger l'inhomogénéité des pixels du capteur ainsi que la transmission qui varie en fonction de la longueur d'onde. En théorie, on prend des images d'une source lumineuse uniforme en longueur d'onde et spatialement (sur tout le détecteur). En réalité, la source lumineuse est un corps noir à environ 4000K qui n'est donc pas uniforme en longueur d'onde. Le FLAT aura donc besoin d'être corrigé de cette contribution en le divisant par une courbe de corps noir à 4000K.\n",
    "\n",
    "<font color='red'>**Attention: nous allons charger de nouvelles données qui seront cette fois stockées dans le dictionnaire \"donnees_2_2\" !**"
   ]
  },
  {
   "cell_type": "code",
   "execution_count": null,
   "id": "1f2dc450",
   "metadata": {},
   "outputs": [],
   "source": [
    "donnees_2_2 = {}\n",
    "path = './Data_TP_CPES2/Partie_2/data_2_2/'\n",
    "file_list = os.listdir(path)\n",
    "\n",
    "for file_name in file_list:\n",
    "    try:\n",
    "        current_fits = fits.open(path+file_name)[0] # fits.open() renvoie une list de tableaux de données (appelés \"HDU\") contenus dans le fichier FITS. Ici nos fichiers ne contiennent qu'un seul HDU, que l'on sélectionne avec l'indice [0]\n",
    "        donnees_2_2[file_name] = current_fits      # on stock ici le fichier .fits chargé dans un dictionnaire afin d'y accéder plus facilement par la suite en utilisant le nom du fichier d'origine\n",
    "        print(f'{file_name:<80} has been loaded !')\n",
    "    except Exception as e:                          # En cas d'echec de chargement du fichier, la structure try:... except:... permet d'empêcher au code de planter en affichant l'erreur et en passant au fichier suivant (par exemple si le fichier n'est pas au format .fits)\n",
    "        print(f'Warning: can\\'t load {file_name} {e}')\n"
   ]
  },
  {
   "cell_type": "code",
   "execution_count": null,
   "id": "db4d5306",
   "metadata": {},
   "outputs": [],
   "source": [
    "# récupération des longueurs d'onde du spectre à partir du header\n",
    "lmin = float(donnees_2_2['flat_5s_1.fits'].header['CRVAL1']) # longueur d'onde du premier point en nm\n",
    "nb   = int(donnees_2_2['flat_5s_1.fits'].header['NAXIS1'])   # nombre de canaux d'échantillonnage\n",
    "step = float(donnees_2_2['flat_5s_1.fits'].header['CD1_1'])  # écart entre deux échantillon en nm\n",
    "wave = np.linspace(lmin-nb*step/2,lmin+nb*step/2,nb)\n"
   ]
  },
  {
   "cell_type": "markdown",
   "id": "5023f091",
   "metadata": {},
   "source": [
    "##### **Question 17 (1 pt) :**\n",
    "Quelle formule va-t-on appliquer pour construire le master flat ?\n",
    "<br>\n",
    "**Faire valider la formule par un encadrant avant de passer à la suite.**"
   ]
  },
  {
   "cell_type": "markdown",
   "id": "30f24811",
   "metadata": {},
   "source": [
    "> <font color='green'> Répondre ici :"
   ]
  },
  {
   "cell_type": "markdown",
   "id": "9828dfbd",
   "metadata": {},
   "source": [
    "Les questions 18 à 21 vont nous permettre de construire le master flat par étape à partir de cette formule."
   ]
  },
  {
   "cell_type": "markdown",
   "id": "ec76681d",
   "metadata": {},
   "source": [
    "##### **Question 18 (1 pt) :**\n",
    "De la même manière que vous avez construit les masters dark en faisant la moyenne de plusieurs darks, construire un flat moyen que vous nommerez *master_flat_5s*."
   ]
  },
  {
   "cell_type": "code",
   "execution_count": null,
   "id": "6723e099",
   "metadata": {},
   "outputs": [],
   "source": [
    "# CODE A COMPLETER : calculer le master_flat_5s\n"
   ]
  },
  {
   "cell_type": "markdown",
   "id": "cc396325",
   "metadata": {},
   "source": [
    "Modifiez la cellule suivante pour afficher le flat moyen. **Notez qu'à partir de maintenant, l'axe des x doit-être affiché en longueurs d'onde**"
   ]
  },
  {
   "cell_type": "code",
   "execution_count": null,
   "id": "e8efedc9",
   "metadata": {},
   "outputs": [],
   "source": [
    "plt.figure()\n",
    "plt.plot(wave,mean_flat_5s,label='mean_flat_5s') # à modifier avec le nom de votre flat moyen\n",
    "plt.ylabel('Flux (ADU)')\n",
    "plt.xlabel('Wavelength (nm)')\n",
    "plt.title('Flat moyen')\n",
    "plt.legend()\n"
   ]
  },
  {
   "cell_type": "markdown",
   "id": "659b581b",
   "metadata": {},
   "source": [
    "**Pourquoi le spectre de flat a t-il cette forme ?**"
   ]
  },
  {
   "cell_type": "markdown",
   "id": "b75e11a6",
   "metadata": {},
   "source": [
    "> <font color='green'> Répondre ici :"
   ]
  },
  {
   "cell_type": "markdown",
   "id": "3a9541a2",
   "metadata": {},
   "source": [
    "##### **Question 19 (1 pts) :**\n",
    "Le flat doit être corrigé du dark, cependant les temps de pose pour prendre les flats peuvent être différents de ceux utilisés pour les données scientifiques, il faut donc un master dark spécifique aux flats. La source utilisée pour faire le flat étant un corps noir à 4000K, elle n'est pas spectralement homogène. Il faut donc aussi corriger l'effet du corps noir sur le flat.\n",
    "\n",
    "**a) Construire le master dark associé au flat moyen**"
   ]
  },
  {
   "cell_type": "code",
   "execution_count": null,
   "id": "a59f7900",
   "metadata": {},
   "outputs": [],
   "source": [
    "# CODE A COMPLETER : calculer le master_dark_5s\n"
   ]
  },
  {
   "cell_type": "code",
   "execution_count": null,
   "id": "4ca98490",
   "metadata": {},
   "outputs": [],
   "source": [
    "# La taille du tableau du corps noir n'est pas la même que celle des données\n",
    "# On fait donc une interpolation puis on crée un tableau de même taille que nos données\n",
    "\n",
    "CN4000K = donnees_2_2[\"corps_noir_4000K.fits\"].data\n",
    "\n",
    "# On récupère les information sur le domaine de longueur d'onde dans le header du fichier\n",
    "lrefCN = float(donnees_2_2['corps_noir_4000K.fits'].header['CRVAL1']) # longueur d'onde de référence en nm\n",
    "nbCN   = int(donnees_2_2['corps_noir_4000K.fits'].header['NAXIS1'])   # nombre de canaux d'échantillonnage\n",
    "stepCN = float(donnees_2_2['corps_noir_4000K.fits'].header['CD1_1'])  # écart entre deux échantillon en nm\n",
    "\n",
    "waveCN = np.linspace(lrefCN-nbCN*stepCN/2,lrefCN+nbCN*stepCN/2,nbCN) # Ici le pixel qui sert de référence est au milieu de l'image, \n",
    "# la longueur d'onde minimale est donc lambda_min= lambda_ref - nb_lambda*dlambda/2\n",
    "# de même la longueur d'onde maximale est lambda_max= lambda_ref + nb_lambda*dlambda/2\n",
    "\n",
    "print(wave, waveCN)\n",
    "\n",
    "CN4000K_func = interpolate.interp1d(waveCN, CN4000K)\n",
    "\n",
    "CN4000K = CN4000K_func(wave)\n"
   ]
  },
  {
   "cell_type": "markdown",
   "id": "8c54990c",
   "metadata": {},
   "source": [
    "**b) Construire le master flat corrigé du corps noir (le spectre du corps noir est stocké dans la variable \"CN4000K\")**"
   ]
  },
  {
   "cell_type": "code",
   "execution_count": null,
   "id": "a107e39d",
   "metadata": {},
   "outputs": [],
   "source": [
    "# CODE A COMPLETER : calculer le master_flat_5s corrigé du dark et du corps noir\n"
   ]
  },
  {
   "cell_type": "markdown",
   "id": "6c6c4364",
   "metadata": {},
   "source": [
    "##### **Question 20 (1 pt) :**\n",
    "Notre master flat est maintenant corrigé du dark et du corps noir, mais présente des valeurs arbitrairement élevées en ADU. Afin de ne pas artificiellement réduire la valeur de nos spectres, une bonne pratique est de normaliser le master flat c'est-à-dire de le ramener à des valeurs proches de 1. \n",
    "\n",
    "Nous allons pour cela diviser le flat par sa valeur moyenne afin de le ramener à une valeur moyenne de 1. \n",
    "\n",
    "**Utilisez la fonction np.mean() afin d'obtenir la valeur moyenne du master flat, et calculez le master flat normalisé**"
   ]
  },
  {
   "cell_type": "code",
   "execution_count": null,
   "id": "92ef633b",
   "metadata": {},
   "outputs": [],
   "source": [
    "# CODE A COMPLETER : sauvegarder et afficher la valeur moyenne du flat moyen\n"
   ]
  },
  {
   "cell_type": "markdown",
   "id": "014582e1",
   "metadata": {},
   "source": [
    "##### **Question 21 (1 pt) :**\n",
    "Afficher et commenter l'allure du master flat normalisé."
   ]
  },
  {
   "cell_type": "code",
   "execution_count": null,
   "id": "a564ce70",
   "metadata": {},
   "outputs": [],
   "source": [
    "# CODE A COMPLETER\n"
   ]
  },
  {
   "cell_type": "markdown",
   "id": "a8e90882",
   "metadata": {},
   "source": [
    "> <font color='green'> Répondre ici :"
   ]
  },
  {
   "cell_type": "markdown",
   "id": "f4bbc25a",
   "metadata": {},
   "source": [
    "### **2.3 - Réduction des données de Capella**"
   ]
  },
  {
   "cell_type": "markdown",
   "id": "4da03fdf",
   "metadata": {},
   "source": [
    "Maintenant que nos master dark et master flat sont prêts, nous allons pouvoir les utiliser afin de réduire les données de l'étoile Capella."
   ]
  },
  {
   "cell_type": "markdown",
   "id": "b0cfc4cf",
   "metadata": {},
   "source": [
    "##### **Question 22 (3 pts) :**\n",
    "**a) Effectuer la réduction sur l'étoile Capella: les données consistent en 5 spectres individuels (*capella_5s_1.fits*, *capella_5s_2.fits*, etc...) chargés dans la variable \"donnees_2_2\".**\n",
    "\n",
    "Attention à utiliser le master flat normalisé et le bon master dark!"
   ]
  },
  {
   "cell_type": "code",
   "execution_count": null,
   "id": "63189ffa",
   "metadata": {},
   "outputs": [],
   "source": [
    "# CODE A COMPLETER : Faire la réduction complète des spectres de capella_5s\n"
   ]
  },
  {
   "cell_type": "markdown",
   "id": "a411ace6",
   "metadata": {},
   "source": [
    "**b) Comparer le spectre avant et après réduction (pensez à normaliser vos spectres pour pouvoir les comparer).**"
   ]
  },
  {
   "cell_type": "code",
   "execution_count": null,
   "id": "0f38ca18",
   "metadata": {},
   "outputs": [],
   "source": [
    "# CODE A COMPLETER : Afficher le spectre réduit et un spectre brut\n"
   ]
  },
  {
   "cell_type": "markdown",
   "id": "debfa65a",
   "metadata": {},
   "source": [
    "> <font color='green'> Répondre ici :"
   ]
  },
  {
   "cell_type": "markdown",
   "id": "fbb853ff",
   "metadata": {},
   "source": [
    "**c) Enregistrer le spectre réduit en lui donnant comme nom :**\n",
    "*nom_prenom_exo2_SPECTRE_CAPELLA_REDUIT.dat*"
   ]
  },
  {
   "cell_type": "code",
   "execution_count": null,
   "id": "6c534789",
   "metadata": {},
   "outputs": [],
   "source": [
    "# CODE A COMPLETER : sauvegarder et afficher la valeur moyenne du flat moyen\n"
   ]
  },
  {
   "cell_type": "markdown",
   "id": "8146666d",
   "metadata": {},
   "source": [
    "Nous allons maintenant analyser le spectre de Capella réduit et en déduire certaines propriétes. Pour être plus précis, il faudrait corriger vos spectres de la transmission atmosphérique ce que nous n'allons pas faire ici (voir section \"Bonus\" après le TP)."
   ]
  },
  {
   "cell_type": "markdown",
   "id": "69708da0",
   "metadata": {},
   "source": [
    "**Température de Capella**"
   ]
  },
  {
   "cell_type": "markdown",
   "id": "5927f074",
   "metadata": {},
   "source": [
    "Le rayonnement des étoiles est décrit par ce que l'on appelle un corps noir en physique,\n",
    "c'est-à-dire un corps qui émet infiniment moins qu'il n'absorbe d'énergie. Ainsi, la forme d'un\n",
    "spectre est d'abord déterminée par la température de l'objet. La loi de Wien donne la variation\n",
    "du rayonnement d'un corps noir en fonction de la longueur d'onde. Une formule dérivée de cette\n",
    "loi permet de relier la température ($T$) d'un objet à la longueur d'onde où le maximum du\n",
    "rayonnement est émis ($\\lambda_{max}$) :\n",
    "\n",
    "\\begin{equation}\n",
    "    T \\times \\lambda_{max} = 2,898 \\cdot 10^{-3} \\text{[SI]}\n",
    "\\end{equation} "
   ]
  },
  {
   "cell_type": "markdown",
   "id": "ea36d1cd",
   "metadata": {},
   "source": [
    "##### **Question 23 (1 pt) :**\n",
    "Quel est l'unité de la constante $2,898 \\cdot 10^{-3}$, aussi appelée constante de Wien ?"
   ]
  },
  {
   "cell_type": "markdown",
   "id": "e423ba85",
   "metadata": {},
   "source": [
    "> <font color='green'> Répondre ici :"
   ]
  },
  {
   "cell_type": "markdown",
   "id": "3b70c59c",
   "metadata": {},
   "source": [
    "Nous allons utiliser cette formule pour déterminer la température de corps noir de Capella et donc son type spectral.\n",
    "\n",
    "**Fig. 2.1 - Les types spectraux des étoiles en fonction de leur température.**\n",
    "\n",
    "![alt text](ressources/classe-spectrale-etoiles.jpg \"Les types spectraux des étoiles en fonction de leur température.\")\n",
    "\n",
    "Phrase mnémotechnique pour se souvenir des types spectraux : \" **O**h **B**e **A** **F**ine **G**irl/**G**uy,**K**iss **M**e\" !\n",
    "\n",
    "**Fig. 2.2 - Courbes de corps noir en fonction de la longueur d'onde pour plusieurs températures.**\n",
    "\n",
    "![alt text](ressources/Blackbody_emission.png \"Courbes de corps noir en fonction de la longueur d'onde pour plusieurs températures.\")\n"
   ]
  },
  {
   "cell_type": "markdown",
   "id": "cd7d9c4f",
   "metadata": {},
   "source": [
    "##### **Question 24 (2 pts) :**\n",
    "Déterminer à quelle longueur d'onde est le maximum du spectre avec ses incertitudes. \n",
    "\n",
    "Estimer une température pour Capella ainsi que son type spectral en vous aidant de la figure 2.1 ci-dessus."
   ]
  },
  {
   "cell_type": "markdown",
   "id": "9f6af97e",
   "metadata": {},
   "source": [
    "> <font color='green'> Répondre ici :"
   ]
  },
  {
   "cell_type": "markdown",
   "id": "6be5ff1d",
   "metadata": {},
   "source": [
    "**identification de raies**"
   ]
  },
  {
   "cell_type": "markdown",
   "id": "2400bee6",
   "metadata": {},
   "source": [
    "On peut aussi identifier quelques raies typiques de ce type d'étoiles.\n",
    "\n",
    "Pour cela nous allons afficher sur une même figure votre spectre réduit ainsi que l'identification des raies contenue dans *PSL.ids*:"
   ]
  },
  {
   "cell_type": "code",
   "execution_count": null,
   "id": "4c2097ed",
   "metadata": {},
   "outputs": [],
   "source": [
    "# lecture des listes de raies et remplissage du dictionnaire\n",
    "\n",
    "raies_list = [] # liste contenant les raies du fichier 'PSL.ids' sous la forme ['element','position']\n",
    "\n",
    "with open('./Data_TP_CPES2/calib/Raies/PSL.ids','r') as f:\n",
    "    for line in f.readlines()[10:]:\n",
    "        # skip 10 first lines\n",
    "        try:\n",
    "            elements = line.replace('\\t',' ').replace('*','').split(' ')\n",
    "            element_name = elements[-1].replace('\\n','')\n",
    "            element_pos  = float(elements[0])\n",
    "            raies_list.append([element_name,element_pos]) \n",
    "        except Exception as e:\n",
    "            print(e)\n"
   ]
  },
  {
   "cell_type": "code",
   "execution_count": null,
   "id": "eb629f6c",
   "metadata": {},
   "outputs": [],
   "source": [
    "# CODE A COMPLETER\n",
    "\n",
    "plt.figure()\n",
    "\n",
    "# Modifier la ligne ci-dessous pour afficher votre spectre réduit #\n",
    "plt.plot(wave,mean_capella_5s_red_norm,label='mean_capella_5s_red_norm')\n",
    "############################################################\n",
    "\n",
    "for element,position in raies_list:\n",
    "    plt.vlines(position/10.,5,0,color='k',lw=0.5)\n",
    "    plt.text(position/10.,0,element,rotation=90)\n",
    "    \n",
    "plt.xlabel(f'$\\lambda$ [nm]')\n",
    "plt.ylabel('Flux normalisé')\n",
    "plt.ylim(0.,2.)\n",
    "# plt.xlim(500,550) # Zoomer sur une partie du spectre (en nm)\n",
    "plt.title('Spectre de Capella réduit')\n",
    "plt.legend()\n"
   ]
  },
  {
   "cell_type": "markdown",
   "id": "a9ae2896",
   "metadata": {},
   "source": [
    "##### **Question 25 (2 pts) :**\n",
    "Identifier les raies les plus importantes, de quelles espèces chimiques proviennent-elles ?"
   ]
  },
  {
   "cell_type": "markdown",
   "id": "eb1d727c",
   "metadata": {},
   "source": [
    "> <font color='green'> Répondre ici :"
   ]
  },
  {
   "cell_type": "markdown",
   "id": "a73c8b86",
   "metadata": {},
   "source": [
    "##### **Question 26 (1 pt) :**\n",
    "A votre avis, d'où proviennent ces espèces chimiques ?"
   ]
  },
  {
   "cell_type": "markdown",
   "id": "5c42b41b",
   "metadata": {},
   "source": [
    "> <font color='green'> Répondre ici :"
   ]
  },
  {
   "cell_type": "markdown",
   "id": "616cf245",
   "metadata": {},
   "source": [
    "##### **Question 27 (1 pt) :**\n",
    "En superposant la position théorique de ces différentes raies avec le spectre de Capella, nous pouvons également vérifier que les données sont correctement étalonnées en longueur d'onde, c'est à dire que les raies observées tombent bien à leurs positions théoriques. \n",
    "\n",
    "**Les données sont elles bien étalonnées ici?**"
   ]
  },
  {
   "cell_type": "markdown",
   "id": "180ed395",
   "metadata": {},
   "source": [
    "> <font color='green'> Répondre ici :"
   ]
  },
  {
   "cell_type": "markdown",
   "id": "3e640b72-ca74-460c-a7ea-2e0870db03b9",
   "metadata": {
    "tags": []
   },
   "source": [
    "## **3 - Analyse spectrale de 5 étoiles**"
   ]
  },
  {
   "cell_type": "markdown",
   "id": "347c48a7-1576-4a0e-bf9e-92840247b447",
   "metadata": {},
   "source": [
    "Nous commençons par charger nos données de la même façon que dans les parties précédentes, cette fois en les enregistrant dans la variable \"donnes_3\" :"
   ]
  },
  {
   "cell_type": "code",
   "execution_count": null,
   "id": "b415cd8e-e41e-4a5e-a12a-3f3a912c2772",
   "metadata": {
    "tags": []
   },
   "outputs": [],
   "source": [
    "# récupération de la liste de fichiers dans le répertoir \"./Data_TP_CPES2/Donnees/\" :\n",
    "path = './Data_TP_CPES2/Partie_3/'\n",
    "file_list = os.listdir(path)\n",
    "\n",
    "# chargement des fichiers fits dans un dictionnaire\n",
    "donnees_3 = {}\n",
    "for file_name in file_list:\n",
    "    try:\n",
    "        current_fits = fits.open(path+file_name)[0] # fits.open() renvoie une list de tableaux de données (appelés \"HDU\") contenus dans le fichier FITS. Ici nos fichiers ne contiennent qu'un seul HDU, que l'on sélectionne avec l'indice [0]\n",
    "        donnees_3[file_name] = current_fits         # on stock ici le fichier .fits chargé dans un dictionnaire afin d'y accéder plus facilement par la suite en utilisant le nom du fichier d'origine\n",
    "        print(f'{file_name:<80} has been loaded !')\n",
    "    except Exception as e:                          # En cas d'echec de chargement du fichier, la structure try:... except:... permet d'empêcher au code de planter en affichant l'erreur et en passant au fichier suivant (par exemple si le fichier n'est pas au format .fits)\n",
    "        print(f'Warning: can\\'t load {file_name} {e}')\n"
   ]
  },
  {
   "cell_type": "markdown",
   "id": "c632a565-42e2-4ff1-a99d-ad0fa1596424",
   "metadata": {
    "tags": []
   },
   "source": [
    "##### **Question 28 (3pt) :**\n",
    "**a) En appliquant la même méthode qu'en partie 2, réalisez la réduction des données pour les étoiles Sirius, Tsih, Capella, Aldébaran et Bételgeuse.**\n",
    "\n",
    "- Ces spectres sont accessibles via la variable \"donnees_3\". \n",
    "\n",
    "- Ces donnees ont été prises dans des conditions différentes de celles de la partie 2. Il faudra donc bien recalculer les master darks et le master flat correspondants !\n",
    "\n",
    "- Attention au temps de pose des darks !\n",
    "\n",
    "- N'oubliez pas de diviser le flat par le corps noir contenu dans la variable CN4000K !\n",
    "\n",
    "- N’oubliez pas d’enregistrer vos résultats (notamment MASTER FLAT et MASTER DARKS). \n",
    "\n"
   ]
  },
  {
   "cell_type": "code",
   "execution_count": null,
   "id": "c3b37038-c27e-4f21-a65f-d463742ee530",
   "metadata": {},
   "outputs": [],
   "source": [
    "# CODE A COMPLETER : calcul des master darks\n"
   ]
  },
  {
   "cell_type": "code",
   "execution_count": null,
   "id": "7632b0a1-134b-4659-b37c-a31b065b22d2",
   "metadata": {},
   "outputs": [],
   "source": [
    "# CODE A COMPLETER : calcul du master flat\n"
   ]
  },
  {
   "cell_type": "code",
   "execution_count": null,
   "id": "ad8442bc-b7a0-4d84-bbdf-8e9ab414a5a5",
   "metadata": {},
   "outputs": [],
   "source": [
    "# CODE A COMPLETER : calcul des spectres stellairs moyens\n"
   ]
  },
  {
   "cell_type": "code",
   "execution_count": null,
   "id": "e924a240-e1b1-4998-826e-cf2d3f04bb1f",
   "metadata": {},
   "outputs": [],
   "source": [
    "# CODE A COMPLETER : calcul des spectres réduits\n"
   ]
  },
  {
   "cell_type": "markdown",
   "id": "25edc527-2a37-46e0-b2ee-795163c77c98",
   "metadata": {},
   "source": [
    "**b) Complétez le code ci-dessous pour affichez les 5 spectres sur un même graphique. Faites en sorte qu’ils aient environ le même niveau en les normalisant par leur moyenne. Enregistrez ce graphique sous le nom nom_prenom_Q4_WIEN_ETOILES.png**"
   ]
  },
  {
   "cell_type": "code",
   "execution_count": null,
   "id": "5d4cfa1f-5a4d-4312-a61e-076ac1197d56",
   "metadata": {},
   "outputs": [],
   "source": [
    "# CODE A COMPLETER: affichage des spectres normalisés\n"
   ]
  },
  {
   "cell_type": "markdown",
   "id": "9eff0575-a501-481f-b57a-f2f15afa99e2",
   "metadata": {
    "tags": []
   },
   "source": [
    "##### **Question 29 (2pt) :**\n",
    "À partir des spectres de chaque étoile, identifiez $\\lambda_{max}$ et calculez leurs températures $T_{Wien}$ en utilisant la loi de Wien. Décrivez bien votre méthode de calcul, et utilisez le tableau 1 ci-dessous pour résumer vos résultats (double-cliquez dessus afin de modifier les valeurs)."
   ]
  },
  {
   "cell_type": "markdown",
   "id": "0e393197",
   "metadata": {},
   "source": [
    "> <font color='green'> Répondre ici : \n",
    "    \n",
    "\n",
    "| Etoile                         | Tsih    | Sirius | Capella | Aldébaran | Bételgeuse |\n",
    "| ---                            | ---     | ---    | ---     | ---       | ---        |\n",
    "| $\\lambda _{max}$ (nm)          |         |        |         |           |            |\n",
    "| $T _{Wien}$ (K)                |         |        |         |           |            |\n",
    "    "
   ]
  },
  {
   "cell_type": "markdown",
   "id": "27b93392-43f9-4622-881d-e3c984312b33",
   "metadata": {
    "tags": []
   },
   "source": [
    "##### **Question 30 (1pt) :**\n",
    "À l'aide de la table des types spectraux et des courbes de corps noir données en partie 2 (fig. 2.1 et 2.2), déterminez le type spectral de chaque étoile à partir de la température estimée précédemment. Entrez vos résultats dans la ligne 'type de spectre' du tableau ci-dessous."
   ]
  },
  {
   "cell_type": "markdown",
   "id": "ef581d61",
   "metadata": {},
   "source": [
    "> <font color='green'> Répondre ici :\n",
    "    \n",
    "\n",
    "| Etoile                         | Tsih    | Sirius | Capella | Aldébaran    | Bételgeuse |\n",
    "| ---                            | ---     | ---    | ---     | ---          | ---        |\n",
    "| $\\lambda _{max}$ (nm)          |         |        |         |              |            |\n",
    "| $T _{Wien}$ (K)                |         |        |         |              |            |\n",
    "| Type de spectre                |         |        |         |              |            |\n",
    "    "
   ]
  },
  {
   "cell_type": "markdown",
   "id": "ff92ac80-6fdb-4e3a-8c51-aaf6dbfb9992",
   "metadata": {
    "tags": []
   },
   "source": [
    "##### **Question 31 (1pt) :**\n",
    "Le code ci-dessous permet de comparer vos spectres à ceux des spectres typiques d'étoiles (dans le dossier \"calib/Etoiles\"). Compléter le code ci-dessous afin d'afficher l'un de vos spectres normalisés et comparer ce spectre avec les étoiles de référence.\n",
    "\n",
    "Faites la comparaison uniquement entre 400 et 800 nm, là ou le spectromètre PSL est utilisable. Déduisez-en une autre estimation de la température et du type spectral de l'étoile.\n",
    "Résumez vos résultats dans les lignes 'type de spectre (comparison)' et '$T_{est}$' du tableau ci-dessous."
   ]
  },
  {
   "cell_type": "code",
   "execution_count": null,
   "id": "b7ec2a29-84b3-4644-aef0-345e44f29c03",
   "metadata": {},
   "outputs": [],
   "source": [
    "plt.figure() \n",
    "\n",
    "# CODE A COMPLETER : affichage de l'un de vos spectres\n",
    "plt.plot(wave, betelgeuse_normalise, label='Aldebaran normalisé')\n",
    "######################################################################################################################\n",
    "\n",
    "# étoiles de références (code déjà complet)\n",
    "ref_star_list = os.listdir('./Data_TP_CPES2/calib/Etoiles/') # liste des fits \n",
    "for file in ref_star_list:\n",
    "    # chargement du fits\n",
    "    star = fits.open('./Data_TP_CPES2/calib/Etoiles/'+file)[1]\n",
    "    spectra = star.data['FLUX']\n",
    "    spectra /= np.mean(spectra) # normalisation\n",
    "    star_wave = star.data['WAVELENGTH'] / 10 # convert to nm\n",
    "    # affichage\n",
    "    plt.plot(star_wave,spectra,label=file,lw=0.5)\n",
    "    \n",
    "plt.xlabel(f'$\\lambda$ [nm]')\n",
    "plt.ylabel(f'Flux')\n",
    "plt.legend()\n",
    "plt.title('Comparaison avec les étoiles de référence')\n"
   ]
  },
  {
   "cell_type": "markdown",
   "id": "0fc0d609",
   "metadata": {},
   "source": [
    "> <font color='green'> Répondre ici :  \n",
    "\n",
    "| Etoile                         | Tsih    | Sirius | Capella | Aldébaran    | Bételgeuse |\n",
    "| ---                            | ---     | ---    | ---     | ---          | ---        |\n",
    "| $\\lambda _{max}$ (nm)          |         |        |         |              |            |\n",
    "| $T _{Wien}$ (K)                |         |        |         |              |            |\n",
    "| Type de spectre                |         |        |         |              |            |\n",
    "| Type de spectre (comparaison)  |         |        |         |              |            |\n",
    "| $T_{est}$ (K)                  |         |        |         |              |            |"
   ]
  },
  {
   "cell_type": "markdown",
   "id": "c933c8bd-0846-4d91-b4f3-499e84cb3126",
   "metadata": {
    "tags": []
   },
   "source": [
    "## **4 - Mesures des profils de raies stellaires**"
   ]
  },
  {
   "cell_type": "markdown",
   "id": "967907f0-bc92-44c0-b3b7-24b0842885a9",
   "metadata": {},
   "source": [
    "La forme des raies stellaires permet d'étudier les conditions de température et de pression\n",
    "dans les atmosphères stellaires. La qualité des mesures et la résolution spectroscopique est ici\n",
    "beaucoup trop faible pour faire une étude avancée. Néanmoins, il est possible de faire un certain\n",
    "nombre de remarques intéressantes.\n",
    "\n",
    "Nous allons nous focaliser sur une raie centrée autour de 650 nm visible sur les étoiles Tsih\n",
    "(25 000 K), Zeta Tau (22 000K), Sirius (9900 K), Alcyone (13 000K) et Eta Cassiopée (5700 K).\n",
    "\n",
    "la cellule suivante va charger les spectres de chaque étoile contenus dans le dossier \"Partie_4_\" dans un nouveau dictionnaire \"donnees_4\" et les afficher. \n",
    "\n",
    "**Ces spectres ont déjà été réduits et étalonnés, et sont normalisés aux mêmes flux autour de la raie intéressante.**"
   ]
  },
  {
   "cell_type": "code",
   "execution_count": null,
   "id": "464a86f3-2067-4fb8-ab3d-0eaedb75b555",
   "metadata": {},
   "outputs": [],
   "source": [
    "# Chargement des spectres du dossier \"Partie4-5\"\n",
    "\n",
    "# list des fichiers fits à charger\n",
    "file_list_4 = [name for name in os.listdir('./Data_TP_CPES2/Partie_4/') if '.fits' in name]\n",
    "\n",
    "# remplissage du dictionnaire avec les fits chargés\n",
    "donnees_4 = {}\n",
    "for file in file_list_4:\n",
    "    star_fits = fits.open('./Data_TP_CPES2/Partie_4/'+file)[0]\n",
    "    donnees_4[file] = star_fits\n",
    "    \n",
    "# récupération de l'échelle en longueur d'onde\n",
    "ref_px = star_fits.header[\"CRPIX1\"] # Ref pixel nb\n",
    "lref   = star_fits.header[\"CRVAL1\"] # wavelength value at ref pixel\n",
    "step   = float(star_fits.header[\"CD1_1\"])  # step in nm btw each pixel\n",
    "nb     = star_fits.header[\"NAXIS1\"] # tot nb of pixels\n",
    "lmin   = lref-ref_px*step # wavelength of first pixel\n",
    "wave_part5 = np.linspace(lmin,lmin+nb*step,nb)\n",
    "\n",
    "# Affichage des spectres\n",
    "plt.figure()\n",
    "for star_name,star_fits in donnees_4.items():\n",
    "    plt.plot(wave_part5,star_fits.data,label=star_name)\n",
    "    \n",
    "plt.xlabel(f'$\\lambda$ [nm]')\n",
    "plt.ylabel('Flux')\n",
    "plt.legend()\n",
    "plt.title('Comparaison des raies')    \n"
   ]
  },
  {
   "cell_type": "markdown",
   "id": "c642c161-de40-44d9-9145-2ccb528b50a5",
   "metadata": {
    "tags": []
   },
   "source": [
    "##### **Question 32 (1pt) :**\n",
    "Mesurez la position de la raie sur votre graphique. \n",
    "<br>\n",
    "À quelle longueur d'onde se situe cette raie exactement ? \n",
    "<br>\n",
    "À quel élément cela correspond-il ? À quelle longueur d'onde théorique devrait se situer cette raie ?"
   ]
  },
  {
   "cell_type": "markdown",
   "id": "b4e67c6a-d917-49d5-a2b3-e563fe074fb1",
   "metadata": {
    "tags": []
   },
   "source": [
    "> <font color='green'> Répondre ici :"
   ]
  },
  {
   "cell_type": "markdown",
   "id": "a0de98db-aee6-4e9d-aca2-162045077efa",
   "metadata": {},
   "source": [
    "Nous allons utiliser uniquement la partie du spectre située entre 645 nm et 665 nm. Pour cela, nous allons créer un **masque** avec *numpy* permettant de sélectionner les spectres uniquement dans cette région. Un masque s'applique simplement à un vecteur de données en l'ajoutant sous la forme [masque] (entre crochets) après les données, comme dans l'exemple ci-dessous :"
   ]
  },
  {
   "cell_type": "code",
   "execution_count": null,
   "id": "c752d82a-403e-4576-89ea-80b0c5c234cb",
   "metadata": {},
   "outputs": [],
   "source": [
    "masque = np.logical_and(wave_part5 > 645, wave_part5 < 665) # création du masque : permet de ne sélectionner que les données aux longueurs d'ondes entre 645 et 665nm\n",
    "\n",
    "# Affichage des spectres\n",
    "plt.figure()\n",
    "for star_name,star_fits in donnees_4.items():\n",
    "    # en ajoutant [masque] après le vecteur des longueurs d'ondes et des données, on ne sélectionne que les données vérifiant la condition du masque\n",
    "    plt.plot(wave_part5[masque],star_fits.data[masque],label=star_name) \n",
    "    \n",
    "plt.xlabel(f'$\\lambda$ [nm]')\n",
    "plt.ylabel('Flux')\n",
    "plt.legend()\n",
    "plt.title('Comparaison des raies entre 645 et 665nm')   \n"
   ]
  },
  {
   "cell_type": "markdown",
   "id": "63c852e1-2516-4746-9927-f673da57722e",
   "metadata": {},
   "source": [
    "On voit dans le graphique ci-dessus que le continuum n'est pas constant, mais penché. Pour la suite, nous aurons besoin de redresser le continuum horizontalement à 1. Pour ce faire, la cellule ci-dessous vous permet de réaliser un ajustement du continuum, c'est-à-dire de trouver une fonction (une simple droite dans le cas présent) dont la forme se rapproche raisonnablement du continuum afin de le ramener à 1 par une division. **Executez simplement la cellule sans la modifier.**"
   ]
  },
  {
   "cell_type": "code",
   "execution_count": null,
   "id": "b2bb510d-f927-4b8d-813f-3042eefde99b",
   "metadata": {
    "tags": []
   },
   "outputs": [],
   "source": [
    "# Affichage des spectres\n",
    "fig = plt.figure()\n",
    "for star_name,star_fits in donnees_4.items():\n",
    "    # en ajoutant [masque] après le vecteur des longueurs d'ondes et des données, on ne sélectionne que les données vérifiant la condition du masque\n",
    "    plt.plot(wave_part5[masque],star_fits.data[masque],label=star_name) \n",
    "    \n",
    "plt.xlabel(f'$\\lambda$ [nm]')\n",
    "plt.ylabel('Flux')\n",
    "plt.legend()\n",
    "plt.title('Comparaison des raies entre 645 et 665nm')\n",
    "\n",
    "# coordonnées des 2 points\n",
    "X1 = None\n",
    "X2 = None\n",
    "continuum_fit = None\n",
    "\n",
    "# fonctions gérant l'évenement 'button_click'\n",
    "def firstclick(event):\n",
    "    global fig, cid, X1\n",
    "    # get the coordinate\n",
    "    X1 = [event.xdata, event.ydata]\n",
    "    fig.canvas.draw()\n",
    "    fig.canvas.flush_events()\n",
    "    # add a \"+\" on the position\n",
    "    plt.plot(X1[0],X1[1],'k+',markersize=15)\n",
    "    # Bind the button_press_event with the secondclick() method\n",
    "    fig.canvas.mpl_disconnect(cid)\n",
    "    cid = fig.canvas.mpl_connect('button_press_event', secondclick )\n",
    "\n",
    "def secondclick(event):\n",
    "    global fig, cid, X2, continuum_fit, wave_part5, masque\n",
    "    # get the coordinate\n",
    "    X2 = [event.xdata, event.ydata]\n",
    "    # add a \"+\" on the position\n",
    "    plt.plot(X2[0],X2[1],'k+',markersize=15)\n",
    "    # compute and plot the fit\n",
    "    f = interp1d([X1[0],X2[0]],[X1[1],X2[1]], bounds_error=False,fill_value='extrapolate')\n",
    "    continuum_fit = f(wave_part5)[masque]\n",
    "    plt.plot(wave_part5[masque],continuum_fit,'k-',label='Continuum fit')\n",
    "    plt.legend()\n",
    "    fig.canvas.draw()\n",
    "    fig.canvas.flush_events()\n",
    "    # Empty the event connection\n",
    "    fig.canvas.mpl_disconnect(cid)\n",
    "    \n",
    "    \n",
    "# Bind the button_press_event with the firstclick() method. cid is the id of the connection, usefull for deconnecting purpose\n",
    "cid = fig.canvas.mpl_connect('button_press_event', firstclick )\n"
   ]
  },
  {
   "cell_type": "markdown",
   "id": "5904bd40-f365-4509-b9dc-383389d189ca",
   "metadata": {},
   "source": [
    "**Dans la figure ci-dessus,** cliquez sur les deux extremités du continuum. Vous verrez alors apparaître une droite reliant ces deux points : il s'agit du fit de votre continuum.\n",
    "\n",
    "**Remarque :** vous pouvez relancer la cellule au dessus de la figure pour recommencer la sélection avec deux nouveaux points et refaire votre fit en cas de fausse manip."
   ]
  },
  {
   "cell_type": "markdown",
   "id": "ce25a3da-b8b5-4b97-afc3-52b3d1486c25",
   "metadata": {},
   "source": [
    "Nous avons maintenant un fit linéaire représentant de façon satisfaisante le continuum entre 645 et 665nm.<br> **Complétez le code ci-dessous** pour diviser chaque spectre par ce fit linéaire afin de ramener le continuum à 1 :"
   ]
  },
  {
   "cell_type": "code",
   "execution_count": null,
   "id": "0c64137c-6666-4577-80d3-7091a7d3e773",
   "metadata": {},
   "outputs": [],
   "source": [
    "# Récupération des spectres d'étoiles dans différentes variables : ne pas oublier le [masque] pour ne sélectionner que la région d'intérêt\n",
    "Zeta_Tau_spectra = donnees_4['Zeta_Tau.fits'].data[masque]\n",
    "Tsih_spectra     = donnees_4['Tsih.fits'    ].data[masque]\n",
    "Sirius_spectra   = donnees_4['Sirius.fits'  ].data[masque]\n",
    "Alcyone_spectra  = donnees_4['Alcyone.fits' ].data[masque]\n",
    "Eta_Cas_spectra  = donnees_4['Eta_Cas.fits' ].data[masque]\n",
    "\n",
    "# CODE A COMPLETER: ramener le continuum à 1 en utilisant le fit lineair \"continuum_fit\"\n",
    "\n",
    "\n",
    "\n",
    "######################################################\n",
    "\n",
    "# Affichage\n",
    "plt.figure()\n",
    "plt.plot(wave_part5[masque],Zeta_Tau_spectra,label='Zeta_Tau')\n",
    "plt.plot(wave_part5[masque],Sirius_spectra,label='Sirius')\n",
    "plt.plot(wave_part5[masque],Alcyone_spectra,label='Alcyone')\n",
    "plt.plot(wave_part5[masque],Eta_Cas_spectra,label='Eta_Cas')\n",
    "plt.plot(wave_part5[masque],Tsih_spectra,label='Tsih')\n",
    "plt.xlabel(f'$\\lambda$')\n",
    "plt.ylabel('Flux')\n",
    "plt.legend()\n"
   ]
  },
  {
   "cell_type": "markdown",
   "id": "4206a520-2ef5-4309-9745-d22592df6d5c",
   "metadata": {},
   "source": [
    "Notre objectif est de trouver, pour chaque raie, si la forme de celle-ci se rapproche plus d'une gaussienne ou d'une lorentzienne, afin d'en déduire des propriétées physiques sur l'hydrogène dans ces étoiles. Pour cela, nous devons ramener notre continuum à 0 et ramener à 1 le maximum des raies en émission et à -1 le minimum des raies en absorption. Ceci nous permettra de comparer directement la forme des raies entre elles."
   ]
  },
  {
   "cell_type": "markdown",
   "id": "57f93702-60f0-4904-a32e-a707fb3affba",
   "metadata": {},
   "source": [
    "Pour ce faire, nous allons d'abord soustraire 1 à nos courbes afin de ramener le continuum à 0 :"
   ]
  },
  {
   "cell_type": "code",
   "execution_count": null,
   "id": "6cbf939b-5cc7-4098-ab10-f4da0ec573ea",
   "metadata": {},
   "outputs": [],
   "source": [
    "# Division du spectre par le maximum/minimum de la raie :\n",
    "Zeta_Tau_spectra = Zeta_Tau_spectra - 1\n",
    "Tsih_spectra     = Tsih_spectra     - 1\n",
    "Sirius_spectra   = Sirius_spectra   - 1 \n",
    "Alcyone_spectra  = Alcyone_spectra  - 1\n",
    "Eta_Cas_spectra  = Eta_Cas_spectra  - 1 \n",
    "######################################################\n",
    "\n",
    "# Affichage\n",
    "plt.figure()\n",
    "plt.plot(wave_part5[masque],Zeta_Tau_spectra,label='Zeta_Tau')\n",
    "plt.plot(wave_part5[masque],Sirius_spectra,label='Sirius')\n",
    "plt.plot(wave_part5[masque],Alcyone_spectra,label='Alcyone')\n",
    "plt.plot(wave_part5[masque],Eta_Cas_spectra,label='Eta_Cas')\n",
    "plt.plot(wave_part5[masque],Tsih_spectra,label='Tsih')\n",
    "plt.xlabel(f'$\\lambda$')\n",
    "plt.ylabel('Flux')\n",
    "plt.legend()\n"
   ]
  },
  {
   "cell_type": "markdown",
   "id": "e29f8953-df8e-4cc6-a2fd-13c4141df665",
   "metadata": {},
   "source": [
    "Nous divisons ensuite chaque courbe par le maximum de sa valeur absolue, ce qui permet d'obtenir des raies dont le maximum est à 1 pour les raies en émission et à -1 pour les raies en absorption.\n",
    "\n",
    "**Complétez le code ci-dessous afin que chaque raie ait son maximum/minimum à 1 ou -1.**"
   ]
  },
  {
   "cell_type": "code",
   "execution_count": null,
   "id": "981d959f-7fa6-4692-849f-a8092d779b3d",
   "metadata": {},
   "outputs": [],
   "source": [
    "# CODE A COMPLETER\n",
    "\n",
    "\n",
    "\n",
    "######################################################\n",
    "\n",
    "# Affichage\n",
    "plt.figure()\n",
    "plt.plot(wave_part5[masque],Zeta_Tau_spectra,label='Zeta_Tau')\n",
    "plt.plot(wave_part5[masque],Sirius_spectra,label='Sirius')\n",
    "plt.plot(wave_part5[masque],Alcyone_spectra,label='Alcyone')\n",
    "plt.plot(wave_part5[masque],Eta_Cas_spectra,label='Eta_Cas')\n",
    "plt.plot(wave_part5[masque],Tsih_spectra,label='Tsih')\n",
    "plt.xlabel(f'$\\lambda$')\n",
    "plt.ylabel('Flux')\n",
    "plt.legend()\n"
   ]
  },
  {
   "cell_type": "markdown",
   "id": "e1b4ae1a-b952-4648-bdc1-f41f4225cee7",
   "metadata": {
    "tags": []
   },
   "source": [
    "##### **Question 33 (1pt):**\n",
    "Comparez la forme des 2 raies en absorption. Ont-elles la même largeur à mi-hauteur ?"
   ]
  },
  {
   "cell_type": "markdown",
   "id": "33446a6e-6c4d-45a0-be0a-6268ea1ff74a",
   "metadata": {
    "tags": []
   },
   "source": [
    "> <font color='green'> Répondre ici :"
   ]
  },
  {
   "cell_type": "markdown",
   "id": "375c57e6-d441-49e2-9a6b-c4f601a74104",
   "metadata": {
    "tags": []
   },
   "source": [
    "##### **Question 34 (1pt) :**\n",
    "Le code ci-dessous va nous permettre d'ajuster chaque raie avec un profil gaussien et un profil lorentzien : executez la cellule ci-dessous sans la modifier. "
   ]
  },
  {
   "cell_type": "code",
   "execution_count": null,
   "id": "b610971a-6adc-4da9-9f19-e5847b233ce9",
   "metadata": {},
   "outputs": [],
   "source": [
    "# Définition du modèle gaussien :\n",
    "def gauss(x, *p):\n",
    "    A, mu, sigma = p\n",
    "    return A*np.exp(-(x-mu)**2/(2.*sigma**2))\n",
    "\n",
    "# Défintion du modèle Lorentzien :\n",
    "def lorentzian(x, *p):\n",
    "    A, mu, gam = p\n",
    "    return (A/np.pi) * (gam/2) / ( (gam/2)**2 + ( x - mu )**2)\n",
    "\n",
    "\n",
    "class do_fit:\n",
    "    \n",
    "    def __init__(self,xdata,ydata,name):\n",
    "        self.xdata = np.copy(xdata)\n",
    "        self.ydata = np.copy(ydata)\n",
    "        self.name  = name\n",
    "\n",
    "        # Affichage du spectre\n",
    "        fig = plt.figure()\n",
    "\n",
    "        plt.plot(xdata,ydata,label=name)    \n",
    "        plt.xlabel(f'$\\lambda$ [nm]')\n",
    "        plt.ylabel('Flux')\n",
    "        plt.legend()\n",
    "\n",
    "        self.titles = [\n",
    "        'Cliquez sur le continuum : gauche',\n",
    "        'Cliquez sur le continuum : droite',\n",
    "        'Cliquez sur la raie à mi-hauteur : gauche',\n",
    "        'Cliquez sur la raie à mi-hauteur : droite',\n",
    "        'Cliquez sur le max/min de la raie',\n",
    "        name]\n",
    "        \n",
    "        # coordonnées des 5 points\n",
    "        self.X = []\n",
    "        self.k = 0\n",
    "        plt.title(self.titles[self.k])\n",
    "        \n",
    "        # Bind the button_press_event with the firstclick() method. cid is the id of the connection, usefull for deconnecting purpose\n",
    "        self.cid = fig.canvas.mpl_connect('button_press_event', self.click )\n",
    "        \n",
    "    # fonctions gérant l'évenement 'button_click'\n",
    "    def click(self,event):\n",
    "        # get the coordinate\n",
    "        self.k+=1      \n",
    "        plt.title(self.titles[self.k])  \n",
    "        self.X.append([event.xdata, event.ydata])\n",
    "        fig.canvas.draw()\n",
    "        fig.canvas.flush_events()\n",
    "        # add a \"+\" on the position\n",
    "        plt.plot(self.X[-1][0],self.X[-1][1],'k+',markersize=15)\n",
    "          \n",
    "        # Disconnect event and plot the Gaussian fit when 5 points have been selected\n",
    "        if len(self.X)>=5:\n",
    "            fig.canvas.mpl_disconnect(self.cid)\n",
    "            # re-normalise continuum of the specific line\n",
    "            f = interp1d([self.X[0][0],self.X[1][0]],[self.X[0][1],self.X[1][1]], bounds_error=False,fill_value='extrapolate')\n",
    "            continuum_fit = f(self.xdata)+1\n",
    "            \n",
    "            self.ydata = ((self.ydata+1) / continuum_fit) - 1\n",
    "            # compute sigma using FWHM\n",
    "            self.fwhm = np.abs(self.X[2][0] - self.X[3][0])\n",
    "            self.sigma = self.fwhm / 2.355\n",
    "            # get the mu value (center of gaussian)\n",
    "            self.mu = self.X[4][0]\n",
    "            # get the amplitude\n",
    "            self.A  = self.X[4][1]\n",
    "            \n",
    "            # replot figure\n",
    "            plt.clf()\n",
    "            plt.plot(self.xdata,self.ydata,label=self.name)\n",
    "            \n",
    "            # use scipy for gaussian fit\n",
    "            self.coeff_G, self.var_matrix_G = curve_fit(gauss, self.xdata, self.ydata, p0=[self.A,self.mu,self.sigma])\n",
    "            # plot the gaussian fit\n",
    "            plt.plot(self.xdata,gauss(self.xdata,*self.coeff_G),'r--',\n",
    "                     label=f'Gaussian fit : FWHM = {self.coeff_G[-1]*2.355:.2f}$\\pm${np.sqrt(np.diag(self.var_matrix_G)[-1])*2.355:.2f}')\n",
    "\n",
    "            # use scipy for lorentz fit\n",
    "            self.coeff_L, self.var_matrix_L = curve_fit(lorentzian, self.xdata, self.ydata, p0=[self.A,self.mu,self.fwhm])\n",
    "            # plot the gaussian fit\n",
    "            plt.plot(self.xdata,lorentzian(self.xdata,*self.coeff_L),'g--',\n",
    "                     label=f'Lorentzian fit : FWHM = {self.coeff_L[-1]:.2f}$\\pm${np.sqrt(np.diag(self.var_matrix_L)[-1]):.2f}')\n",
    "\n",
    "            plt.legend()\n",
    "            fig.canvas.draw()\n",
    "            fig.canvas.flush_events()\n",
    "            \n"
   ]
  },
  {
   "cell_type": "markdown",
   "id": "3aa56846-b82f-43da-8b0e-db9688b2c57d",
   "metadata": {},
   "source": [
    "Grâce à la cellule ci-dessus, nous avons maintenant une fonction \"do_fit()\" permettant d'ajuster une Gaussienne et une Lorentzienne sur un spectre. Pour cela, il suffit d'appeler la fonction avec comme argument le spectre ainsi que le nom de l'étoile. En lançant la fonction, on obtient une figure sur laquelle il faut cliquer en 5 points dans l'ordre suivant :\n",
    "\n",
    "- 1er point : sur le continuum à gauche\n",
    "- 2nd point : sur le continuum à droite\n",
    "- 3e  point : sur la raie, à mi-hauteur, à gauche\n",
    "- 4e  point : sur la raie, à mi-hauteur, à droite\n",
    "- 5e  point : sur le maximum/minimum de la raie en émission/absorption\n",
    "\n",
    "**Pour chacune des cellules ci-dessous : executez la cellule, et cliquez sur la figure afin d'indiquer à la fonction les 5 points à prendre en compte pour le fit. Veillez à bien respecter l'ordre de sélection de ces 5 points !**"
   ]
  },
  {
   "cell_type": "code",
   "execution_count": null,
   "id": "00a3d10c-2d00-43ac-89b2-9ec3c79a4d54",
   "metadata": {},
   "outputs": [],
   "source": [
    "Sirius_fit = do_fit(wave_part5[masque],Sirius_spectra,\"Sirius\")\n"
   ]
  },
  {
   "cell_type": "code",
   "execution_count": null,
   "id": "136ca4f8-d133-482c-b786-c2e240a9972a",
   "metadata": {
    "tags": []
   },
   "outputs": [],
   "source": [
    "Eta_Cas_fit = do_fit(wave_part5[masque],Eta_Cas_spectra,\"Eta Cas\")\n"
   ]
  },
  {
   "cell_type": "markdown",
   "id": "69956e03-b0bc-44db-9ed0-51b0eaf6d461",
   "metadata": {},
   "source": [
    "Ces deux raies en absorption ont elles un profil de type Lorentzien ? Gaussien ? Quelle est la largeur à mi-hauteur estimée par la fonction (FWHM, dans la légende de la figure) ?"
   ]
  },
  {
   "cell_type": "markdown",
   "id": "1307d662-f8c0-4556-b683-58113eb3558c",
   "metadata": {
    "tags": []
   },
   "source": [
    "> <font color='green'> Répondre ici :"
   ]
  },
  {
   "cell_type": "markdown",
   "id": "2b0158e2-8237-4610-99d8-d3b599d6f28e",
   "metadata": {
    "tags": []
   },
   "source": [
    "##### **Question 35 (1pt) :**\n",
    "Le profil Lorentzien d'une raie provient des effets de collisions des atomes dans l'atmosphère de l'étoile. Le profil Lorentzien s'élargit à mesure qu'il y a plus de collisions. Ces collisions sont générées par une augmentation de la température. Cela est-il cohérent avec ce que vous observez ?"
   ]
  },
  {
   "cell_type": "markdown",
   "id": "916a86f1-a225-49ce-b90d-c25892a177f4",
   "metadata": {
    "tags": []
   },
   "source": [
    "> <font color='green'> Répondre ici :"
   ]
  },
  {
   "cell_type": "markdown",
   "id": "a0aaa72a-33a2-47e4-9ae4-a0cd90099ae3",
   "metadata": {
    "tags": []
   },
   "source": [
    "## **5 - Les étoiles de type Be ou étoile B à raie d'émission**"
   ]
  },
  {
   "cell_type": "markdown",
   "id": "1dab2c11-79d4-46f2-b12d-a227c9c628fc",
   "metadata": {},
   "source": [
    "Les étoiles Be sont des étoiles de type B - donc chaudes (température de 10000 à 30000K)\n",
    "dont le spectre a montré au moins une fois une raie en émission, généralement une raie de Balmer.\n",
    "Ces raies en émission peuvent se présenter sous différentes formes. Elles proviennent d'un disque\n",
    "équatorial dont l'émission s'ajoute au spectre d'absorption de la photosphère de l'étoile.\n",
    "L'étoile centrale de type B émet notamment dans l'Ultra-Violet et ionise ce disque qui ré-\n",
    "émet l'énergie à de plus grandes longueurs d'onde comme dans le domaine visible. La même étoile\n",
    "Be peut avoir un profil spectral variable selon l'angle d'observation de ce disque (Figure 6). Ces\n",
    "émissions peuvent être accompagnées d'un décalage doppler des raies d'émission vers le bleu pour\n",
    "la partie du disque qui se rapproche de nous et vers le rouge pour la partie qui s'éloigne de nous\n",
    "(cf Figure 7)."
   ]
  },
  {
   "cell_type": "markdown",
   "id": "b75ca515-8b5f-459b-901c-e778711e9843",
   "metadata": {},
   "source": [
    "**Figure 6 - Modèle d'une étoile Be classique montrant le type de spectre observé en fonction de l'orientation selon laquelle l'observateur voit le disque d'émission (Kogure & Hirata, 1982).**\n",
    "\n",
    "![alt text](ressources/Be_figure1.png \"Be_figure1\")\n"
   ]
  },
  {
   "cell_type": "markdown",
   "id": "cae8f1ed-b3a1-41f2-9c36-d9c8d270cdd5",
   "metadata": {},
   "source": [
    "**Figure 7 - Modèle d'une étoile Be classique montrant le décalage des raies d'émission de chaque partie du disque observé.**\n",
    "\n",
    "![alt text](ressources/Be_figure2.png \"Be_figure1\")\n"
   ]
  },
  {
   "cell_type": "markdown",
   "id": "d48f093b-8ac5-4ac2-a709-17017bcb25d5",
   "metadata": {
    "tags": []
   },
   "source": [
    "##### **Question 36 (1.5pt) :**\n",
    "Quelles sont les trois étoiles parmi Tsih, Zeta Tau, Sirius, Eta Cassiopée et Alcyone qui correspondent à la définition d'une étoile Be ? Vu la forme des raies et en vous aidant\n",
    "de la Figure 6, pouvez-vous estimer l'orientation dans laquelle nous voyons chacune de ces trois étoiles ?"
   ]
  },
  {
   "cell_type": "markdown",
   "id": "90eb72f7-f13a-42c9-96fa-edad5c46bc11",
   "metadata": {
    "tags": []
   },
   "source": [
    "> <font color='green'> Répondre ici :"
   ]
  },
  {
   "cell_type": "markdown",
   "id": "251f1308-204a-48cf-8f71-6deed127647c",
   "metadata": {
    "tags": []
   },
   "source": [
    "##### **Question 37 (1pt) :**\n",
    "L'une de ces étoiles montre clairement une raie déformée et assez élargie. En comparant la largeur à mi-hauteur de cette raie avec la largeur à mi-hauteur de la raie la plus\n",
    "fine, estimez l'élargissement de la raie en nm. Aidez-vous de la fonction \"do_fit\" pour mesurer plus précisément la largeur à mi-hauteur de chaque raie."
   ]
  },
  {
   "cell_type": "code",
   "execution_count": null,
   "id": "66267652-1d62-4a5b-9d2d-eb3255706ddb",
   "metadata": {},
   "outputs": [],
   "source": [
    "# Code à compléter\n"
   ]
  },
  {
   "cell_type": "markdown",
   "id": "d6ae593d-a941-409d-9ada-da2424af0b66",
   "metadata": {
    "tags": []
   },
   "source": [
    "> <font color='green'> Répondre ici :"
   ]
  },
  {
   "cell_type": "markdown",
   "id": "24c12ff5-4b43-4791-a9fa-1781a289a941",
   "metadata": {
    "tags": []
   },
   "source": [
    "##### **Question 38 (1pt) :**\n",
    "En vous rappelant que le décalage Doppler (pour des vitesses v beaucoup plus petites que la vitesse de la lumière c ) s'écrit $∆λ = λ \\frac{v}{c }$ , déduisez la vitesse maximale sur les\n",
    "bords du disque d'émission."
   ]
  },
  {
   "cell_type": "markdown",
   "id": "bd1857e8-dfc3-479b-a8a2-290b93f632e9",
   "metadata": {
    "tags": []
   },
   "source": [
    "> <font color='green'> Répondre ici :"
   ]
  },
  {
   "cell_type": "markdown",
   "id": "aac4978b-c2d2-454a-b7a8-2eb794361658",
   "metadata": {},
   "source": [
    "## **Conclusion (2pt) :**"
   ]
  },
  {
   "cell_type": "markdown",
   "id": "75d00d02-50bd-40ed-982c-18ff940df872",
   "metadata": {},
   "source": [
    "> <font color='green'> à compléter par l'étudiant"
   ]
  },
  {
   "cell_type": "markdown",
   "id": "e859243c-291c-49bd-84c1-2224aa0b605a",
   "metadata": {
    "tags": []
   },
   "source": [
    "***"
   ]
  },
  {
   "cell_type": "markdown",
   "id": "649f851c-555b-483b-b6d2-e85708f503e2",
   "metadata": {
    "tags": []
   },
   "source": [
    "### **Remise de votre Notebook :**"
   ]
  },
  {
   "cell_type": "markdown",
   "id": "0023bde9-9719-44d6-9568-78d5d95fd70a",
   "metadata": {},
   "source": [
    "Votre notebook fait office de compte-rendus, c'est donc ce fichier qui sera évalué par votre encadrant. \n",
    "\n",
    "**Une fois votre notebook complet, veuillez donc l'enregistrer sous un nom au format \"TP6_CPES2_NOM1_NOM2_NUMMACHINE.ipynb\"**\n",
    "\n",
    "**Veuillez également sauvegarder une version HTML de votre notebook en cliquant sur \"File\" -> \"Save and export as\" > \"HTMl\"**\n",
    "\n",
    "**Pensez bien à indiquer tout les NOMS DE FAMILLES dans le nom des fichiers.**\n",
    "\n",
    "Vous uploaderez ensuite vos fichiers sur le lien suivant: https://share.obspm.fr/s/fESDirJrY6scBTM"
   ]
  },
  {
   "cell_type": "markdown",
   "id": "804e62c7",
   "metadata": {},
   "source": [
    "***"
   ]
  },
  {
   "cell_type": "markdown",
   "id": "b7231fd4",
   "metadata": {},
   "source": [
    "## **Bonus (facultatifs, à explorer à la maison)**"
   ]
  },
  {
   "cell_type": "markdown",
   "id": "063586a5",
   "metadata": {},
   "source": [
    "### **Mesure de la transmission atmosphérique - Comparaison aux données professionnelles**"
   ]
  },
  {
   "cell_type": "markdown",
   "id": "209e94fa",
   "metadata": {},
   "source": [
    "Jusqu'à présent nous n'avons pas pris en compte l'impact de l'atmosphère pour réaliser le master flat. Dans cette partie nous allons réduire le spectre d'une étoile : Capella, afin de déterminer la correction à appliquer pour corriger la transmission atmosphérique : $T_{atmo}$. \n",
    "\n",
    "Pour cela nous allons utiliser un spectre de référence accessible à partir d'un observatoire virtuel."
   ]
  },
  {
   "cell_type": "markdown",
   "id": "ce39fc1a",
   "metadata": {},
   "source": [
    "Nous allons maintenant utiliser un spectre professionnel provenant d'une base de données pour étalonner la transmission atmosphérique.\n",
    "La cellule ci-dessous charge le spectre de réference de Capella sous la variable \"capella_calib\" et avec pour longueurs d'ondes la variable \"wavecalib\". Executez simplement la cellule suivante."
   ]
  },
  {
   "cell_type": "code",
   "execution_count": null,
   "id": "325b1df3",
   "metadata": {},
   "outputs": [],
   "source": [
    "capella_calib = fits.open(\"Data_TP_CPES2/calib/capella_calib_angstrom.fits\")[0]\n",
    "\n",
    "lrefcalib = float(capella_calib.header['CRVAL1']) # longueur d'onde du premier point en angstrom\n",
    "prefcalib = int(capella_calib.header['CRPIX1'])   # pixel de référence\n",
    "nbcalib   = int(capella_calib.header['NAXIS1'])   # nombre de canaux d'échantillonnage\n",
    "stepcalib = float(capella_calib.header['CD1_1'])  # écart entre deux échantillon en angstrom\n",
    "\n",
    "wavecalib = np.linspace(lrefcalib-prefcalib*stepcalib,lrefcalib+(nbcalib-prefcalib)*stepcalib,nbcalib)/10.\n",
    "\n",
    "capella_calib_angstrom = capella_calib.data\n"
   ]
  },
  {
   "cell_type": "markdown",
   "id": "e795a9a9",
   "metadata": {},
   "source": [
    "##### **Question (2.5 pts) :**\n",
    "Afficher le spectre *capella_calib_angstrom*. La résolution du spectre est-elle plus ou moins grande que celle de vos spectres ?\n",
    "<br>\n",
    "**Attention au domaine de longueur d'onde du spectre de calibration qui est différent de celui de vos spectres, ainsi que les unités !**"
   ]
  },
  {
   "cell_type": "code",
   "execution_count": null,
   "id": "0ab47ab4",
   "metadata": {},
   "outputs": [],
   "source": [
    "# CODE A COMPLETER : Afficher le spectre de calibration de capella\n",
    "\n",
    "plt.figure()\n",
    "plt.plot(wavecalib,capella_calib_angstrom,label='capella_calib')\n",
    "plt.ylabel('Flux (erg/cm2/s/Angstrom)')\n",
    "plt.xlabel('Wavelength (nm)')\n",
    "plt.ylim(0.5e-9,4e-9)\n",
    "plt.title('Spectre de Capella de référence')\n",
    "plt.legend()\n"
   ]
  },
  {
   "cell_type": "markdown",
   "id": "5bdbcdda",
   "metadata": {},
   "source": [
    "> <font color='green'> Répondre ici :"
   ]
  },
  {
   "cell_type": "markdown",
   "id": "ab835b61",
   "metadata": {},
   "source": [
    "##### **Question (1 pt) :**\n",
    "Comment peut-on obtenir $T_{atmo}$ à partir de votre spectre réduit et du spectre de calibration ?\n",
    "<br>\n",
    "**Faire valider votre méthodologie par un encadrant.**\n",
    "<br>\n",
    "Calculer puis afficher la transmission atmosphérique $T_{atmo}$ en fonction de la longueur d'onde jusqu'à 750 nm."
   ]
  },
  {
   "cell_type": "code",
   "execution_count": null,
   "id": "e445c4d7",
   "metadata": {},
   "outputs": [],
   "source": [
    "# On fait une interpolation de notre spectre de calibration pour que l'on calcul les points sur notre plage de longueur d'onde.\n",
    "capella_calib_func = interpolate.interp1d(wavecalib,capella_calib_angstrom)\n",
    "\n",
    "# On détermine l'indice du tableau wave le plus proche qui correspond la longueur d'onde 750 nm.\n",
    "# On se limite à 750 nm car le spectre de calibration ne va pas aussi loin en longueur d'onde que nos spectres\n",
    "# et que les données du spectre de référence sont abérrantes au dessus de 750 nm.\n",
    "ind_750 = np.argmin(np.abs(wave-750.))\n",
    "new_capella_calib = capella_calib_func(wave[:ind_750])\n"
   ]
  },
  {
   "cell_type": "code",
   "execution_count": null,
   "id": "84d260d5",
   "metadata": {},
   "outputs": [],
   "source": [
    "# CODE A COMPLETER : Calculer et afficher T_atmo\n",
    "\n",
    "# On normalise le spectre de calibration\n",
    "new_capella_calib_norm = new_capella_calib/np.mean(new_capella_calib)\n",
    "\n",
    "# T_atmo est le rapport entre le spectre observé au sol et le spectre de référence.\n",
    "T_atmo = mean_capella_5s_red_norm[:ind_750]/new_capella_calib_norm\n",
    "\n",
    "plt.figure()\n",
    "plt.plot(wave[:ind_750],T_atmo,label='T_atmo')\n",
    "plt.ylabel('Transmission')\n",
    "plt.xlabel('Wavelength (nm)')\n",
    "plt.title('Transmission atmosphérique')\n",
    "plt.legend()\n"
   ]
  },
  {
   "cell_type": "markdown",
   "id": "d9f163aa",
   "metadata": {},
   "source": [
    "> <font color='green'> Répondre ici :"
   ]
  },
  {
   "cell_type": "markdown",
   "id": "f6a2d728",
   "metadata": {},
   "source": [
    "##### **Question (1.5 pts) :**\n",
    "Commenter la figure obtenue."
   ]
  },
  {
   "cell_type": "markdown",
   "id": "324c28ba",
   "metadata": {},
   "source": [
    "> <font color='green'> Répondre ici :"
   ]
  },
  {
   "cell_type": "markdown",
   "id": "5015752c",
   "metadata": {},
   "source": [
    "### **Comparaison des spectres de Vénus, Mars, Uranus et Jupiter**"
   ]
  },
  {
   "cell_type": "markdown",
   "id": "eaacf216",
   "metadata": {},
   "source": [
    "Vous allez utiliser des observations de Vénus, Mars, Jupiter et Uranus contenues dans le dossier \"Donnees\" pour comparer les albédos de ces planètes. L'albédo est le pouvoir réfléchissant d'une surface, soit le rapport de l'énergie lumineuse réfléchie à l'énergie lumineuse incidente. C'est une grandeur sans dimension.\n",
    "\n",
    "Pour aller plus vite, vous n'utiliserez qu'une seule image pour chaque planète si la qualité des données est suffisante. Vous n'oublierez pas d'y soustraire le DARK correspondant et de diviser par le MASTER FLAT que vous avez déjà calculé dans la partie précédente.\n",
    "\n",
    "Le spectre de Jupiter est dans le répertoire Jupiter_soleil dans lequel vous trouverez également un spectre du Soleil. **Ces deux spectres sont déjà traités** (soustraction d'un MASTER DARK et division par un MASTER FLAT)."
   ]
  },
  {
   "cell_type": "markdown",
   "id": "a86bc880",
   "metadata": {},
   "source": [
    "##### **Question (1pt) :**\n",
    "D'ou provient la lumière que l'on reçoit des planètes ?"
   ]
  },
  {
   "cell_type": "markdown",
   "id": "b9feda59",
   "metadata": {},
   "source": [
    "> <font color='green'> Répondre ici :"
   ]
  },
  {
   "cell_type": "markdown",
   "id": "bf83ea2a",
   "metadata": {},
   "source": [
    "##### **Question (2pt) :**\n",
    "Que proposez-vous pour estimer l'albédo de ces planètes ? L'albédo calculé ne peut l'être qu'à un coefficient multiplicatif près dans notre cas. Pourquoi ?"
   ]
  },
  {
   "cell_type": "markdown",
   "id": "d353b8e0",
   "metadata": {},
   "source": [
    "> <font color='green'> Répondre ici :"
   ]
  },
  {
   "cell_type": "markdown",
   "id": "faac1e1d",
   "metadata": {},
   "source": [
    "##### **Question (2pt) :**\n",
    "On rappelle que tout les fichiers fits ont été chargés dans le tableau *donnees*, et sont donc accessibles via la commande *donnees[\"nom_du_fichier.fits\"]* (en ajoutant un *.data* en fin de ligne pour accèder aux données).\n",
    "\n",
    "Le code ci-dessous est déjà complet et permet de charger le spectre du Soleil dans une variable *soleil_final* et de calculer l'albedo de jupiter dans une variable *jupiter_albedo*. Executez simplement la cellule ci-dessous :"
   ]
  },
  {
   "cell_type": "code",
   "execution_count": null,
   "id": "790f39f5",
   "metadata": {},
   "outputs": [],
   "source": [
    "# chargement des spectres de Jupiter et du Soleil (code déjà complet)\n",
    "jupiter_fits = fits.open('./Data_TP_CPES2/calib/Jupiter_soleil/Spectre_jupiter.fits')[0]\n",
    "soleil_fits  = fits.open('./Data_TP_CPES2/calib/Jupiter_soleil/Spectre_solaire.fits')[0]\n",
    "\n",
    "jupiter_final = jupiter_fits.data\n",
    "soleil_final  = soleil_fits.data\n",
    "\n",
    "jupiter_albedo = jupiter_final / soleil_final\n",
    "jupiter_albedo = jupiter_albedo / np.mean(jupiter_albedo) # normalisation\n",
    "\n",
    "# chargement des longueurs d'ondes correspondantes :\n",
    "ref_px = jupiter_fits.header[\"CRPIX1\"] # Ref pixel nb\n",
    "lref   = jupiter_fits.header[\"CRVAL1\"] # wavelength value at ref pixel\n",
    "step   = jupiter_fits.header[\"CD1_1\"]  # step in nm btw each pixel\n",
    "nb     = jupiter_fits.header[\"NAXIS1\"] # tot nb of pixels\n",
    "lmin   = lref-ref_px*step # wavelength of first pixel\n",
    "wave_jup_sol = np.linspace(lmin,lmin+nb*step,nb)\n",
    "\n",
    "# reinterpolation des spectres de Jupiter et du Soleil sur la même échelle en longueur d'onde que les autres données\n",
    "finterp = interp1d(wave_jup_sol,jupiter_albedo,bounds_error=False,fill_value=np.nan)\n",
    "jupiter_albedo = finterp(wave)\n",
    "\n",
    "finterp = interp1d(wave_jup_sol,soleil_final,bounds_error=False,fill_value=np.inf)\n",
    "soleil_final = finterp(wave)\n"
   ]
  },
  {
   "cell_type": "markdown",
   "id": "95d0dd2c",
   "metadata": {},
   "source": [
    "Complétez les cellules suivantes afin de calculer l'albédo des 4 planètes en divisant les spectres des planètes par le spectre du Soleil fourni (variable *soleil_final*) et en normalisant la moyenne de chaque albédo à 1 entre 450 et 700 nm. Observez-vous plutôt des raies atomiques fines ou des bandes d'absorption moléculaires assez élargies ? Pour quelles planètes ?"
   ]
  },
  {
   "cell_type": "code",
   "execution_count": null,
   "id": "3f690372",
   "metadata": {},
   "outputs": [],
   "source": [
    "# CODE A COMPLETER : calcul de l'albedo de Venus, Mars et Uranus\n",
    "\n",
    "# Venus\n",
    "venus_500ms_list   = [donnees_3[name].data for name in donnees_3.keys() if 'venus_500ms' in name] # liste des données correspondant aux fichiers contenant venus dans leur nom\n",
    "master_venus_500ms = np.mean(venus_500ms_list, axis=0)                                        # moyenne des spectres de venus\n",
    "venus_final        = (master_venus_500ms - master_dark_500ms) / master_flat                   # spectre final obtenu en soustrayant le dark avec le bon temps de pose et en divisant par le master faltmaster \n",
    "\n",
    "venus_albedo       = venus_final / soleil_final\n",
    "venus_albedo       = venus_albedo / np.mean(venus_albedo)                                     # Normalisation\n",
    "\n",
    "# Mars\n",
    "mars_20s_list   = [donnees_3[name].data for name in donnees_3.keys() if 'mars_20s' in name] \n",
    "master_mars_20s = np.mean(mars_20s_list, axis=0)                                        \n",
    "mars_final      = (master_mars_20s - master_dark_20s) / master_flat                   \n",
    "\n",
    "mars_albedo     = mars_final / soleil_final\n",
    "mars_albedo     = mars_albedo / np.mean(mars_albedo)\n",
    "\n",
    "# Uranus\n",
    "uranus_20s_list   = [donnees_3[name].data for name in donnees_3.keys() if 'uranus_20s' in name] \n",
    "master_uranus_20s = np.mean(uranus_20s_list, axis=0)                                        \n",
    "uranus_final      = (master_uranus_20s - master_dark_20s) / master_flat   \n",
    "\n",
    "uranus_albedo     = uranus_final / soleil_final\n",
    "uranus_albedo     = uranus_albedo / np.mean(uranus_albedo)\n"
   ]
  },
  {
   "cell_type": "code",
   "execution_count": null,
   "id": "95e8a14c",
   "metadata": {},
   "outputs": [],
   "source": [
    "# CODE A COMPLETER : affichage de l'albedo des 4 planètes\n",
    "plt.figure()\n",
    "\n",
    "plt.plot(wave,jupiter_albedo,label='Jupiter')\n",
    "# Ajouter les autres planètes ci-dessous #\n",
    "plt.plot(wave,mars_albedo,label='Mars')\n",
    "plt.plot(wave,venus_albedo,label='Venus')\n",
    "plt.plot(wave,uranus_albedo,label='Uranus')\n",
    "##########################################\n",
    "\n",
    "plt.xlabel(f'$\\lambda$ [nm]')\n",
    "plt.ylabel('Flux')\n",
    "plt.legend()\n",
    "plt.title('Comparaison de l\\'albedo relative de differentes planètes')\n"
   ]
  },
  {
   "cell_type": "markdown",
   "id": "0931775f",
   "metadata": {},
   "source": [
    "> <font color='green'> Répondre ici :"
   ]
  },
  {
   "cell_type": "markdown",
   "id": "2f4b1e7e",
   "metadata": {},
   "source": [
    "##### **Question (1pt) :**\n",
    "Les spectres de deux de ces planètes sont présentés sur la figure ci-dessous en comparaison de spectres de nuages et d'océan pour la Terre. À quelles planètes correspondent les planètes n°1 et n°2 de cette figure ?"
   ]
  },
  {
   "cell_type": "markdown",
   "id": "209e5011",
   "metadata": {},
   "source": [
    "**Albédos de planètes.**\n",
    "\n",
    "<img src=\"./ressources/Figure_planetes_rocheuses.png\" width=\"400\" height=\"400\">"
   ]
  },
  {
   "cell_type": "markdown",
   "id": "2cb42efb",
   "metadata": {},
   "source": [
    "> <font color='green'> Répondre ici :"
   ]
  },
  {
   "cell_type": "markdown",
   "id": "aaf2512a",
   "metadata": {},
   "source": [
    "##### **Question (1pt) :**\n",
    "Dans les atmosphères des 2 planètes géantes (Uranus et Jupiter), il y a notamment du dihydrogène, de l'hélium, de l'ammoniac (NH3) et du méthane (CH4). Le code ci-dessous permet de superposer vos spectres avec les listes de raies du dossier \"Raies\". Déterminez quelles espèces parmi les 4 citées ci-dessus observe-t-on dans les spectres des 2 planètes géantes."
   ]
  },
  {
   "cell_type": "code",
   "execution_count": null,
   "id": "b2768e7b",
   "metadata": {},
   "outputs": [],
   "source": [
    "# lecture des listes de raies et remplissage du dictionnaire\n",
    "\n",
    "raies_list = [] # liste contenant les raies du fichier 'PSL.ids' sous la forme ['element','position']\n",
    "\n",
    "with open('./Data_TP_CPES2/calib/Raies/CH4.ids','r') as f:\n",
    "    for line in f.readlines()[10:]:\n",
    "        # skip 10 first lines\n",
    "        try:\n",
    "            elements = line.replace('\\t',' ').replace('*','').split(' ')\n",
    "            element_name = elements[-1].replace('\\n','')\n",
    "            element_pos  = float(elements[0])\n",
    "            raies_list.append([element_name,element_pos]) \n",
    "        except Exception as e:\n",
    "            print(e)\n",
    "            \n",
    "with open('./Data_TP_CPES2/calib/Raies/H_H2_He.ids','r') as f:\n",
    "    for line in f.readlines()[10:]:\n",
    "        # skip 10 first lines\n",
    "        try:\n",
    "            elements = line.replace('\\t',' ').replace('*','').split(' ')\n",
    "            element_name = elements[-1].replace('\\n','')\n",
    "            element_pos  = float(elements[0])/10 # conversion des Angströms en nm\n",
    "            raies_list.append([element_name,element_pos]) \n",
    "        except Exception as e:\n",
    "            print(e)\n",
    "        \n",
    "with open('./Data_TP_CPES2/calib/Raies/NH3.ids','r') as f:\n",
    "    for line in f.readlines()[10:]:\n",
    "        # skip 10 first lines\n",
    "        try:\n",
    "            elements = line.replace('\\t',' ').replace('*','').split(' ')\n",
    "            element_name = elements[-1].replace('\\n','')\n",
    "            element_pos  = float(elements[0])\n",
    "            raies_list.append([element_name,element_pos]) \n",
    "        except Exception as e:\n",
    "            print(e)\n"
   ]
  },
  {
   "cell_type": "code",
   "execution_count": null,
   "id": "f90bb256",
   "metadata": {},
   "outputs": [],
   "source": [
    "# CODE A COMPLETER #\n",
    "\n",
    "plt.figure()\n",
    "\n",
    "# Modifier les ligne ci-dessous pour afficher vos spectres #\n",
    "plt.plot(wave,jupiter_albedo,label='Jupiter')\n",
    "plt.plot(wave,uranus_albedo,label='Uranus')\n",
    "############################################################\n",
    "\n",
    "for element,position in raies_list:\n",
    "    plt.vlines(position,5,0,color='k',lw=0.5)\n",
    "    plt.text(position,0,element,rotation=90)\n",
    "    \n",
    "plt.xlabel(f'$\\lambda$ [nm]')\n",
    "plt.ylabel('Albedo normalisé')\n",
    "plt.title('Albedo de Jupiter et Uranus')\n",
    "plt.legend()\n"
   ]
  },
  {
   "cell_type": "markdown",
   "id": "18f9c92b",
   "metadata": {},
   "source": [
    "> <font color='green'> Répondre ici :"
   ]
  },
  {
   "cell_type": "markdown",
   "id": "ad9f2924",
   "metadata": {},
   "source": [
    "***"
   ]
  }
 ],
 "metadata": {
  "kernelspec": {
   "display_name": "base",
   "language": "python",
   "name": "python3"
  },
  "language_info": {
   "codemirror_mode": {
    "name": "ipython",
    "version": 3
   },
   "file_extension": ".py",
   "mimetype": "text/x-python",
   "name": "python",
   "nbconvert_exporter": "python",
   "pygments_lexer": "ipython3",
   "version": "3.9.7"
  }
 },
 "nbformat": 4,
 "nbformat_minor": 5
}
